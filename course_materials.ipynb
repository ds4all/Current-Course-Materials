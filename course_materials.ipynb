{
 "cells": [
  {
   "cell_type": "markdown",
   "metadata": {},
   "source": [
    "# **&lt;target&gt;.md** Builder  \n",
    "<div style=\"color:red\">\n",
    "This notebook is used to build the contents of a .md file, called &lt;target&gt;.md in this writeup, from the notebook named &lt;source&gt;.ipynb.  &lt;source&gt;.ipynb refers to the current notebook which is a renamed copy of the template.ipynb notebook.  The copy should be renamed so that it matches the name of the &lt;target&gt;.md file.  Thus, &lt;target&gt;.ipynb --> &lt;target&gt;.md if source name = target name.<br><br>\n",
    "Begin by specifying the name of the source and target files at the top of the code cell at the end of the notebook.<br>\n",
    "\n",
    "This notebook contains 2 functional cells.  The first cell, which immediately follows, is a markdown cell containing the contents of &lt;target&gt;.md.  This cell contains a metadata tag 'md.source'.  Use this cell to edit the contents of the &lt;target&gt;.md file.\n",
    "<br><br>\n",
    "The second cell, which is the last cell in this file, is a code cell.  This code block copies the markdown contents from the markdown cell and writes it into the file &lt;target&gt;.md, overwritting any existing content.\n",
    "<br><br>\n",
    "The two cells work together to simplify the process of creating and maintaining the contents of &lt;target&gt;.md.  Edit the contents of the first cell as desired.  Once the edits are complete, **save the notebook**.  Make sure that you have updated the values of \"source\" and \"target\" in the code block.  Then, run the code block to generate or update &lt;target&gt;.md.\n",
    "\n",
    "</div>\n",
    "\n",
    "---\n",
    "<br>"
   ]
  },
  {
   "cell_type": "markdown",
   "metadata": {
    "md.source": true
   },
   "source": [
    "<img align=\"right\" alt=\"DS4ALL Logo\" src=\"images/ds4all_logo_3100x1200.png\" style=\"width:155.00px; margin:10px; \"/><br><p align=\"left\" style='color:blue; font-family:\"Cambria\"; font-size:20pt; margin:0; line-height:0.0; padding-bottom:0; padding-top:0; text-align:left; page-break-after:avoid; font-weight:700; '>AUC <i>DS4ALL</i> Course Materials</p><br>\n",
    "\n",
    "\n",
    "\n",
    "## **Fall 2020**\n",
    "---\n",
    "<br>\n",
    "\n",
    "| ------- Lectures ------- | --------------------------------- Description ---------------------------- | Dev |\n",
    "| :---                     | :---                                                                       | :---: |\n",
    "| [Lecture 00](https://drive.google.com/open?id=13joPPmWLTAqJCo-zUI6cbn0IccWusse9g0En1ts3s94) | Welcome | |\n",
    "| [Lecture 01](https://drive.google.com/open?id=1RJy-AVEBI7gqMWzBzu5CnHb-sDNF5n6f5Pdw2El1kkM) | Introduction | |\n",
    "| [Lecture 02](https://drive.google.com/open?id=1td9AUUfTN1b3vONMbjE3NoMHhUYSilXH-Pj88-t4NvY)| Quantifying Data | |\n",
    "| [Lecture 03](https://drive.google.com/open?id=1yp8tSBwXrzorp3i6yILP7ZIwC8tr69xcflvd4SP9vdk) | Samples and Populations | |\n",
    "| [Lecture 04](https://drive.google.com/open?id=12DhdDRQTDEr1ya9v0YPZzOXWgZj0dI5iXOKSsevjyVQ) | Python & Jupyter | |\n",
    "| [Lecture 04NB01](lectures/basic_md_example.ipynb) | Notebook - Basic Markdown Example | X |\n",
    "| [Lecture 05](https://drive.google.com/open?id=1aiGy14iEP0g83Bn8nKcOfGsE0xv9zsGWFEcOx22a_CQ) | Data Types & Data Structures | |\n",
    "| [Lecture 06](link) | Lecture x Description | |\n",
    "| [Lecture 07](link) | Lecture x Description | |\n",
    "| [Lecture 08](link) | Lecture x Description | |\n",
    "| [Lecture 09](link) | Lecture x Description | |\n",
    "| [Lecture 10](link) | Lecture x Description | |\n",
    "\n",
    "<br>\n",
    "\n",
    "| ------- Homework ------- | --------------------------------- Description ---------------------------- | Dev |\n",
    "| :---                     | :---                                                                       | :---: |\n",
    "| [Homework 01 (D0102)](http://ds4all-jh.auccs.net/hub/user-redirect/git-pull?repo=https://github.com/ds4all/Fa2020&urlpath=lab/tree/Fa2020/assignments/D0102-numeric_prefixes/D0102-numeric_prefixes.ipynb) | Numeric Prefixes | [Dev](../../Course-Materials/Fa2020/assignments/D0102-numeric_prefixes/D0102-numeric_prefixes.ipynb) |\n",
    "| [Homework 0x (D0103)](http://ds4all-jh.auccs.net/hub/user-redirect/git-pull?repo=https://github.com/ds4all/Fa2020&urlpath=lab/tree/Fa2020/assignments/D0103-data_types_and_structures/D0103-data_types_and_structures.ipynb) | Data Types & Data Structures | [Dev](../../Course-Materials/Fa2020/assignments/D0103-data_types_and_structures/D0103-data_types_and_structures.ipynb) |\n",
    "| [Homework 03 (D0002)](http://ds4all-jh.auccs.net/hub/user-redirect/git-pull?repo=https://github.com/ds4all/Fa2020&urlpath=lab/tree/Fa2020/assignments/D0002-twelve_days_of_christmas/D0002-twelve_days_of_christmas.ipynb) | Twelve Days of Christmas | [Dev](../../Course-Materials/Fa2020/assignments/D0002-twelve_days_of_christmas/D0002-twelve_days_of_christmas.ipynb) |\n",
    "\n",
    "<br>\n",
    "\n",
    "| --------- Labs --------- | --------------------------------- Description ---------------------------- | Dev |\n",
    "| :---                     | :---                                                                       | :---: |\n",
    "| [Lab 01](link)      | Lab 01 Description | |\n",
    "| [Lab 0X](link)      | Lab X Description | |\n",
    "| [Lab 0Y](link)      | Lab Y Description | |\n",
    "\n",
    "\n",
    "\n",
    "\n",
    "\n",
    "<br><br><br>\n",
    "<span style=\"color:lightgray\">AUCC –  Data Science for All</span>\n"
   ]
  },
  {
   "cell_type": "markdown",
   "metadata": {},
   "source": [
    "<br><br>\n",
    "\n",
    "---  \n",
    "\n",
    "## Make **&lt;target&gt;.md**\n",
    "<div style=\"color:red\">\n",
    "Run the cell block below to write the contents of the markdown cell above to the file &lt;target&gt;.md.  The existing contents of &lt;target&gt;.md will be overwritten.  Make sure that you have updated the values of \"source\" and \"target\" in the code block.  It is recommended that both \"source\" and \"target\" be set to the same value.\n",
    "</div>\n"
   ]
  },
  {
   "cell_type": "code",
   "execution_count": 2,
   "metadata": {},
   "outputs": [
    {
     "name": "stdout",
     "output_type": "stream",
     "text": [
      "Done.\n",
      "course_materials.ipynb --> course_materials.md\n",
      "Sat Apr 18 21:41:11 2020\n"
     ]
    }
   ],
   "source": [
    "# *** Run this cell to build <target>.md ***\n",
    "jupyterServer = 'ds4all-jh.aucenter.edu'\n",
    "\n",
    "source = 'course_materials'  #the name of the source .ipynb (this file)\n",
    "target = source    #the file name of the target .md file (<target>.md)\n",
    "\n",
    "#The markdown cell in <source>.ipynb containing the contents to be written \n",
    "#to <target>.md. contains a metadata tag 'md.source'.  This tag is used to \n",
    "#search for the cell in the file <source>.ipynb.\n",
    "#Once found, the source tag, which contains the contents of the cell, is read as an\n",
    "#array of strings, one string per line, into a list called 'sourceArray'.  The\n",
    "#sourceArray is then joined to form one continuous string that is then written to\n",
    "#'<target>.md'.\n",
    "\n",
    "import json\n",
    "import time\n",
    "\n",
    "#read in the index.ipynb json data\n",
    "data = json.loads(open(source+'.ipynb', 'r').read())\n",
    "\n",
    "#retrieve the list of cells\n",
    "cells = data['cells']\n",
    "\n",
    "#search for the cell with the '.md.source' metadata tag\n",
    "for cell in cells:    \n",
    "    if 'md.source' in cell['metadata']:\n",
    "        sourceArray = (cell['source'])\n",
    "        break\n",
    "\n",
    "#join the sourceArray to create a single string\n",
    "sourceContent = ''.join(sourceArray)\n",
    "\n",
    "#write the source string to the file index.md\n",
    "outFile = open(target+'.md', 'w')\n",
    "outFile.write(sourceContent)\n",
    "outFile.close()\n",
    "\n",
    "#display a 'Done' messager\n",
    "print('Done.')\n",
    "print(source + '.ipynb --> ' + target + '.md')\n",
    "print(time.ctime())\n",
    "\n",
    "#display the 1st 1000 characters\n",
    "#source[:1000] + ' ...'"
   ]
  },
  {
   "cell_type": "code",
   "execution_count": null,
   "metadata": {},
   "outputs": [],
   "source": []
  }
 ],
 "metadata": {
  "kernelspec": {
   "display_name": "Python 3",
   "language": "python",
   "name": "python3"
  },
  "language_info": {
   "codemirror_mode": {
    "name": "ipython",
    "version": 3
   },
   "file_extension": ".py",
   "mimetype": "text/x-python",
   "name": "python",
   "nbconvert_exporter": "python",
   "pygments_lexer": "ipython3",
   "version": "3.6.8"
  },
  "widgets": {
   "application/vnd.jupyter.widget-state+json": {
    "state": {},
    "version_major": 2,
    "version_minor": 0
   }
  }
 },
 "nbformat": 4,
 "nbformat_minor": 4
}
