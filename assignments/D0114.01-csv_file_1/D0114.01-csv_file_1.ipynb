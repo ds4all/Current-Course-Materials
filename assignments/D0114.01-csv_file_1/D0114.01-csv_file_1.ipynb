{
 "cells": [
  {
   "cell_type": "markdown",
   "metadata": {
    "deletable": false,
    "ds4all": {
     "data": "",
     "problemDesc": "CSV File 1",
     "problemId": "D0114.01",
     "type": "problemStatement"
    },
    "editable": false
   },
   "source": [
    "<img align=\"right\" alt=\"DS4ALL Logo\" src=\"../../images/ds4all_logo.png\" style=\"width:155.00px; margin:10px; \"/><p align=\"left\" style='color:#000; font-family:\"Cambria\"; font-size:16pt; margin:0; line-height:1.0; padding-bottom:0; padding-top:0; text-align:left; page-break-after:avoid; font-weight:700; '>D0114.01 - CSV File 1</p>\n",
    "\n",
    "_JVolcy_\n",
    "<br><br><br>\n",
    "\n",
    "\n",
    "Follow the steps below to create a CSV file of your survey data.  \n",
    "\n",
    "1. Create a new \"Text File\" from the launcher tab as shown in the figure.  If you don't see a launcher tab, create one by clicking the '+' icon circled in the figure.\n",
    "<br><br>\n",
    "<img align=\"middle\" src=\"images/figure1.png\" style=\"width:600px;\">\n",
    "\n",
    "<br>\n",
    "\n",
    "2. Enter your comma-separated data into the text file, being careful not to use commas in your data and not to put extra white spaces in the file.  \n",
    "\n",
    "3. Save your file with any name you wish.  Change the extension from .txt to .csv.  \n",
    "\n",
    "4. Double clicking the CSV file in the file panel on the left should open it in a CSV viewer.  If it doesn't open, check that your CSV file is properly formed (each row has the same # of fields).  \n",
    "<br>\n",
    "\n",
    "Once you are confident that your CSV file is properly formatted.  Add some Python code to the cell below to load and display your table.  Use the `read_table()` and `show()` methods for this purpose.\n",
    "\n",
    "<br><br>\n",
    "<span style=\"color:lightgray\">AUCC –  Data Science for All</span>\n"
   ]
  },
  {
   "cell_type": "code",
   "execution_count": null,
   "metadata": {
    "deletable": false,
    "ds4all": {
     "type": "studentSolution"
    },
    "editable": true
   },
   "outputs": [],
   "source": [
    "from datascience import *\n",
    "import numpy as np\n",
    "%matplotlib inline\n",
    "\n",
    "# Add your code here"
   ]
  }
 ],
 "metadata": {
  "kernelspec": {
   "display_name": "Python 3",
   "language": "python",
   "name": "python3"
  },
  "language_info": {
   "codemirror_mode": {
    "name": "ipython",
    "version": 3
   },
   "file_extension": ".py",
   "mimetype": "text/x-python",
   "name": "python",
   "nbconvert_exporter": "python",
   "pygments_lexer": "ipython3",
   "version": "3.6.8"
  },
  "spelmanCs": {
   "version": "1"
  },
  "widgets": {
   "application/vnd.jupyter.widget-state+json": {
    "state": {},
    "version_major": 2,
    "version_minor": 0
   }
  }
 },
 "nbformat": 4,
 "nbformat_minor": 4
}
