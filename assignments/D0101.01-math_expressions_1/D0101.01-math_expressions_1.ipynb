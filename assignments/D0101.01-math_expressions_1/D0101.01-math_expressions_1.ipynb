{
 "cells": [
  {
   "cell_type": "markdown",
   "metadata": {
    "deletable": false,
    "ds4all": {
     "data": "",
     "problemDesc": "Template",
     "problemId": "0000",
     "type": "problemStatement"
    },
    "editable": true
   },
   "source": [
    "<img align=\"right\" alt=\"DS4ALL Logo\" src=\"../../images/ds4all_logo.png\" style=\"width:155.00px; margin:10px; \"/><p align=\"left\" style='color:#000; font-family:\"Cambria\"; font-size:16pt; margin:0; line-height:1.0; padding-bottom:0; padding-top:0; text-align:left; page-break-after:avoid; font-weight:700; '>D0101.01 - Math Expressions 1</p>\n",
    "\n",
    "_JVolcy_\n",
    "<br><br><br>\n",
    "\n",
    "Python Math Expressions\n",
    "===============\n",
    "\n",
    "For each problem below, evaluate the given math expression by writing and executing an equivalent Python expression in the cell provided.  In each case, verify your solution by comparing with the provided expected  value.\n",
    "\n",
    "---\n"
   ]
  },
  {
   "cell_type": "markdown",
   "metadata": {},
   "source": [
    "### Problem 1\n",
    "\n",
    "Evaluate the math expression below using Python\n",
    "\n",
    "## $48-\\frac{9}{11}$\n",
    "<div style=\"text-align: right; font-size:8pt;\">Expected Answer: 47.182...</div>"
   ]
  },
  {
   "cell_type": "code",
   "execution_count": null,
   "metadata": {},
   "outputs": [],
   "source": []
  },
  {
   "cell_type": "markdown",
   "metadata": {},
   "source": [
    "### Problem 2\n",
    "\n",
    "Evaluate the math expression below using Python\n",
    "\n",
    "## $\\frac{(7^2-2^5)^6}{11}$\n",
    "<div style=\"text-align: right; font-size:8pt;\">Expected Answer: 2194324.45</div>"
   ]
  },
  {
   "cell_type": "code",
   "execution_count": null,
   "metadata": {},
   "outputs": [],
   "source": []
  },
  {
   "cell_type": "markdown",
   "metadata": {},
   "source": [
    "### Problem 3\n",
    "\n",
    "Evaluate the math expression below using Python\n",
    "\n",
    "## $\\frac{2}{3+1}$\n",
    "<div style=\"text-align: right; font-size:8pt;\">Expected Answer: 0.5</div>"
   ]
  },
  {
   "cell_type": "code",
   "execution_count": null,
   "metadata": {},
   "outputs": [],
   "source": []
  },
  {
   "cell_type": "markdown",
   "metadata": {},
   "source": [
    "### Problem 4\n",
    "\n",
    "Evaluate the math expression below using Python\n",
    "\n",
    "## $\\frac{(\\frac{3.2}{6.1})^{2.8}}{5.3+22.3}$\n",
    "<div style=\"text-align: right; font-size:8pt;\">Expected Answer: 0.0.005951...</div>"
   ]
  },
  {
   "cell_type": "code",
   "execution_count": null,
   "metadata": {},
   "outputs": [],
   "source": []
  },
  {
   "cell_type": "markdown",
   "metadata": {},
   "source": [
    "### Problem 5\n",
    "\n",
    "Evaluate the math expression below using Python\n",
    "\n",
    "## $4*(1 - (\\frac{1}{3})^3 + (\\frac{1}{5})^5 - (\\frac{1}{7})^7)$\n",
    "<div style=\"text-align: right; font-size:8pt;\">Expected Answer: 3.8531...</div>"
   ]
  },
  {
   "cell_type": "code",
   "execution_count": null,
   "metadata": {},
   "outputs": [],
   "source": []
  }
 ],
 "metadata": {
  "kernelspec": {
   "display_name": "Python 3",
   "language": "python",
   "name": "python3"
  },
  "language_info": {
   "codemirror_mode": {
    "name": "ipython",
    "version": 3
   },
   "file_extension": ".py",
   "mimetype": "text/x-python",
   "name": "python",
   "nbconvert_exporter": "python",
   "pygments_lexer": "ipython3",
   "version": "3.6.8"
  },
  "spelmanCs": {
   "version": "1"
  },
  "widgets": {
   "application/vnd.jupyter.widget-state+json": {
    "state": {},
    "version_major": 2,
    "version_minor": 0
   }
  }
 },
 "nbformat": 4,
 "nbformat_minor": 4
}
