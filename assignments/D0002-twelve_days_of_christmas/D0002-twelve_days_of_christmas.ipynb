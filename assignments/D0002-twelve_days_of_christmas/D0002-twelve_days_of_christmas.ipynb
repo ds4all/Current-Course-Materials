{
 "cells": [
  {
   "cell_type": "markdown",
   "metadata": {
    "deletable": false,
    "ds4all": {
     "data": "",
     "problemDesc": "Twelve Days of Christmas",
     "problemId": "D0002",
     "type": "problemStatement"
    },
    "editable": false
   },
   "source": [
    "<img align=\"right\" alt=\"DS4ALL Logo\" src=\"../../images/ds4all_logo.png\" style=\"width:155.00px; margin:10px; \"/><p align=\"left\" style='color:#000; font-family:\"Cambria\"; font-size:16pt; margin:0; line-height:0.0; padding-bottom:0; padding-top:0; text-align:left; page-break-after:avoid; font-weight:700; '>D0002 - Twelve Days of Christmas</p>\n",
    "\n",
    "_JVolcy_\n",
    "<br><br><br>\n",
    "\n",
    "\n",
    "The popular Christmas song \"The Twelve Days of Christmas\" was performed by The Muppets on the popular 70s TV show, \"*The Muppet Show*\".  Here is a copy of the transcript as performed:\n",
    "\n",
    "\n",
    "```\n",
    "Twelve Days of Christmas\n",
    "The Muppets\n",
    "\n",
    "On the twelfth day of Christmas\n",
    "My true love gave to me\n",
    "Twelve drummers drumming\n",
    "Eleven pipers piping\n",
    "Ten lords a leaping\n",
    "Nine ladies dancing\n",
    "Eight maids a milking\n",
    "Seven swans a swimming\n",
    "Six geese a laying\n",
    "Five gold rings, badam-pam-pam\n",
    "Four calling birds\n",
    "Three French hens\n",
    "Two turtle doves\n",
    "And a partridge in a pear tree\n",
    "```\n",
    "\n",
    "The director of the show took a few liberties with the lyrics.  But, we wish to point out where the lyrics deviate from its traditional form.  We also want to highlight a few of the words and lyrics in the song.  Starting with the plain text shown above, use markdown syntax to generate an output that looks *exactly* like what is shown below.  Place your markdown text in the cell below.  Be careful not to overlook the italicized parts of the text.\n",
    "\n",
    "\n",
    "<img align=\"center\" alt=\"DS4ALL Logo\" src=\"images/12_days_of_xmas.png\" style=\"width:400.00px; margin:10px; \"/>\n",
    "<br>\n",
    "\n",
    "\n",
    "\n",
    "<br><br><br>\n",
    "<span style=\"color:lightgray\">AUCC –  Data Science for All</span>\n"
   ]
  },
  {
   "cell_type": "code",
   "execution_count": null,
   "metadata": {
    "deletable": false,
    "ds4all": {
     "type": "studentSolution"
    },
    "editable": true
   },
   "outputs": [],
   "source": [
    "# Place your solution here"
   ]
  }
 ],
 "metadata": {
  "kernelspec": {
   "display_name": "Python 3",
   "language": "python",
   "name": "python3"
  },
  "language_info": {
   "codemirror_mode": {
    "name": "ipython",
    "version": 3
   },
   "file_extension": ".py",
   "mimetype": "text/x-python",
   "name": "python",
   "nbconvert_exporter": "python",
   "pygments_lexer": "ipython3",
   "version": "3.6.8"
  },
  "spelmanCs": {
   "version": "1"
  },
  "widgets": {
   "application/vnd.jupyter.widget-state+json": {
    "state": {},
    "version_major": 2,
    "version_minor": 0
   }
  }
 },
 "nbformat": 4,
 "nbformat_minor": 4
}
