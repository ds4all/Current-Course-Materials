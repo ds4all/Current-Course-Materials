{
 "cells": [
  {
   "cell_type": "markdown",
   "metadata": {
    "deletable": false,
    "ds4all": {
     "data": "",
     "problemDesc": "Dual-Operand Math 1",
     "problemId": "D0113.02",
     "type": "problemStatement"
    },
    "editable": false
   },
   "source": [
    "<img align=\"right\" alt=\"DS4ALL Logo\" src=\"../../images/ds4all_logo.png\" style=\"width:155.00px; margin:10px; \"/><p align=\"left\" style='color:#000; font-family:\"Cambria\"; font-size:16pt; margin:0; line-height:1.0; padding-bottom:0; padding-top:0; text-align:left; page-break-after:avoid; font-weight:700; '>D0113.02 - Dual Operand Math 1</p>\n",
    "\n",
    "_JVolcy_\n",
    "<br><br><br>\n",
    "\n",
    "\n",
    "\n",
    "\n",
    "Complete the code below so that for the given two integers, it prints\n",
    "\n",
    "* The sum\n",
    "* The difference\n",
    "* The product\n",
    "* The average\n",
    "\n",
    "\n",
    "Here is what your output should look like:\n",
    "\n",
    "\n",
    "<br>\n",
    "<table align='left', width=\"100%\">\n",
    "    <tr>\n",
    "        <td bgcolor=\"#E0EEFF\", style='color:#000; font-family:\"Courier\"; font-size:12pt;', align='left'>\n",
    "\n",
    "num1 = 12  \n",
    "num2 = 20  \n",
    "            \n",
    "The sum is 32  \n",
    "The difference is -8  \n",
    "The product is 240  \n",
    "The average is 16.0  \n",
    "        </td>\n",
    "    </tr>\n",
    "</table>\n",
    "<br> \n",
    "Of course, you can change the values of num1 and num2 to test your code.\n",
    "\n",
    "<br><br><br> \n",
    "\n",
    "\n",
    "<span style=\"color:lightgray\">AUCC –  Data Science for All</span>\n"
   ]
  },
  {
   "cell_type": "code",
   "execution_count": null,
   "metadata": {
    "deletable": false,
    "ds4all": {
     "type": "studentSolution"
    },
    "editable": true
   },
   "outputs": [],
   "source": [
    "num1 = 12\n",
    "num2 = 20\n",
    "\n",
    "# Add your code here"
   ]
  }
 ],
 "metadata": {
  "kernelspec": {
   "display_name": "Python 3",
   "language": "python",
   "name": "python3"
  },
  "language_info": {
   "codemirror_mode": {
    "name": "ipython",
    "version": 3
   },
   "file_extension": ".py",
   "mimetype": "text/x-python",
   "name": "python",
   "nbconvert_exporter": "python",
   "pygments_lexer": "ipython3",
   "version": "3.6.8"
  },
  "spelmanCs": {
   "version": "1"
  },
  "widgets": {
   "application/vnd.jupyter.widget-state+json": {
    "state": {},
    "version_major": 2,
    "version_minor": 0
   }
  }
 },
 "nbformat": 4,
 "nbformat_minor": 4
}
