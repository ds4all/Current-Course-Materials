{
 "cells": [
  {
   "cell_type": "markdown",
   "metadata": {
    "deletable": false,
    "ds4all": {
     "data": "",
     "problemDesc": "Data Types & Data Structures",
     "problemId": "D0103",
     "type": "problemStatement"
    },
    "editable": true
   },
   "source": [
    "<img align=\"right\" alt=\"DS4ALL Logo\" src=\"../../images/ds4all_logo.png\" style=\"width:155.00px; margin:10px; \"/><p align=\"left\" style='color:#000; font-family:\"Cambria\"; font-size:16pt; margin:0; line-height:1.0; padding-bottom:0; padding-top:0; text-align:left; page-break-after:avoid; font-weight:700; '>D0103.01 - Data Types & Data Structures 1</p>\n",
    "\n",
    "_JVolcy_\n",
    "<br><br><br>\n",
    "\n",
    "\n",
    "Identify each data entity below as either an `integer` , `float`, `string`, `array of integers`, `array of floats`, `array of strings`, `list` or `table`.  Follow the examples provided.\n",
    "\n",
    "\n",
    "Describe each of the following data entities.  In the case of arrays, indicate also the type.  Follow the examples provided.\n",
    "\n",
    "Example 1) 3.44, -9.11, 1000.2, -1.0  \n",
    "<span style=\"color:blue\">_array of floats_</span>\n",
    "\n",
    "\n",
    "Example 2) -19834  \n",
    "<span style=\"color:blue\">_integer_</span>\n",
    "  \n",
    "\n",
    "Example 3) \"2+2\", 4  \n",
    "<span style=\"color:blue\">_list_</span>\n",
    "\n",
    "\n",
    "---\n",
    "\n",
    "1) \"good morning, sir\"  \n",
    "\n",
    "\n",
    "2) \"good\", \"morning\", \"sir\"  \n",
    "\n",
    "3) -3.33333333  \n",
    "\n",
    "4) -637, -6.37  \n",
    "\n",
    "5) \"37\", \"8\", \"11\", \"973\"  \n",
    "\n",
    "6) \"apple\", \"jam\", \"berry\", 3  \n",
    "\n",
    "7) \"bears, lions, tigers\"  \n",
    "\n",
    "8)\n",
    "```\n",
    "    \"A\", \"B\",  \"C\"\n",
    "    9.1, 99.1, 2.8321 \n",
    "    3.4, 71.3, -6.1\n",
    "```  \n",
    "\n",
    "9) 4  \n",
    "\n",
    "10) 0, 1  \n",
    "\n",
    "\n",
    "\n",
    "\n",
    "\n",
    "\n",
    "<br><br><br><br><br>\n",
    "<span style=\"color:lightgray\">AUCC –  Data Science for All</span>\n"
   ]
  },
  {
   "cell_type": "code",
   "execution_count": null,
   "metadata": {
    "deletable": false,
    "ds4all": {
     "type": "studentSolution"
    },
    "editable": true
   },
   "outputs": [],
   "source": [
    "#"
   ]
  }
 ],
 "metadata": {
  "kernelspec": {
   "display_name": "Python 3",
   "language": "python",
   "name": "python3"
  },
  "language_info": {
   "codemirror_mode": {
    "name": "ipython",
    "version": 3
   },
   "file_extension": ".py",
   "mimetype": "text/x-python",
   "name": "python",
   "nbconvert_exporter": "python",
   "pygments_lexer": "ipython3",
   "version": "3.6.8"
  },
  "spelmanCs": {
   "version": "1"
  },
  "widgets": {
   "application/vnd.jupyter.widget-state+json": {
    "state": {},
    "version_major": 2,
    "version_minor": 0
   }
  }
 },
 "nbformat": 4,
 "nbformat_minor": 4
}
