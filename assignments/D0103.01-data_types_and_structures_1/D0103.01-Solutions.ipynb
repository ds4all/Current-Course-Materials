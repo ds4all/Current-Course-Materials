{
 "cells": [
  {
   "cell_type": "markdown",
   "metadata": {
    "deletable": false,
    "ds4all": {
     "data": "",
     "problemDesc": "Data Types & Data Structures",
     "problemId": "D0103",
     "type": "problemStatement"
    },
    "editable": true
   },
   "source": [
    "<img align=\"right\" alt=\"DS4ALL Logo\" src=\"../../images/ds4all_logo.png\" style=\"width:155.00px; margin:10px; \"/><p align=\"left\" style='color:#000; font-family:\"Cambria\"; font-size:16pt; margin:0; line-height:1.0; padding-bottom:0; padding-top:0; text-align:left; page-break-after:avoid; font-weight:700; '>D0103.01 - Data Types & Data Structures 1</p>\n",
    "\n",
    "_JVolcy_\n",
    "<br><br><br>\n",
    "\n",
    "\n",
    "<br>\n",
    "\n",
    "Describe each of the following data entities.  In the case of arrays, indicate also the type.  Follow the examples provided.\n",
    "\n",
    "Example 1) 3.44, -9.11, 1000.2, -1.0  \n",
    "<span style=\"color:blue\">_array of floats_</span>\n",
    "\n",
    "\n",
    "Example 2) -19834  \n",
    "<span style=\"color:blue\">_integer_</span>\n",
    "  \n",
    "\n",
    "Example 3) \"2+2\", 4  \n",
    "<span style=\"color:blue\">_list_</span>\n",
    "\n",
    "\n",
    "---\n",
    "\n",
    "1) \"good morning, sir\"  \n",
    "(string)  \n",
    "\n",
    "2) \"good\", \"morning\", \"sir\"  \n",
    "(array of strings)  \n",
    "\n",
    "3) -3.33333333  \n",
    "(float)  \n",
    "\n",
    "4) -637, -6.37  \n",
    "(list)  \n",
    "\n",
    "5) \"37\", \"8\", \"11\", \"973\"  \n",
    "(array of strings)  \n",
    "\n",
    "6) \"apple\", \"jam\", \"berry\", 3  \n",
    "(list)  \n",
    "\n",
    "7) \"bears, lions, tigers\"  \n",
    "(string)  \n",
    "\n",
    "8)\n",
    "```\n",
    "    \"A\", \"B\",  \"C\"\n",
    "    9.1, 99.1, 2.8321 \n",
    "    3.4, 71.3, -6.1\n",
    "```  \n",
    "(table)  \n",
    "\n",
    "9) 4  \n",
    "(integer)  \n",
    "\n",
    "10) 0, 1  \n",
    "(array of integers)  \n",
    "\n",
    "\n",
    "\n",
    "\n",
    "\n",
    "\n",
    "<br><br><br><br><br>\n",
    "<span style=\"color:lightgray\">AUCC –  Data Science for All</span>\n"
   ]
  },
  {
   "cell_type": "code",
   "execution_count": null,
   "metadata": {
    "deletable": false,
    "ds4all": {
     "type": "studentSolution"
    },
    "editable": true
   },
   "outputs": [],
   "source": [
    "# Add your code here"
   ]
  },
  {
   "cell_type": "code",
   "execution_count": null,
   "metadata": {},
   "outputs": [],
   "source": []
  }
 ],
 "metadata": {
  "kernelspec": {
   "display_name": "Python 3",
   "language": "python",
   "name": "python3"
  },
  "language_info": {
   "codemirror_mode": {
    "name": "ipython",
    "version": 3
   },
   "file_extension": ".py",
   "mimetype": "text/x-python",
   "name": "python",
   "nbconvert_exporter": "python",
   "pygments_lexer": "ipython3",
   "version": "3.6.8"
  },
  "spelmanCs": {
   "version": "1"
  },
  "widgets": {
   "application/vnd.jupyter.widget-state+json": {
    "state": {},
    "version_major": 2,
    "version_minor": 0
   }
  }
 },
 "nbformat": 4,
 "nbformat_minor": 4
}
