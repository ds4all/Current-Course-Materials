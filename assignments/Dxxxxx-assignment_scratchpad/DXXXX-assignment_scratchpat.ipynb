{
 "cells": [
  {
   "cell_type": "markdown",
   "metadata": {
    "deletable": false,
    "ds4all": {
     "data": "",
     "problemDesc": "Assignment Scratchpad",
     "problemId": "DXXXX",
     "type": "problemStatement"
    },
    "editable": true
   },
   "source": [
    "<img align=\"right\" alt=\"DS4ALL Logo\" src=\"../../images/ds4all_logo.png\" style=\"width:155.00px; margin:10px; \"/><p align=\"left\" style='color:#000; font-family:\"Cambria\"; font-size:16pt; margin:0; line-height:1.0; padding-bottom:0; padding-top:0; text-align:left; page-break-after:avoid; font-weight:700; '>DXXXX - Assignment Scratchpad</p>\n",
    "\n",
    "_JVolcy_\n",
    "<br><br><br>\n",
    "\n",
    "H/W ?? \n",
    "\n",
    "Data Types & Data Structures. \n",
    "\n",
    "Describe each of the following data entities.  In the case of arrays, indicate also the type.  Follow the examples provided.\n",
    "\n",
    "Ex1) 3.44, -9.11, 1000.2, -1.0\n",
    "array of floats\n",
    "\n",
    "Ex2) -19834\n",
    "integer\n",
    "\n",
    "Ex3) \"2+2\", 4\n",
    "list\n",
    "\n",
    "1) \"good morning, sir\"\n",
    "(string)\n",
    "\n",
    "2) \"good\", \"morning\", \"sir\"\n",
    "(array of strings)\n",
    "\n",
    "3) -3.33333333\n",
    "(float)\n",
    "\n",
    "4) -637, -6.37\n",
    "(list)\n",
    "\n",
    "5) \"37\", \"8\", \"11\", \"973\"\n",
    "(array of strings)\n",
    "\n",
    "6) \"apple\", \"jam\", \"berry\", 3\n",
    "(list)\n",
    "\n",
    "7) \"bears, lions, tigers\"\n",
    "(string)\n",
    "\n",
    "8) 9.1, 99.1, 2.8321\n",
    "(array of floats)\n",
    "\n",
    "9) 4\n",
    "(integer)\n",
    "\n",
    "10) 0, 1\n",
    "(array of integers)\n",
    "\n",
    "\n",
    "\n",
    "=====================\n",
    "\n",
    "\n",
    "<img align=\"middle\" src=\"images/grandPrize.png\" style=\"width:300px;\">\n",
    "<br>\n",
    "\n",
    "You've won the \\\\$30,000 grand prize!  Of course, you want to text the good news to your best friend.  You can communicate the cash winnings in any number of ways:  \n",
    "\n",
    "- 30k\n",
    "- 30,000  \n",
    "- \\\\$30000  \n",
    "- \\\\$30.0k  \n",
    "- 30 Grand\n",
    "- etc.  \n",
    "\n",
    "Unfortunately, none of these are appropriate ways of representing your fortunes in a programming language.  For our purposes, if you want to express the value of your winnings in a program, these are the only acceptable way to do so:  \n",
    "- 30000\n",
    "- 30000.0\n",
    "\n",
    "No '\\\\$' signs, commas and suffixes (like k) are allowed.  You are, however, allowed to follow the decimal point by any number of zeros.\n",
    "<br>\n",
    "                                                       \n",
    "                                                      \n",
    "<br><br><br><img align=\"middle\" src=\"images/US_traffic_deaths.png\" style=\"width:90%;\">\n",
    "<br><span style='color:gray; font-size:7pt;'>\n",
    "https://en.wikipedia.org/wiki/Motor_vehicle_fatality_rate_in_U.S._by_year [By Dennis Bratland - CC BY-SA 4.0, https://commons.wikimedia.org/w/index.php?curid=66179446]\n",
    "</span>\n",
    "<br><br><br>\n",
    "\n",
    "Approximately how may deaths from car crashes were there in 1955?  (35k)  \n",
    "Approximatley how may deaths from car crashes were there in 2005?  (35k)  \n",
    "Would you say that US roads are more safe, less safe or just about the same in 2005 as they were in 1955?  \n",
    "x\n",
    "\n",
    "\n",
    "\n",
    "\n",
    "\n",
    "<br><br><br><br><br><br><br><br><br><br><br><br>\n",
    "\n",
    "v ============ cut here ============ v\n",
    "<br>\n",
    "<span style=\"color:red\"><b>Be sure to edit the metadata to set \"editable\" to \"false\" for this cell and to populate the custom \"problemDesc\" and \"problemId\" metadata fields.</b><br></span>\n",
    "<br>\n",
    "here Here is an exampe LaTex Equation:  \n",
    "\n",
    "$y=ax^2+bx+c$\n",
    "\n",
    "\n",
    "\n",
    "Here is an example of a md table:\n",
    "\n",
    "| Syntax      | Description | Test Text     |\n",
    "| :---        | :----:      |  ---:         |\n",
    "| Left        | Centered    | Right         |\n",
    "| Justified   | Text        | Justified     |\n",
    "\n",
    "<br>\n",
    "\n",
    "\n",
    "Here is an example of an html table:  \n",
    "<br>\n",
    "<table align='center', width=\"50%\", style=\"border:1px solid black;\">\n",
    "    <tr>\n",
    "        <td bgcolor=\"#FFF0D0\", style='color:#000; font-size:12pt; border:1px solid black;', align='center', >\n",
    "            <b>Syntax</b>\n",
    "        </td>\n",
    "        <td bgcolor=\"#FFF0D0\", style='color:#000; font-size:12pt; border:1px solid black;', align='center'>\n",
    "            <b>Description</b>\n",
    "        </td>\n",
    "    </tr>\n",
    "    <tr>\n",
    "        <td align='center', style='color:#000; font-size:12pt; border:1px solid black;'>\n",
    "            Header\n",
    "        </td>\n",
    "        <td align='center', style='color:#000; font-size:12pt; border:1px solid black;'>\n",
    "            Title\n",
    "        </td>\n",
    "    </tr>\n",
    "    <tr>\n",
    "        <td align='center', style='color:#000; font-size:12pt; border:1px solid black;'>\n",
    "            Paragraph\n",
    "        </td>\n",
    "        <td align='center', style='color:#000; font-size:12pt; border:1px solid black;'>\n",
    "            Text\n",
    "        </td>\n",
    "    </tr>\n",
    "    <tr>\n",
    "        <td align='center', style='color:#000; font-size:12pt; border:1px solid black;'>\n",
    "            Paragraph2\n",
    "        </td>\n",
    "        <td align='center', style='color:#000; font-size:12pt; border:1px solid black;'>\n",
    "            Text2\n",
    "        </td>\n",
    "    </tr>\n",
    "</table>\n",
    "\n",
    "\n",
    "\n",
    "<br>\n",
    "This is an example of a fenced code block:\n",
    "\n",
    "---\n",
    "```\n",
    "//\n",
    "//  main.cpp  \n",
    "//\n",
    "\n",
    "#include <iostream>\n",
    "\n",
    "int main(int argc, const char * argv[]) {\n",
    "    // insert code here...\n",
    "    std::cout << \"Hello, World!\\n\";\n",
    "    return 0;\n",
    "}\n",
    "\n",
    "```\n",
    "---\n",
    "\n",
    "\n",
    "<br>\n",
    "<table align='left', width=\"100%\">\n",
    "    <tr>\n",
    "        <td bgcolor=\"#E0EEFF\", style='color:#000; font-family:\"Courier\"; font-size:12pt;', align='left'>\n",
    "            This is an example of a sample run.<br>\n",
    "            This is a second <b>line</b>.\n",
    "        </td>\n",
    "    </tr>\n",
    "</table>\n",
    "\n",
    "<br><br><br><br>  \n",
    "\n",
    "Formatted output exampless:  \n",
    "\n",
    "~~The world is flat.~~ We now know that the world is round.  \n",
    "Here are examples of **bold**, and *italic* texts.  \n",
    "Here is an example link:\n",
    "[link name](https://www.example.com)\n",
    "\n",
    "<br>\n",
    "^ ============ cut here ============ ^\n",
    "\n",
    "\n",
    "\n",
    "<br><br><br><br><br>\n",
    "<span style=\"color:lightgray\">AUCC –  Data Science for All</span>\n"
   ]
  },
  {
   "cell_type": "code",
   "execution_count": 19,
   "metadata": {
    "deletable": false,
    "ds4all": {
     "type": "studentSolution"
    },
    "editable": true
   },
   "outputs": [],
   "source": [
    "# Add your code here"
   ]
  },
  {
   "cell_type": "markdown",
   "metadata": {},
   "source": [
    "Exercise:\n",
    "Given the data set data/deathRate.csv, generate the following visualization:\n",
    "\n",
    "<img align=\"middle\" src=\"data/deathRate.png\" style=\"width:80%;\">\n",
    "\n"
   ]
  },
  {
   "cell_type": "code",
   "execution_count": 20,
   "metadata": {},
   "outputs": [
    {
     "data": {
      "text/html": [
       "<table border=\"1\" class=\"dataframe\">\n",
       "    <thead>\n",
       "        <tr>\n",
       "            <th>Cancer Type</th> <th>Both sexes combined</th> <th>Female</th> <th>Male</th>\n",
       "        </tr>\n",
       "    </thead>\n",
       "    <tbody>\n",
       "        <tr>\n",
       "            <td>Brain and other nervous system  </td> <td>4.4                </td> <td>3.6   </td> <td>5.4 </td>\n",
       "        </tr>\n",
       "        <tr>\n",
       "            <td>Breast                          </td> <td>20.3               </td> <td>20.3  </td> <td>nan </td>\n",
       "        </tr>\n",
       "        <tr>\n",
       "            <td>Cervix                          </td> <td>2.3                </td> <td>2.3   </td> <td>nan </td>\n",
       "        </tr>\n",
       "        <tr>\n",
       "            <td>Colorectum                      </td> <td>13.9               </td> <td>11.7  </td> <td>16.6</td>\n",
       "        </tr>\n",
       "        <tr>\n",
       "            <td>Esophagus                       </td> <td>3.9                </td> <td>1.4   </td> <td>7   </td>\n",
       "        </tr>\n",
       "        <tr>\n",
       "            <td>Hodgkin lymphoma                </td> <td>0.3                </td> <td>0.2   </td> <td>0.4 </td>\n",
       "        </tr>\n",
       "        <tr>\n",
       "            <td>Kidney and renal pelvis         </td> <td>3.7                </td> <td>2.3   </td> <td>5.4 </td>\n",
       "        </tr>\n",
       "        <tr>\n",
       "            <td>Larynx                          </td> <td>1                  </td> <td>0.4   </td> <td>1.7 </td>\n",
       "        </tr>\n",
       "        <tr>\n",
       "            <td>Leukemia                        </td> <td>6.4                </td> <td>4.8   </td> <td>8.6 </td>\n",
       "        </tr>\n",
       "        <tr>\n",
       "            <td>Liver and intrahepatic bile duct</td> <td>6.6                </td> <td>4     </td> <td>9.6 </td>\n",
       "        </tr>\n",
       "        <tr>\n",
       "            <td>Lung and bronchus               </td> <td>40.2               </td> <td>33.2  </td> <td>49.3</td>\n",
       "        </tr>\n",
       "        <tr>\n",
       "            <td>Melanoma of the skin            </td> <td>2.4                </td> <td>1.5   </td> <td>3.5 </td>\n",
       "        </tr>\n",
       "        <tr>\n",
       "            <td>Myeloma                         </td> <td>3.3                </td> <td>2.6   </td> <td>4.1 </td>\n",
       "        </tr>\n",
       "        <tr>\n",
       "            <td>Non-Hodgkin lymphoma            </td> <td>5.5                </td> <td>4.2   </td> <td>7.1 </td>\n",
       "        </tr>\n",
       "        <tr>\n",
       "            <td>Oral cavity and pharynx         </td> <td>2.5                </td> <td>1.3   </td> <td>3.9 </td>\n",
       "        </tr>\n",
       "        <tr>\n",
       "            <td>Ovary                           </td> <td>6.9                </td> <td>6.9   </td> <td>nan </td>\n",
       "        </tr>\n",
       "        <tr>\n",
       "            <td>Pancreas                        </td> <td>11                 </td> <td>9.6   </td> <td>12.7</td>\n",
       "        </tr>\n",
       "        <tr>\n",
       "            <td>Prostate                        </td> <td>19.1               </td> <td>nan   </td> <td>19.1</td>\n",
       "        </tr>\n",
       "        <tr>\n",
       "            <td>Stomach                         </td> <td>3.1                </td> <td>2.2   </td> <td>4.1 </td>\n",
       "        </tr>\n",
       "        <tr>\n",
       "            <td>Testis                          </td> <td>0.3                </td> <td>nan   </td> <td>0.3 </td>\n",
       "        </tr>\n",
       "        <tr>\n",
       "            <td>Thyroid                         </td> <td>0.5                </td> <td>0.5   </td> <td>0.5 </td>\n",
       "        </tr>\n",
       "        <tr>\n",
       "            <td>Urinary bladder                 </td> <td>4.4                </td> <td>2.1   </td> <td>7.5 </td>\n",
       "        </tr>\n",
       "        <tr>\n",
       "            <td>Uterine corpus                  </td> <td>4.8                </td> <td>4.8   </td> <td>nan </td>\n",
       "        </tr>\n",
       "    </tbody>\n",
       "</table>"
      ],
      "text/plain": [
       "<IPython.core.display.HTML object>"
      ]
     },
     "metadata": {},
     "output_type": "display_data"
    },
    {
     "data": {
      "image/png": "[encoded data removed]",
      "text/plain": [
       "<Figure size 432x828 with 1 Axes>"
      ]
     },
     "metadata": {
      "needs_background": "light"
     },
     "output_type": "display_data"
    }
   ],
   "source": [
    "from datascience import *\n",
    "#import numpy as np\n",
    "%matplotlib inline\n",
    "\n",
    "x=Table.read_table('data/deathRate.csv')\n",
    "x.show()\n",
    "\n",
    "x.barh('Cancer Type', ['Female', 'Male'])"
   ]
  },
  {
   "cell_type": "markdown",
   "metadata": {},
   "source": [
    "If we randomly sample one million US women, approximately how many would you expect will die of lung cancer?\n",
    "Ans: ~330\n"
   ]
  },
  {
   "cell_type": "code",
   "execution_count": 21,
   "metadata": {},
   "outputs": [
    {
     "name": "stdout",
     "output_type": "stream",
     "text": [
      "<table border=\"1\" class=\"dataframe\">\n",
      "    <thead>\n",
      "        <tr>\n",
      "            <th>Cancer Type</th> <th>Both sexes combined</th> <th>Female</th> <th>Male</th>\n",
      "        </tr>\n",
      "    </thead>\n",
      "    <tbody>\n",
      "        <tr>\n",
      "            <td>Brain and other nervous system  </td> <td>4.4                </td> <td>3.6   </td> <td>5.4 </td>\n",
      "        </tr>\n",
      "        <tr>\n",
      "            <td>Breast                          </td> <td>20.3               </td> <td>20.3  </td> <td>nan </td>\n",
      "        </tr>\n",
      "        <tr>\n",
      "            <td>Cervix                          </td> <td>2.3                </td> <td>2.3   </td> <td>nan </td>\n",
      "        </tr>\n",
      "        <tr>\n",
      "            <td>Colorectum                      </td> <td>13.9               </td> <td>11.7  </td> <td>16.6</td>\n",
      "        </tr>\n",
      "        <tr>\n",
      "            <td>Esophagus                       </td> <td>3.9                </td> <td>1.4   </td> <td>7   </td>\n",
      "        </tr>\n",
      "        <tr>\n",
      "            <td>Hodgkin lymphoma                </td> <td>0.3                </td> <td>0.2   </td> <td>0.4 </td>\n",
      "        </tr>\n",
      "        <tr>\n",
      "            <td>Kidney and renal pelvis         </td> <td>3.7                </td> <td>2.3   </td> <td>5.4 </td>\n",
      "        </tr>\n",
      "        <tr>\n",
      "            <td>Larynx                          </td> <td>1                  </td> <td>0.4   </td> <td>1.7 </td>\n",
      "        </tr>\n",
      "        <tr>\n",
      "            <td>Leukemia                        </td> <td>6.4                </td> <td>4.8   </td> <td>8.6 </td>\n",
      "        </tr>\n",
      "        <tr>\n",
      "            <td>Liver and intrahepatic bile duct</td> <td>6.6                </td> <td>4     </td> <td>9.6 </td>\n",
      "        </tr>\n",
      "        <tr>\n",
      "            <td>Lung and bronchus               </td> <td>40.2               </td> <td>33.2  </td> <td>49.3</td>\n",
      "        </tr>\n",
      "        <tr>\n",
      "            <td>Melanoma of the skin            </td> <td>2.4                </td> <td>1.5   </td> <td>3.5 </td>\n",
      "        </tr>\n",
      "        <tr>\n",
      "            <td>Myeloma                         </td> <td>3.3                </td> <td>2.6   </td> <td>4.1 </td>\n",
      "        </tr>\n",
      "        <tr>\n",
      "            <td>Non-Hodgkin lymphoma            </td> <td>5.5                </td> <td>4.2   </td> <td>7.1 </td>\n",
      "        </tr>\n",
      "        <tr>\n",
      "            <td>Oral cavity and pharynx         </td> <td>2.5                </td> <td>1.3   </td> <td>3.9 </td>\n",
      "        </tr>\n",
      "        <tr>\n",
      "            <td>Ovary                           </td> <td>6.9                </td> <td>6.9   </td> <td>nan </td>\n",
      "        </tr>\n",
      "        <tr>\n",
      "            <td>Pancreas                        </td> <td>11                 </td> <td>9.6   </td> <td>12.7</td>\n",
      "        </tr>\n",
      "        <tr>\n",
      "            <td>Prostate                        </td> <td>19.1               </td> <td>nan   </td> <td>19.1</td>\n",
      "        </tr>\n",
      "        <tr>\n",
      "            <td>Stomach                         </td> <td>3.1                </td> <td>2.2   </td> <td>4.1 </td>\n",
      "        </tr>\n",
      "        <tr>\n",
      "            <td>Testis                          </td> <td>0.3                </td> <td>nan   </td> <td>0.3 </td>\n",
      "        </tr>\n",
      "        <tr>\n",
      "            <td>Thyroid                         </td> <td>0.5                </td> <td>0.5   </td> <td>0.5 </td>\n",
      "        </tr>\n",
      "        <tr>\n",
      "            <td>Urinary bladder                 </td> <td>4.4                </td> <td>2.1   </td> <td>7.5 </td>\n",
      "        </tr>\n",
      "        <tr>\n",
      "            <td>Uterine corpus                  </td> <td>4.8                </td> <td>4.8   </td> <td>nan </td>\n",
      "        </tr>\n",
      "    </tbody>\n",
      "</table>\n"
     ]
    }
   ],
   "source": [
    "print(x.as_html())"
   ]
  },
  {
   "cell_type": "code",
   "execution_count": 22,
   "metadata": {},
   "outputs": [
    {
     "data": {
      "text/plain": [
       "\"\\nfrom urllib.request import urlopen\\n\\nurl = 'http://someURL'\\n\\nclient = urlopen(url)\\nhtmlByteData = client.read()\\nclient.close()\\n\\nhtmlByteData\\n\""
      ]
     },
     "execution_count": 22,
     "metadata": {},
     "output_type": "execute_result"
    }
   ],
   "source": [
    "'''\n",
    "from urllib.request import urlopen\n",
    "\n",
    "url = 'http://someURL'\n",
    "\n",
    "client = urlopen(url)\n",
    "htmlByteData = client.read()\n",
    "client.close()\n",
    "\n",
    "htmlByteData\n",
    "'''"
   ]
  },
  {
   "cell_type": "markdown",
   "metadata": {},
   "source": [
    "### Exercise: Replicate the following table\n",
    "<br>\n",
    "\n",
    "<table border=\"1\" class=\"dataframe\">\n",
    "    <thead>\n",
    "        <tr>\n",
    "            <th>Cancer Type</th> <th>Both sexes combined</th> <th>Female</th> <th>Male</th>\n",
    "        </tr>\n",
    "    </thead>\n",
    "    <tbody>\n",
    "        <tr>\n",
    "            <td>Brain and other nervous system  </td> <td>4.4                </td> <td>3.6   </td> <td>5.4 </td>\n",
    "        </tr>\n",
    "        <tr>\n",
    "            <td>Breast                          </td> <td>20.3               </td> <td>20.3  </td> <td>nan </td>\n",
    "        </tr>\n",
    "        <tr>\n",
    "            <td>Cervix                          </td> <td>2.3                </td> <td>2.3   </td> <td>nan </td>\n",
    "        </tr>\n",
    "        <tr>\n",
    "            <td>Colorectum                      </td> <td>13.9               </td> <td>11.7  </td> <td>16.6</td>\n",
    "        </tr>\n",
    "        <tr>\n",
    "            <td>Esophagus                       </td> <td>3.9                </td> <td>1.4   </td> <td>7   </td>\n",
    "        </tr>\n",
    "    </tbody>\n",
    "</table>\n"
   ]
  },
  {
   "cell_type": "markdown",
   "metadata": {},
   "source": [
    "\n",
    "\n",
    "### W3Schools Browser Usage Trends\n",
    "source: https://www.w3schools.com/browsers/default.asp\n",
    "\n",
    "\n",
    "|Year|Chrome|IE|Firefox|Safari|Opera|\n",
    "| :---| :----:|  ---:| :---| :----:|  ---:|\n",
    "|2020|82.0%|3.4%|8.7%|3.4%|1.2%|\n",
    "|2016|73.7%|4.8%|15.5%|3.5%|1.1%|\n",
    "|2012|46.9%|14.7%|31.1%|4.2%|2.1%|\n",
    "|2008|3.6%|46.0%|44.4%|2.7%|2.4%|\n",
    "\n",
    "\n",
    "\n"
   ]
  },
  {
   "cell_type": "markdown",
   "metadata": {},
   "source": [
    "\n",
    "\n",
    "\n",
    "### Largest Global Corporations by Market Capitalization, December 31, 2019\n",
    "source: https://en.wikipedia.org/wiki/List_of_public_corporations_by_market_capitalization#2019  \n",
    "\n",
    "\n",
    "\n",
    "|Rank|Corporation|Market Cap(\\\\$Billions)|\n",
    "| :--: | :-- | :--: |\n",
    "|1|Apple Inc.|\\\\$1,305|\n",
    "|2|Microsoft|\\\\$1,203|\n",
    "|3|**Alphabet Inc. (Google)**|\\\\$922|\n",
    "|4|Amazon.com|\\\\$916|\n",
    "|5|**Facebook, Inc.**|\\\\$585|\n",
    "|6|Alibaba Group|\\\\$569|\n",
    "|7|Berkshire Hathaway|\\\\$554|\n",
    "|8|Tencent|\\\\$461|\n",
    "|9|JPMorgan Chase|\\\\$437|\n",
    "|10|Visa|\\\\$417|"
   ]
  },
  {
   "cell_type": "code",
   "execution_count": 23,
   "metadata": {},
   "outputs": [
    {
     "data": {
      "text/html": [
       "<table border=\"1\" class=\"dataframe\">\n",
       "    <thead>\n",
       "        <tr>\n",
       "            <th>Year</th> <th>Chrome</th> <th>IE</th> <th>Firefox</th> <th>Safari</th> <th>Opera</th>\n",
       "        </tr>\n",
       "    </thead>\n",
       "    <tbody>\n",
       "        <tr>\n",
       "            <td>2020</td> <td>0.82  </td> <td>0.034</td> <td>0.087  </td> <td>0.034 </td> <td>0.012</td>\n",
       "        </tr>\n",
       "        <tr>\n",
       "            <td>2016</td> <td>0.737 </td> <td>0.048</td> <td>0.155  </td> <td>0.035 </td> <td>0.011</td>\n",
       "        </tr>\n",
       "        <tr>\n",
       "            <td>2012</td> <td>0.469 </td> <td>0.147</td> <td>0.311  </td> <td>0.042 </td> <td>0.021</td>\n",
       "        </tr>\n",
       "        <tr>\n",
       "            <td>2008</td> <td>0.036 </td> <td>0.46 </td> <td>0.444  </td> <td>0.027 </td> <td>0.024</td>\n",
       "        </tr>\n",
       "    </tbody>\n",
       "</table>"
      ],
      "text/plain": [
       "Year | Chrome | IE    | Firefox | Safari | Opera\n",
       "2020 | 0.82   | 0.034 | 0.087   | 0.034  | 0.012\n",
       "2016 | 0.737  | 0.048 | 0.155   | 0.035  | 0.011\n",
       "2012 | 0.469  | 0.147 | 0.311   | 0.042  | 0.021\n",
       "2008 | 0.036  | 0.46  | 0.444   | 0.027  | 0.024"
      ]
     },
     "execution_count": 23,
     "metadata": {},
     "output_type": "execute_result"
    }
   ],
   "source": [
    "from datascience import *\n",
    "#import numpy as np\n",
    "%matplotlib inline\n",
    "\n",
    "x=Table(['Year', 'Chrome', 'IE', 'Firefox', 'Safari', 'Opera'])\n",
    "x = x.with_row([2020,.82,.034,.087,.034,.012])\n",
    "x = x.with_row([2016,.737,.048,.155,.035,.011])\n",
    "x = x.with_row([2012,.469,.147,.311,.042,.021])\n",
    "x = x.with_row([2008,.036,.460,.444,.027,.024])\n",
    "x"
   ]
  },
  {
   "cell_type": "code",
   "execution_count": 24,
   "metadata": {},
   "outputs": [
    {
     "data": {
      "text/plain": [
       "array([0.034, 0.048, 0.147, 0.46 ])"
      ]
     },
     "execution_count": 24,
     "metadata": {},
     "output_type": "execute_result"
    }
   ],
   "source": [
    "x.column('IE')"
   ]
  },
  {
   "cell_type": "code",
   "execution_count": 25,
   "metadata": {},
   "outputs": [
    {
     "data": {
      "text/plain": [
       "(array([2020, 2016, 2012, 2008]),\n",
       " array([0.82 , 0.737, 0.469, 0.036]),\n",
       " array([0.034, 0.048, 0.147, 0.46 ]),\n",
       " array([0.087, 0.155, 0.311, 0.444]),\n",
       " array([0.034, 0.035, 0.042, 0.027]),\n",
       " array([0.012, 0.011, 0.021, 0.024]))"
      ]
     },
     "execution_count": 25,
     "metadata": {},
     "output_type": "execute_result"
    }
   ],
   "source": [
    "x.columns"
   ]
  },
  {
   "cell_type": "code",
   "execution_count": 26,
   "metadata": {},
   "outputs": [
    {
     "data": {
      "text/plain": [
       "Rows(Year | Chrome | IE    | Firefox | Safari | Opera\n",
       "2020 | 0.82   | 0.034 | 0.087   | 0.034  | 0.012\n",
       "2016 | 0.737  | 0.048 | 0.155   | 0.035  | 0.011\n",
       "2012 | 0.469  | 0.147 | 0.311   | 0.042  | 0.021\n",
       "2008 | 0.036  | 0.46  | 0.444   | 0.027  | 0.024)"
      ]
     },
     "execution_count": 26,
     "metadata": {},
     "output_type": "execute_result"
    }
   ],
   "source": [
    "x.rows"
   ]
  },
  {
   "cell_type": "code",
   "execution_count": 27,
   "metadata": {},
   "outputs": [
    {
     "data": {
      "text/plain": [
       "('Year', 'Chrome', 'IE', 'Firefox', 'Safari', 'Opera')"
      ]
     },
     "execution_count": 27,
     "metadata": {},
     "output_type": "execute_result"
    }
   ],
   "source": [
    "x.labels"
   ]
  },
  {
   "cell_type": "code",
   "execution_count": 28,
   "metadata": {},
   "outputs": [
    {
     "data": {
      "text/plain": [
       "array([[1, 3, 4, 4]])"
      ]
     },
     "execution_count": 28,
     "metadata": {},
     "output_type": "execute_result"
    }
   ],
   "source": [
    "from datascience import *\n",
    "\n",
    "#import numpy as np\n",
    "\n",
    "y=make_array([1, 3, 4, 4])\n",
    "y"
   ]
  },
  {
   "cell_type": "code",
   "execution_count": 29,
   "metadata": {},
   "outputs": [
    {
     "data": {
      "text/plain": [
       "array([[ 3,  9, 12, 12]])"
      ]
     },
     "execution_count": 29,
     "metadata": {},
     "output_type": "execute_result"
    }
   ],
   "source": [
    "y*3"
   ]
  },
  {
   "cell_type": "code",
   "execution_count": 30,
   "metadata": {},
   "outputs": [
    {
     "data": {
      "text/html": [
       "<table border=\"1\" class=\"dataframe\">\n",
       "    <thead>\n",
       "        <tr>\n",
       "            <th>Year</th> <th>Chrome</th> <th>IE</th> <th>Firefox</th> <th>Safari</th> <th>Opera</th>\n",
       "        </tr>\n",
       "    </thead>\n",
       "    <tbody>\n",
       "        <tr>\n",
       "            <td>2020</td> <td>0.82  </td> <td>0.034</td> <td>0.087  </td> <td>0.034 </td> <td>0.012</td>\n",
       "        </tr>\n",
       "        <tr>\n",
       "            <td>2016</td> <td>0.737 </td> <td>0.048</td> <td>0.155  </td> <td>0.035 </td> <td>0.011</td>\n",
       "        </tr>\n",
       "        <tr>\n",
       "            <td>2012</td> <td>0.469 </td> <td>0.147</td> <td>0.311  </td> <td>0.042 </td> <td>0.021</td>\n",
       "        </tr>\n",
       "        <tr>\n",
       "            <td>2008</td> <td>0.036 </td> <td>0.46 </td> <td>0.444  </td> <td>0.027 </td> <td>0.024</td>\n",
       "        </tr>\n",
       "    </tbody>\n",
       "</table>"
      ],
      "text/plain": [
       "Year | Chrome | IE    | Firefox | Safari | Opera\n",
       "2020 | 0.82   | 0.034 | 0.087   | 0.034  | 0.012\n",
       "2016 | 0.737  | 0.048 | 0.155   | 0.035  | 0.011\n",
       "2012 | 0.469  | 0.147 | 0.311   | 0.042  | 0.021\n",
       "2008 | 0.036  | 0.46  | 0.444   | 0.027  | 0.024"
      ]
     },
     "execution_count": 30,
     "metadata": {},
     "output_type": "execute_result"
    }
   ],
   "source": [
    "x"
   ]
  },
  {
   "cell_type": "code",
   "execution_count": 31,
   "metadata": {},
   "outputs": [
    {
     "data": {
      "text/html": [
       "<table border=\"1\" class=\"dataframe\">\n",
       "    <thead>\n",
       "        <tr>\n",
       "            <th>Year</th> <th>Chrome</th> <th>IE</th> <th>Firefox</th> <th>Safari</th> <th>Opera</th>\n",
       "        </tr>\n",
       "    </thead>\n",
       "    <tbody>\n",
       "        <tr>\n",
       "            <td>2020</td> <td>82.00%</td> <td>3.40% </td> <td>8.70%  </td> <td>3.40% </td> <td>1.20%</td>\n",
       "        </tr>\n",
       "        <tr>\n",
       "            <td>2016</td> <td>73.70%</td> <td>4.80% </td> <td>15.50% </td> <td>3.50% </td> <td>1.10%</td>\n",
       "        </tr>\n",
       "        <tr>\n",
       "            <td>2012</td> <td>46.90%</td> <td>14.70%</td> <td>31.10% </td> <td>4.20% </td> <td>2.10%</td>\n",
       "        </tr>\n",
       "        <tr>\n",
       "            <td>2008</td> <td>3.60% </td> <td>46.00%</td> <td>44.40% </td> <td>2.70% </td> <td>2.40%</td>\n",
       "        </tr>\n",
       "    </tbody>\n",
       "</table>"
      ],
      "text/plain": [
       "Year | Chrome | IE     | Firefox | Safari | Opera\n",
       "2020 | 82.00% | 3.40%  | 8.70%   | 3.40%  | 1.20%\n",
       "2016 | 73.70% | 4.80%  | 15.50%  | 3.50%  | 1.10%\n",
       "2012 | 46.90% | 14.70% | 31.10%  | 4.20%  | 2.10%\n",
       "2008 | 3.60%  | 46.00% | 44.40%  | 2.70%  | 2.40%"
      ]
     },
     "execution_count": 31,
     "metadata": {},
     "output_type": "execute_result"
    }
   ],
   "source": [
    "x.set_format('Chrome', PercentFormatter)\n",
    "x.set_format('IE', PercentFormatter)\n",
    "x.set_format('Firefox', PercentFormatter)\n",
    "x.set_format('Safari', PercentFormatter)\n",
    "x.set_format('Opera', PercentFormatter)"
   ]
  },
  {
   "cell_type": "code",
   "execution_count": 32,
   "metadata": {},
   "outputs": [
    {
     "data": {
      "text/html": [
       "<table border=\"1\" class=\"dataframe\">\n",
       "    <thead>\n",
       "        <tr>\n",
       "            <th>Year</th> <th>Firefox</th>\n",
       "        </tr>\n",
       "    </thead>\n",
       "    <tbody>\n",
       "        <tr>\n",
       "            <td>2016</td> <td>15.50% </td>\n",
       "        </tr>\n",
       "        <tr>\n",
       "            <td>2008</td> <td>44.40% </td>\n",
       "        </tr>\n",
       "    </tbody>\n",
       "</table>"
      ],
      "text/plain": [
       "Year | Firefox\n",
       "2016 | 15.50%\n",
       "2008 | 44.40%"
      ]
     },
     "execution_count": 32,
     "metadata": {},
     "output_type": "execute_result"
    }
   ],
   "source": [
    "x.take([1, 3]).select(['Year', 'Firefox'])"
   ]
  },
  {
   "cell_type": "code",
   "execution_count": 33,
   "metadata": {},
   "outputs": [
    {
     "data": {
      "text/html": [
       "<table border=\"1\" class=\"dataframe\">\n",
       "    <thead>\n",
       "        <tr>\n",
       "            <th>Ethnicity</th> <th>Share of Population</th> <th>All Organs</th> <th>Kidney</th> <th>Liver</th> <th>Pancreas</th> <th>Heart</th> <th>Lung</th> <th>Other</th>\n",
       "        </tr>\n",
       "    </thead>\n",
       "    <tbody>\n",
       "        <tr>\n",
       "            <td>All Ethnicities              </td> <td>100.00%            </td> <td>124035    </td> <td>103068</td> <td>12969</td> <td>882     </td> <td>3687 </td> <td>1288</td> <td>2141 </td>\n",
       "        </tr>\n",
       "        <tr>\n",
       "            <td>White                        </td> <td>60.00%             </td> <td>50043     </td> <td>36573 </td> <td>8760 </td> <td>553     </td> <td>2151 </td> <td>897 </td> <td>1109 </td>\n",
       "        </tr>\n",
       "        <tr>\n",
       "            <td>Black                        </td> <td>12.00%             </td> <td>35981     </td> <td>33096 </td> <td>934  </td> <td>172     </td> <td>1026 </td> <td>186 </td> <td>567  </td>\n",
       "        </tr>\n",
       "        <tr>\n",
       "            <td>Hispanic                     </td> <td>18.00%             </td> <td>24726     </td> <td>21369 </td> <td>2375 </td> <td>123     </td> <td>370  </td> <td>154 </td> <td>335  </td>\n",
       "        </tr>\n",
       "        <tr>\n",
       "            <td>Asian                        </td> <td>6.00%              </td> <td>10344     </td> <td>9447  </td> <td>673  </td> <td>22      </td> <td>86   </td> <td>38  </td> <td>78   </td>\n",
       "        </tr>\n",
       "        <tr>\n",
       "            <td>American Indian/Alaska Native</td> <td>1.00%              </td> <td>1035      </td> <td>885   </td> <td>107  </td> <td>4       </td> <td>12   </td> <td>8   </td> <td>19   </td>\n",
       "        </tr>\n",
       "        <tr>\n",
       "            <td>Pacific Islander             </td> <td>0.20%              </td> <td>642       </td> <td>594   </td> <td>26   </td> <td>1       </td> <td>11   </td> <td>2   </td> <td>8    </td>\n",
       "        </tr>\n",
       "        <tr>\n",
       "            <td>Multiracial                  </td> <td>2.80%              </td> <td>1264      </td> <td>1104  </td> <td>94   </td> <td>7       </td> <td>31   </td> <td>3   </td> <td>25   </td>\n",
       "        </tr>\n",
       "    </tbody>\n",
       "</table>"
      ],
      "text/plain": [
       "Ethnicity                     | Share of Population | All Organs | Kidney | Liver | Pancreas | Heart | Lung | Other\n",
       "All Ethnicities               | 100.00%             | 124035     | 103068 | 12969 | 882      | 3687  | 1288 | 2141\n",
       "White                         | 60.00%              | 50043      | 36573  | 8760  | 553      | 2151  | 897  | 1109\n",
       "Black                         | 12.00%              | 35981      | 33096  | 934   | 172      | 1026  | 186  | 567\n",
       "Hispanic                      | 18.00%              | 24726      | 21369  | 2375  | 123      | 370   | 154  | 335\n",
       "Asian                         | 6.00%               | 10344      | 9447   | 673   | 22       | 86    | 38   | 78\n",
       "American Indian/Alaska Native | 1.00%               | 1035       | 885    | 107   | 4        | 12    | 8    | 19\n",
       "Pacific Islander              | 0.20%               | 642        | 594    | 26    | 1        | 11    | 2    | 8\n",
       "Multiracial                   | 2.80%               | 1264       | 1104   | 94    | 7        | 31    | 3    | 25"
      ]
     },
     "execution_count": 33,
     "metadata": {},
     "output_type": "execute_result"
    }
   ],
   "source": [
    "organ = Table.read_table('data/OrganWaitingList.csv')\n",
    "organ"
   ]
  },
  {
   "cell_type": "markdown",
   "metadata": {},
   "source": [
    "<iframe width=\"400\" height=\"325\" frameborder=\"0\" scrolling=\"no\" marginwidth=\"0\" marginheight=\"0\" src=\"https://www.google.com/publicdata/embed?ds=d5bncppjof8f9_&amp;ctype=b&amp;strail=false&amp;bcs=d&amp;nselm=s&amp;met_x=sp_dyn_le00_in&amp;scale_x=lin&amp;ind_x=false&amp;met_y=sp_dyn_tfrt_in&amp;scale_y=lin&amp;ind_y=false&amp;met_s=sp_pop_totl&amp;scale_s=lin&amp;ind_s=false&amp;dimp_c=country:region&amp;ifdim=country&amp;tunit=Y&amp;pit=-306702000000&amp;hl=en_US&amp;dl=en_US&amp;ind=false&amp;icfg&amp;iconSize=0.5\"></iframe>"
   ]
  },
  {
   "cell_type": "code",
   "execution_count": 59,
   "metadata": {},
   "outputs": [
    {
     "data": {
      "text/html": [
       "<iframe src=\"//www.gapminder.org/tools/?embedded=true#$state$time$value=2019&delay:1200;&marker$axis_x$which=life_expectancy_years&domainMin:null&domainMax:null&zoomedMin:null&zoomedMax:null&scaleType=linear&spaceRef:null;&axis_y$which=children_per_woman_total_fertility&domainMin:null&domainMax:null&zoomedMin:null&zoomedMax:null&spaceRef:null;&size$domainMin:null&domainMax:null&spaceRef:null;&color$data=data_fasttrack&which=world_6region&spaceRef=entities;;;&ui$presentation:true;&chart-type=bubbles\" style=\"width: 100%; height: 400px; margin: 0 0 0 0; border: 1px solid grey;\" allowfullscreen></iframe>"
      ],
      "text/plain": [
       "<IPython.core.display.HTML object>"
      ]
     },
     "execution_count": 59,
     "metadata": {},
     "output_type": "execute_result"
    }
   ],
   "source": [
    "# Gapminder\n",
    "import IPython\n",
    "iframe = '<iframe src=\"//www.gapminder.org/tools/?embedded=true#$state$time$value=2019&delay:1200;&marker$axis_x$which=life_expectancy_years&domainMin:null&domainMax:null&zoomedMin:null&zoomedMax:null&scaleType=linear&spaceRef:null;&axis_y$which=children_per_woman_total_fertility&domainMin:null&domainMax:null&zoomedMin:null&zoomedMax:null&spaceRef:null;&size$domainMin:null&domainMax:null&spaceRef:null;&color$data=data_fasttrack&which=world_6region&spaceRef=entities;;;&ui$presentation:true;&chart-type=bubbles\" style=\"width: 100%; height: 400px; margin: 0 0 0 0; border: 1px solid grey;\" allowfullscreen></iframe>'\n",
    "IPython.display.HTML(iframe)"
   ]
  },
  {
   "cell_type": "code",
   "execution_count": 35,
   "metadata": {},
   "outputs": [],
   "source": [
    "from datascience import *\n",
    "\n",
    "w=Table(['Year', 'Murder', 'Rape', 'Robbery', 'Assault', 'Change'] )\n",
    "\n",
    "w=w.with_rows( [[2014, 14164, 118027, 322905, 731089, 'Decrease'],\n",
    "    [2015, 15883, 126134, 328109, 764057, 'Increase'],\n",
    "    [2016, 17413, 132414, 332797, 802982, 'Increase'],\n",
    "    [2017, 17284, 135755, 319356, 810825, 'Decrease']] )\n",
    "\n"
   ]
  },
  {
   "cell_type": "code",
   "execution_count": 36,
   "metadata": {},
   "outputs": [
    {
     "data": {
      "text/html": [
       "<table border=\"1\" class=\"dataframe\">\n",
       "    <thead>\n",
       "        <tr>\n",
       "            <th>Year</th> <th>Murder</th> <th>Rape</th> <th>Robbery</th> <th>Assault</th> <th>Change</th>\n",
       "        </tr>\n",
       "    </thead>\n",
       "    <tbody>\n",
       "        <tr>\n",
       "            <td>2014</td> <td>14164 </td> <td>118027</td> <td>322905 </td> <td>731089 </td> <td>Decrease</td>\n",
       "        </tr>\n",
       "        <tr>\n",
       "            <td>2015</td> <td>15883 </td> <td>126134</td> <td>328109 </td> <td>764057 </td> <td>Increase</td>\n",
       "        </tr>\n",
       "        <tr>\n",
       "            <td>2016</td> <td>17413 </td> <td>132414</td> <td>332797 </td> <td>802982 </td> <td>Increase</td>\n",
       "        </tr>\n",
       "        <tr>\n",
       "            <td>2017</td> <td>17284 </td> <td>135755</td> <td>319356 </td> <td>810825 </td> <td>Decrease</td>\n",
       "        </tr>\n",
       "    </tbody>\n",
       "</table>"
      ],
      "text/plain": [
       "Year | Murder | Rape   | Robbery | Assault | Change\n",
       "2014 | 14164  | 118027 | 322905  | 731089  | Decrease\n",
       "2015 | 15883  | 126134 | 328109  | 764057  | Increase\n",
       "2016 | 17413  | 132414 | 332797  | 802982  | Increase\n",
       "2017 | 17284  | 135755 | 319356  | 810825  | Decrease"
      ]
     },
     "execution_count": 36,
     "metadata": {},
     "output_type": "execute_result"
    }
   ],
   "source": [
    "w"
   ]
  },
  {
   "cell_type": "code",
   "execution_count": 37,
   "metadata": {},
   "outputs": [
    {
     "data": {
      "text/html": [
       "<table border=\"1\" class=\"dataframe\">\n",
       "    <thead>\n",
       "        <tr>\n",
       "            <th>Year</th> <th>Murder</th> <th>Rape</th> <th>Robbery</th> <th>Assault</th> <th>Change</th>\n",
       "        </tr>\n",
       "    </thead>\n",
       "    <tbody>\n",
       "        <tr>\n",
       "            <td>2014</td> <td>14164 </td> <td>118027</td> <td>322905 </td> <td>731089 </td> <td>Decrease</td>\n",
       "        </tr>\n",
       "        <tr>\n",
       "            <td>2015</td> <td>15883 </td> <td>126134</td> <td>328109 </td> <td>764057 </td> <td>Increase</td>\n",
       "        </tr>\n",
       "        <tr>\n",
       "            <td>2016</td> <td>17413 </td> <td>132414</td> <td>332797 </td> <td>802982 </td> <td>Increase</td>\n",
       "        </tr>\n",
       "        <tr>\n",
       "            <td>2017</td> <td>17284 </td> <td>135755</td> <td>319356 </td> <td>810825 </td> <td>Decrease</td>\n",
       "        </tr>\n",
       "    </tbody>\n",
       "</table>"
      ],
      "text/plain": [
       "Year | Murder | Rape   | Robbery | Assault | Change\n",
       "2014 | 14164  | 118027 | 322905  | 731089  | Decrease\n",
       "2015 | 15883  | 126134 | 328109  | 764057  | Increase\n",
       "2016 | 17413  | 132414 | 332797  | 802982  | Increase\n",
       "2017 | 17284  | 135755 | 319356  | 810825  | Decrease"
      ]
     },
     "metadata": {},
     "output_type": "display_data"
    }
   ],
   "source": [
    "w2 = Table()\n",
    "w2 = w2.with_columns({'Year': [2014, 2015, 2016, 2017],\n",
    "                    'Murder': [14164, 15883, 17413, 17284],\n",
    "                    'Rape': [118027, 126134, 132414, 135755],\n",
    "                    'Robbery': [322905, 328109, 332797, 319356],\n",
    "                    'Assault': [731089, 764057, 802982, 810825],\n",
    "                    'Change': ['Decrease', 'Increase', 'Increase', 'Decrease']\n",
    "                   })\n",
    "display(w2)"
   ]
  },
  {
   "cell_type": "code",
   "execution_count": 38,
   "metadata": {},
   "outputs": [],
   "source": [
    "y=w.row(1)"
   ]
  },
  {
   "cell_type": "code",
   "execution_count": 39,
   "metadata": {},
   "outputs": [
    {
     "data": {
      "text/html": [
       "<table border=\"1\" class=\"dataframe\">\n",
       "    <thead>\n",
       "        <tr>\n",
       "            <th>Year</th> <th>Murder</th> <th>Rape</th> <th>Robbery</th> <th>Assault</th> <th>Change</th>\n",
       "        </tr>\n",
       "    </thead>\n",
       "    <tbody>\n",
       "        <tr>\n",
       "            <td>2014</td> <td>14164 </td> <td>118027</td> <td>322905 </td> <td>731089 </td> <td>Decrease</td>\n",
       "        </tr>\n",
       "        <tr>\n",
       "            <td>2015</td> <td>15883 </td> <td>126134</td> <td>328109 </td> <td>764057 </td> <td>Increase</td>\n",
       "        </tr>\n",
       "        <tr>\n",
       "            <td>2016</td> <td>17413 </td> <td>132414</td> <td>332797 </td> <td>802982 </td> <td>Increase</td>\n",
       "        </tr>\n",
       "        <tr>\n",
       "            <td>2017</td> <td>17284 </td> <td>135755</td> <td>319356 </td> <td>810825 </td> <td>Decrease</td>\n",
       "        </tr>\n",
       "    </tbody>\n",
       "</table>"
      ],
      "text/plain": [
       "Year | Murder | Rape   | Robbery | Assault | Change\n",
       "2014 | 14164  | 118027 | 322905  | 731089  | Decrease\n",
       "2015 | 15883  | 126134 | 328109  | 764057  | Increase\n",
       "2016 | 17413  | 132414 | 332797  | 802982  | Increase\n",
       "2017 | 17284  | 135755 | 319356  | 810825  | Decrease"
      ]
     },
     "metadata": {},
     "output_type": "display_data"
    }
   ],
   "source": [
    "w2 = Table()\n",
    "w2 = w2.with_columns('Year', [2014, 2015, 2016, 2017],\n",
    "                    'Murder', [14164, 15883, 17413, 17284],\n",
    "                    'Rape', [118027, 126134, 132414, 135755],\n",
    "                    'Robbery', [322905, 328109, 332797, 319356],\n",
    "                    'Assault', [731089, 764057, 802982, 810825],\n",
    "                    'Change', ['Decrease', 'Increase', 'Increase', 'Decrease']\n",
    "                     )\n",
    "display(w2)"
   ]
  },
  {
   "cell_type": "code",
   "execution_count": 40,
   "metadata": {},
   "outputs": [
    {
     "data": {
      "text/html": [
       "<table border=\"1\" class=\"dataframe\">\n",
       "    <thead>\n",
       "        <tr>\n",
       "            <th>Year</th> <th>Murder</th> <th>Rape</th> <th>Robbery</th> <th>Assault</th> <th>Change</th>\n",
       "        </tr>\n",
       "    </thead>\n",
       "    <tbody>\n",
       "        <tr>\n",
       "            <td>2014</td> <td>14164 </td> <td>118027</td> <td>322905 </td> <td>731089 </td> <td>Decrease</td>\n",
       "        </tr>\n",
       "        <tr>\n",
       "            <td>2015</td> <td>15883 </td> <td>126134</td> <td>328109 </td> <td>764057 </td> <td>Increase</td>\n",
       "        </tr>\n",
       "        <tr>\n",
       "            <td>2016</td> <td>17413 </td> <td>132414</td> <td>332797 </td> <td>802982 </td> <td>Increase</td>\n",
       "        </tr>\n",
       "        <tr>\n",
       "            <td>2017</td> <td>17284 </td> <td>135755</td> <td>319356 </td> <td>810825 </td> <td>Decrease</td>\n",
       "        </tr>\n",
       "    </tbody>\n",
       "</table>"
      ],
      "text/plain": [
       "Year | Murder | Rape   | Robbery | Assault | Change\n",
       "2014 | 14164  | 118027 | 322905  | 731089  | Decrease\n",
       "2015 | 15883  | 126134 | 328109  | 764057  | Increase\n",
       "2016 | 17413  | 132414 | 332797  | 802982  | Increase\n",
       "2017 | 17284  | 135755 | 319356  | 810825  | Decrease"
      ]
     },
     "execution_count": 40,
     "metadata": {},
     "output_type": "execute_result"
    }
   ],
   "source": [
    "from datascience import *\n",
    "\n",
    "w = Table( ['Year', 'Murder', 'Rape', 'Robbery', 'Assault', 'Change'] )\n",
    "w = w.with_row( [2014, 14164, 118027, 322905, 731089, 'Decrease'] )\n",
    "w = w.with_row( [2015, 15883, 126134, 328109, 764057, 'Increase'] )\n",
    "w = w.with_row( [2016, 17413, 132414, 332797, 802982, 'Increase'] )\n",
    "w = w.with_row( [2017, 17284, 135755, 319356, 810825, 'Decrease'] )\n",
    "\n",
    "w"
   ]
  },
  {
   "cell_type": "code",
   "execution_count": 41,
   "metadata": {},
   "outputs": [
    {
     "data": {
      "text/html": [
       "<table border=\"1\" class=\"dataframe\">\n",
       "    <thead>\n",
       "        <tr>\n",
       "            <th>Year</th> <th>Murder</th> <th>Rape</th> <th>Robbery</th> <th>Assault</th> <th>Change</th>\n",
       "        </tr>\n",
       "    </thead>\n",
       "    <tbody>\n",
       "        <tr>\n",
       "            <td>2014</td> <td>14164 </td> <td>118027</td> <td>322905 </td> <td>731089 </td> <td>Decrease</td>\n",
       "        </tr>\n",
       "        <tr>\n",
       "            <td>2015</td> <td>15883 </td> <td>126134</td> <td>328109 </td> <td>764057 </td> <td>Increase</td>\n",
       "        </tr>\n",
       "        <tr>\n",
       "            <td>2016</td> <td>17413 </td> <td>132414</td> <td>332797 </td> <td>802982 </td> <td>Increase</td>\n",
       "        </tr>\n",
       "        <tr>\n",
       "            <td>2017</td> <td>17284 </td> <td>135755</td> <td>319356 </td> <td>810825 </td> <td>Decrease</td>\n",
       "        </tr>\n",
       "    </tbody>\n",
       "</table>"
      ],
      "text/plain": [
       "Year | Murder | Rape   | Robbery | Assault | Change\n",
       "2014 | 14164  | 118027 | 322905  | 731089  | Decrease\n",
       "2015 | 15883  | 126134 | 328109  | 764057  | Increase\n",
       "2016 | 17413  | 132414 | 332797  | 802982  | Increase\n",
       "2017 | 17284  | 135755 | 319356  | 810825  | Decrease"
      ]
     },
     "metadata": {},
     "output_type": "display_data"
    }
   ],
   "source": [
    "w2 = Table()\n",
    "w2 = w2.with_column('Year', [2014, 2015, 2016, 2017])               \n",
    "w2 = w2.with_column('Murder', [14164, 15883, 17413, 17284])\n",
    "w2 = w2.with_column('Rape', [118027, 126134, 132414, 135755])\n",
    "w2 = w2.with_column('Robbery', [322905, 328109, 332797, 319356])\n",
    "w2 = w2.with_column('Assault', [731089, 764057, 802982, 810825])\n",
    "w2 = w2.with_column('Change', ['Decrease', 'Increase', 'Increase', 'Decrease'])\n",
    "\n",
    "\n",
    "display(w2)"
   ]
  },
  {
   "cell_type": "code",
   "execution_count": 42,
   "metadata": {},
   "outputs": [
    {
     "data": {
      "text/html": [
       "<table border=\"1\" class=\"dataframe\">\n",
       "    <thead>\n",
       "        <tr>\n",
       "            <th>Year</th> <th>Murder</th> <th>Rape</th> <th>Robbery</th> <th>Assault</th> <th>Change</th>\n",
       "        </tr>\n",
       "    </thead>\n",
       "    <tbody>\n",
       "        <tr>\n",
       "            <td>2014</td> <td>14164 </td> <td>118027</td> <td>322905 </td> <td>731089 </td> <td>Decrease</td>\n",
       "        </tr>\n",
       "        <tr>\n",
       "            <td>2015</td> <td>15883 </td> <td>126134</td> <td>328109 </td> <td>764057 </td> <td>Increase</td>\n",
       "        </tr>\n",
       "        <tr>\n",
       "            <td>2016</td> <td>17413 </td> <td>132414</td> <td>332797 </td> <td>802982 </td> <td>Increase</td>\n",
       "        </tr>\n",
       "        <tr>\n",
       "            <td>2017</td> <td>17284 </td> <td>135755</td> <td>319356 </td> <td>810825 </td> <td>Decrease</td>\n",
       "        </tr>\n",
       "    </tbody>\n",
       "</table>"
      ],
      "text/plain": [
       "Year | Murder | Rape   | Robbery | Assault | Change\n",
       "2014 | 14164  | 118027 | 322905  | 731089  | Decrease\n",
       "2015 | 15883  | 126134 | 328109  | 764057  | Increase\n",
       "2016 | 17413  | 132414 | 332797  | 802982  | Increase\n",
       "2017 | 17284  | 135755 | 319356  | 810825  | Decrease"
      ]
     },
     "execution_count": 42,
     "metadata": {},
     "output_type": "execute_result"
    }
   ],
   "source": [
    "from datascience import *\n",
    "\n",
    "w2=Table()\n",
    "w2.append_column('Year', [2014, 2015, 2016, 2017])               \n",
    "w2.append_column('Murder', [14164, 15883, 17413, 17284])\n",
    "w2.append_column('Rape', [118027, 126134, 132414, 135755])\n",
    "w2.append_column('Robbery', [322905, 328109, 332797, 319356])\n",
    "w2.append_column('Assault', [731089, 764057, 802982, 810825])\n",
    "w2.append_column('Change', ['Decrease', 'Increase', 'Increase', 'Decrease'])\n",
    "\n",
    "w2"
   ]
  },
  {
   "cell_type": "code",
   "execution_count": 43,
   "metadata": {},
   "outputs": [
    {
     "data": {
      "text/html": [
       "<table border=\"1\" class=\"dataframe\">\n",
       "    <thead>\n",
       "        <tr>\n",
       "            <th>Year</th> <th>Murder</th> <th>Rape</th> <th>Robbery</th> <th>Assault</th> <th>Change</th>\n",
       "        </tr>\n",
       "    </thead>\n",
       "    <tbody>\n",
       "        <tr>\n",
       "            <td>2014</td> <td>14164 </td> <td>118027</td> <td>322905 </td> <td>731089 </td> <td>Decrease</td>\n",
       "        </tr>\n",
       "        <tr>\n",
       "            <td>2015</td> <td>15883 </td> <td>126134</td> <td>328109 </td> <td>764057 </td> <td>Increase</td>\n",
       "        </tr>\n",
       "        <tr>\n",
       "            <td>2016</td> <td>17413 </td> <td>132414</td> <td>332797 </td> <td>802982 </td> <td>Increase</td>\n",
       "        </tr>\n",
       "        <tr>\n",
       "            <td>2017</td> <td>17284 </td> <td>135755</td> <td>319356 </td> <td>810825 </td> <td>Decrease</td>\n",
       "        </tr>\n",
       "    </tbody>\n",
       "</table>"
      ],
      "text/plain": [
       "Year | Murder | Rape   | Robbery | Assault | Change\n",
       "2014 | 14164  | 118027 | 322905  | 731089  | Decrease\n",
       "2015 | 15883  | 126134 | 328109  | 764057  | Increase\n",
       "2016 | 17413  | 132414 | 332797  | 802982  | Increase\n",
       "2017 | 17284  | 135755 | 319356  | 810825  | Decrease"
      ]
     },
     "execution_count": 43,
     "metadata": {},
     "output_type": "execute_result"
    }
   ],
   "source": [
    "from datascience import *\n",
    "\n",
    "w = Table( ['Year', 'Murder', 'Rape', 'Robbery', 'Assault', 'Change'] )\n",
    "w = w.append( [2014, 14164, 118027, 322905, 731089, 'Decrease'] )\n",
    "w = w.append( [2015, 15883, 126134, 328109, 764057, 'Increase'] )\n",
    "w = w.append( [2016, 17413, 132414, 332797, 802982, 'Increase'] )\n",
    "w = w.append( [2017, 17284, 135755, 319356, 810825, 'Decrease'] )\n",
    "\n",
    "w"
   ]
  },
  {
   "cell_type": "code",
   "execution_count": 44,
   "metadata": {},
   "outputs": [
    {
     "data": {
      "text/html": [
       "<table border=\"1\" class=\"dataframe\">\n",
       "    <thead>\n",
       "        <tr>\n",
       "            <th>Year</th> <th>Murders</th> <th>Murder Rate</th> <th>Trend</th>\n",
       "        </tr>\n",
       "    </thead>\n",
       "    <tbody>\n",
       "        <tr>\n",
       "            <td>2014</td> <td>14164  </td> <td>4.4        </td> <td>Decrease</td>\n",
       "        </tr>\n",
       "        <tr>\n",
       "            <td>2015</td> <td>15883  </td> <td>4.9        </td> <td>Increase</td>\n",
       "        </tr>\n",
       "        <tr>\n",
       "            <td>2016</td> <td>17413  </td> <td>5.4        </td> <td>Increase</td>\n",
       "        </tr>\n",
       "        <tr>\n",
       "            <td>2017</td> <td>17284  </td> <td>5.3        </td> <td>Decrease</td>\n",
       "        </tr>\n",
       "    </tbody>\n",
       "</table>"
      ],
      "text/plain": [
       "Year | Murders | Murder Rate | Trend\n",
       "2014 | 14164   | 4.4         | Decrease\n",
       "2015 | 15883   | 4.9         | Increase\n",
       "2016 | 17413   | 5.4         | Increase\n",
       "2017 | 17284   | 5.3         | Decrease"
      ]
     },
     "execution_count": 44,
     "metadata": {},
     "output_type": "execute_result"
    }
   ],
   "source": [
    "from datascience import *\n",
    "\n",
    "murders = Table(['Year', 'Murders', 'Murder Rate', 'Trend'])\n",
    "murders.append( [2014, 14164, 4.4, 'Decrease'] )\n",
    "murders.append( [2015, 15883, 4.9, 'Increase'] )\n",
    "murders.append( [2016, 17413, 5.4, 'Increase'] )\n",
    "murders.append( [2017, 17284, 5.3, 'Decrease'] )\n",
    "\n",
    "murders\n"
   ]
  },
  {
   "cell_type": "code",
   "execution_count": 45,
   "metadata": {},
   "outputs": [
    {
     "name": "stdout",
     "output_type": "stream",
     "text": [
      "[14164 15883 17413 17284]\n"
     ]
    }
   ],
   "source": [
    "print(murders.column('Murders'))"
   ]
  },
  {
   "cell_type": "code",
   "execution_count": 116,
   "metadata": {},
   "outputs": [
    {
     "name": "stdout",
     "output_type": "stream",
     "text": [
      "Row(Year=2016, Murders=17413, Murder Rate=5.4, Trend='Increase')\n"
     ]
    }
   ],
   "source": [
    "print(murders.row(2))"
   ]
  },
  {
   "cell_type": "markdown",
   "metadata": {},
   "source": [
    "#### According to the FBI, here are the statistics for murders in the US from 2014 to 2017:\n",
    "<br>\n",
    "<table align='center', style=\"border:1px solid black;\">\n",
    "    <tr>\n",
    "        <td bgcolor=\"#cfe2f3\", style='color:#000; font-size:10pt; border:1px solid black;', align='center', >\n",
    "            <b>Year</b>\n",
    "        </td>\n",
    "        <td bgcolor=\"#cfe2f3\", style='color:#000; font-size:10pt; border:1px solid black;', align='center'>\n",
    "            <b>Murders</b>\n",
    "        </td>\n",
    "        <td bgcolor=\"#cfe2f3\", style='color:#000; font-size:10pt; border:1px solid black;', align='center', >\n",
    "            <b>Murder Rate</b>\n",
    "        </td>\n",
    "        <td bgcolor=\"#cfe2f3\", style='color:#000; font-size:10pt; border:1px solid black;', align='center'>\n",
    "            <b>Trend</b>\n",
    "        </td>\n",
    "    </tr>\n",
    "    <tr>\n",
    "        <td bgcolor=\"#d9ead3\", style='color:#000; font-size:10pt; border:1px solid black;', align='center'>\n",
    "            2014\n",
    "        </td>\n",
    "        <td bgcolor=\"#d9ead3\", style='color:#000; font-size:10pt; border:1px solid black;', align='center'>\n",
    "            14,164\n",
    "        </td>\n",
    "        <td bgcolor=\"#d9ead3\", style='color:#000; font-size:10pt; border:1px solid black;', align='center'>\n",
    "            4.4\n",
    "        </td>\n",
    "        <td bgcolor=\"#d9ead3\", style='color:#000; font-size:10pt; border:1px solid black;', align='center'>\n",
    "            Decrease\n",
    "        </td>\n",
    "    </tr>\n",
    "    <tr>\n",
    "        <td bgcolor=\"#d9ead3\", style='color:#000; font-size:10pt; border:1px solid black;', align='center'>\n",
    "            2015\n",
    "        </td>\n",
    "        <td bgcolor=\"#d9ead3\", style='color:#000; font-size:10pt; border:1px solid black;', align='center'>\n",
    "            15,883\n",
    "        </td>\n",
    "        <td bgcolor=\"#d9ead3\", style='color:#000; font-size:10pt; border:1px solid black;', align='center'>\n",
    "            4.9\n",
    "        </td>\n",
    "        <td bgcolor=\"#d9ead3\", style='color:#000; font-size:10pt; border:1px solid black;', align='center'>\n",
    "            Increase\n",
    "        </td>\n",
    "    </tr>\n",
    "    <tr>\n",
    "        <td bgcolor=\"#d9ead3\", style='color:#000; font-size:10pt; border:1px solid black;', align='center'>\n",
    "            2016\n",
    "        </td>\n",
    "        <td bgcolor=\"#d9ead3\", style='color:#000; font-size:10pt; border:1px solid black;', align='center'>\n",
    "            17,413\n",
    "        </td>\n",
    "        <td bgcolor=\"#d9ead3\", style='color:#000; font-size:10pt; border:1px solid black;', align='center'>\n",
    "            5.4\n",
    "        </td>\n",
    "        <td bgcolor=\"#d9ead3\", style='color:#000; font-size:10pt; border:1px solid black;', align='center'>\n",
    "            Increase\n",
    "        </td>\n",
    "    </tr>\n",
    "    <tr>\n",
    "        <td bgcolor=\"#d9ead3\", style='color:#000; font-size:10pt; border:1px solid black;', align='center'>\n",
    "            2017\n",
    "        </td>\n",
    "        <td bgcolor=\"#d9ead3\", style='color:#000; font-size:10pt; border:1px solid black;', align='center'>\n",
    "            17,284\n",
    "        </td>\n",
    "        <td bgcolor=\"#d9ead3\", style='color:#000; font-size:10pt; border:1px solid black;', align='center'>\n",
    "            5.3\n",
    "        </td>\n",
    "        <td bgcolor=\"#d9ead3\", style='color:#000; font-size:10pt; border:1px solid black;', align='center'>\n",
    "            Decrease\n",
    "        </td>\n",
    "    </tr>\n",
    "</table>\n",
    "\n"
   ]
  },
  {
   "cell_type": "code",
   "execution_count": 128,
   "metadata": {},
   "outputs": [
    {
     "data": {
      "text/html": [
       "<table border=\"1\" class=\"dataframe\">\n",
       "    <thead>\n",
       "        <tr>\n",
       "            <th>date</th> <th>cases</th> <th>deaths</th>\n",
       "        </tr>\n",
       "    </thead>\n",
       "    <tbody>\n",
       "        <tr>\n",
       "            <td>2020-01-21</td> <td>1    </td> <td>0     </td>\n",
       "        </tr>\n",
       "        <tr>\n",
       "            <td>2020-01-22</td> <td>1    </td> <td>0     </td>\n",
       "        </tr>\n",
       "        <tr>\n",
       "            <td>2020-01-23</td> <td>1    </td> <td>0     </td>\n",
       "        </tr>\n",
       "        <tr>\n",
       "            <td>2020-01-24</td> <td>2    </td> <td>0     </td>\n",
       "        </tr>\n",
       "        <tr>\n",
       "            <td>2020-01-25</td> <td>3    </td> <td>0     </td>\n",
       "        </tr>\n",
       "        <tr>\n",
       "            <td>2020-01-26</td> <td>5    </td> <td>0     </td>\n",
       "        </tr>\n",
       "        <tr>\n",
       "            <td>2020-01-27</td> <td>5    </td> <td>0     </td>\n",
       "        </tr>\n",
       "        <tr>\n",
       "            <td>2020-01-28</td> <td>5    </td> <td>0     </td>\n",
       "        </tr>\n",
       "        <tr>\n",
       "            <td>2020-01-29</td> <td>5    </td> <td>0     </td>\n",
       "        </tr>\n",
       "        <tr>\n",
       "            <td>2020-01-30</td> <td>6    </td> <td>0     </td>\n",
       "        </tr>\n",
       "    </tbody>\n",
       "</table>\n",
       "<p>... (87 rows omitted)</p>"
      ],
      "text/plain": [
       "date       | cases | deaths\n",
       "2020-01-21 | 1     | 0\n",
       "2020-01-22 | 1     | 0\n",
       "2020-01-23 | 1     | 0\n",
       "2020-01-24 | 2     | 0\n",
       "2020-01-25 | 3     | 0\n",
       "2020-01-26 | 5     | 0\n",
       "2020-01-27 | 5     | 0\n",
       "2020-01-28 | 5     | 0\n",
       "2020-01-29 | 5     | 0\n",
       "2020-01-30 | 6     | 0\n",
       "... (87 rows omitted)"
      ]
     },
     "execution_count": 128,
     "metadata": {},
     "output_type": "execute_result"
    }
   ],
   "source": [
    "#New York Times Coronavirus (Covid-19) Data in the United States\n",
    "#https://github.com/nytimes/covid-19-data\n",
    "\n",
    "us = Table.read_table('https://raw.githubusercontent.com/nytimes/covid-19-data/master/us.csv')\n",
    "states = Table.read_table('https://raw.githubusercontent.com/nytimes/covid-19-data/master/us-states.csv')\n",
    "counties = Table.read_table('https://raw.githubusercontent.com/nytimes/covid-19-data/master/us-counties.csv')\n",
    "\n",
    "us"
   ]
  },
  {
   "cell_type": "markdown",
   "metadata": {},
   "source": [
    "<img align=\"middle\" src=\"⁨/Users⁩/⁨jvolcy⁩/⁨Documents/⁨Spelman⁩/AUC%20DS/⁨DS4ALL⁩/⁨Data%20Sets⁩/fert_vs_life_expectancy⁩/fert_vs_le.png\" style=\"width:300px;\">\n",
    "\n",
    "<img align=\"middle\" src=\"/Users/jvolcy/Documents/Spelman/AUC DS/DS4ALL/Course-Materials/assignments/Dxxxxx-assignment_scratchpad/images/grandPrize.png\" style=\"width:300px;\">\n",
    "\n",
    "<img align=\"middle\" src=\"/Users/jvolcy/Documents/Spelman/AUC DS/DS4ALL/Course-Materials/images/\"\n",
    "\n",
    "<imgx align=\"middle\" src=\"images/grandPrize.png\" style=\"width:300px;\">\n",
    "\n"
   ]
  },
  {
   "cell_type": "code",
   "execution_count": 46,
   "metadata": {},
   "outputs": [
    {
     "data": {
      "text/plain": [
       "6"
      ]
     },
     "execution_count": 46,
     "metadata": {},
     "output_type": "execute_result"
    }
   ],
   "source": [
    "3+3"
   ]
  },
  {
   "cell_type": "code",
   "execution_count": 67,
   "metadata": {},
   "outputs": [
    {
     "data": {
      "text/plain": [
       "3.142857142857143"
      ]
     },
     "execution_count": 67,
     "metadata": {},
     "output_type": "execute_result"
    }
   ],
   "source": [
    "22/7"
   ]
  },
  {
   "cell_type": "code",
   "execution_count": 74,
   "metadata": {},
   "outputs": [
    {
     "data": {
      "text/plain": [
       "22.0"
      ]
     },
     "execution_count": 74,
     "metadata": {},
     "output_type": "execute_result"
    }
   ],
   "source": [
    "(22/7000000)*7000000"
   ]
  },
  {
   "cell_type": "code",
   "execution_count": 5,
   "metadata": {},
   "outputs": [
    {
     "ename": "NameError",
     "evalue": "name 'math' is not defined",
     "output_type": "error",
     "traceback": [
      "\u001b[0;31m--------------------------------------------------------------------------\u001b[0m",
      "\u001b[0;31mNameError\u001b[0m                                Traceback (most recent call last)",
      "\u001b[0;32m<ipython-input-5-02c69508808a>\u001b[0m in \u001b[0;36m<module>\u001b[0;34m\u001b[0m\n\u001b[1;32m      3\u001b[0m \u001b[0mget_ipython\u001b[0m\u001b[0;34m(\u001b[0m\u001b[0;34m)\u001b[0m\u001b[0;34m.\u001b[0m\u001b[0mrun_line_magic\u001b[0m\u001b[0;34m(\u001b[0m\u001b[0;34m'matplotlib'\u001b[0m\u001b[0;34m,\u001b[0m \u001b[0;34m'inline'\u001b[0m\u001b[0;34m)\u001b[0m\u001b[0;34m\u001b[0m\u001b[0;34m\u001b[0m\u001b[0m\n\u001b[1;32m      4\u001b[0m \u001b[0;34m\u001b[0m\u001b[0m\n\u001b[0;32m----> 5\u001b[0;31m \u001b[0mmath\u001b[0m\u001b[0;34m.\u001b[0m\u001b[0msqrt\u001b[0m\u001b[0;34m(\u001b[0m\u001b[0;36m3\u001b[0m\u001b[0;34m)\u001b[0m\u001b[0;34m\u001b[0m\u001b[0;34m\u001b[0m\u001b[0m\n\u001b[0m",
      "\u001b[0;31mNameError\u001b[0m: name 'math' is not defined"
     ]
    }
   ],
   "source": [
    "from datascience import *\n",
    "import numpy as np\n",
    "%matplotlib inline\n",
    "\n"
   ]
  },
  {
   "cell_type": "code",
   "execution_count": 79,
   "metadata": {},
   "outputs": [
    {
     "data": {
      "text/plain": [
       "3.142857142857143"
      ]
     },
     "execution_count": 79,
     "metadata": {},
     "output_type": "execute_result"
    }
   ],
   "source": [
    "22/7"
   ]
  },
  {
   "cell_type": "code",
   "execution_count": 80,
   "metadata": {},
   "outputs": [
    {
     "data": {
      "text/plain": [
       "3.142857142857143e-06"
      ]
     },
     "execution_count": 80,
     "metadata": {},
     "output_type": "execute_result"
    }
   ],
   "source": [
    "22/7000000"
   ]
  },
  {
   "cell_type": "code",
   "execution_count": 81,
   "metadata": {},
   "outputs": [
    {
     "data": {
      "text/plain": [
       "154"
      ]
     },
     "execution_count": 81,
     "metadata": {},
     "output_type": "execute_result"
    }
   ],
   "source": [
    "22*7"
   ]
  },
  {
   "cell_type": "code",
   "execution_count": 1,
   "metadata": {},
   "outputs": [
    {
     "ename": "NameError",
     "evalue": "name 'math' is not defined",
     "output_type": "error",
     "traceback": [
      "\u001b[0;31m--------------------------------------------------------------------------\u001b[0m",
      "\u001b[0;31mNameError\u001b[0m                                Traceback (most recent call last)",
      "\u001b[0;32m<ipython-input-1-51c8bcbe0ecf>\u001b[0m in \u001b[0;36m<module>\u001b[0;34m\u001b[0m\n\u001b[0;32m----> 1\u001b[0;31m \u001b[0mmath\u001b[0m\u001b[0;34m.\u001b[0m\u001b[0msqrt\u001b[0m\u001b[0;34m(\u001b[0m\u001b[0;36m3\u001b[0m\u001b[0;34m)\u001b[0m\u001b[0;34m\u001b[0m\u001b[0;34m\u001b[0m\u001b[0m\n\u001b[0m",
      "\u001b[0;31mNameError\u001b[0m: name 'math' is not defined"
     ]
    }
   ],
   "source": [
    "math.sqrt(3)"
   ]
  },
  {
   "cell_type": "code",
   "execution_count": 6,
   "metadata": {},
   "outputs": [
    {
     "data": {
      "text/plain": [
       "7.0"
      ]
     },
     "execution_count": 6,
     "metadata": {},
     "output_type": "execute_result"
    }
   ],
   "source": [
    "49**0.5"
   ]
  },
  {
   "cell_type": "code",
   "execution_count": 7,
   "metadata": {},
   "outputs": [
    {
     "data": {
      "text/plain": [
       "1.4142135623730951"
      ]
     },
     "execution_count": 7,
     "metadata": {},
     "output_type": "execute_result"
    }
   ],
   "source": [
    "2**0.5"
   ]
  },
  {
   "cell_type": "code",
   "execution_count": 8,
   "metadata": {},
   "outputs": [
    {
     "data": {
      "text/plain": [
       "2.0000000000000004"
      ]
     },
     "execution_count": 8,
     "metadata": {},
     "output_type": "execute_result"
    }
   ],
   "source": [
    "(2**0.5)**2"
   ]
  },
  {
   "cell_type": "code",
   "execution_count": 9,
   "metadata": {},
   "outputs": [
    {
     "data": {
      "text/plain": [
       "2.9999999999999996"
      ]
     },
     "execution_count": 9,
     "metadata": {},
     "output_type": "execute_result"
    }
   ],
   "source": [
    "(3**0.5)**2"
   ]
  },
  {
   "cell_type": "code",
   "execution_count": 10,
   "metadata": {},
   "outputs": [
    {
     "data": {
      "text/plain": [
       "4.440892098500626e-16"
      ]
     },
     "execution_count": 10,
     "metadata": {},
     "output_type": "execute_result"
    }
   ],
   "source": [
    "3 - (3**0.5)**2"
   ]
  },
  {
   "cell_type": "code",
   "execution_count": 28,
   "metadata": {},
   "outputs": [
    {
     "data": {
      "text/plain": [
       "6999.999999999999"
      ]
     },
     "execution_count": 28,
     "metadata": {},
     "output_type": "execute_result"
    }
   ],
   "source": [
    "1/(1/7000)"
   ]
  },
  {
   "cell_type": "code",
   "execution_count": 29,
   "metadata": {},
   "outputs": [
    {
     "ename": "SyntaxError",
     "evalue": "invalid syntax (<ipython-input-29-7ba59c4d6bd5>, line 1)",
     "output_type": "error",
     "traceback": [
      "\u001b[0;36m  File \u001b[0;32m\"<ipython-input-29-7ba59c4d6bd5>\"\u001b[0;36m, line \u001b[0;32m1\u001b[0m\n\u001b[0;31m    3 * * 2\u001b[0m\n\u001b[0m        ^\u001b[0m\n\u001b[0;31mSyntaxError\u001b[0m\u001b[0;31m:\u001b[0m invalid syntax\n"
     ]
    }
   ],
   "source": [
    "3 * * 2"
   ]
  },
  {
   "cell_type": "code",
   "execution_count": 34,
   "metadata": {},
   "outputs": [],
   "source": [
    "from datascience import *\n",
    "import numpy as np\n",
    "%matplotlib inline\n",
    "\n",
    "A = make_array(2, 4, 5, 7)\n",
    "B = make_array(1, 3, 4, 5)"
   ]
  },
  {
   "cell_type": "code",
   "execution_count": 35,
   "metadata": {},
   "outputs": [
    {
     "data": {
      "text/plain": [
       "array([2.        , 1.33333333, 1.25      , 1.4       ])"
      ]
     },
     "execution_count": 35,
     "metadata": {},
     "output_type": "execute_result"
    }
   ],
   "source": [
    "A/B"
   ]
  },
  {
   "cell_type": "code",
   "execution_count": 36,
   "metadata": {},
   "outputs": [
    {
     "data": {
      "text/plain": [
       "array([0.66666667, 1.33333333, 1.66666667, 2.33333333])"
      ]
     },
     "execution_count": 36,
     "metadata": {},
     "output_type": "execute_result"
    }
   ],
   "source": [
    "A/3"
   ]
  },
  {
   "cell_type": "code",
   "execution_count": 37,
   "metadata": {},
   "outputs": [
    {
     "data": {
      "text/plain": [
       "array([ 2, 12, 20, 35])"
      ]
     },
     "execution_count": 37,
     "metadata": {},
     "output_type": "execute_result"
    }
   ],
   "source": [
    "A*B"
   ]
  },
  {
   "cell_type": "markdown",
   "metadata": {},
   "source": [
    "x\n",
    "<iframe frameborder=\"0\" width=\"100%\" height=\"600px\" src=\"https://repl.it/student_embed/assignment/5238353/6e627f1d65b34f56d3fcea0e982c3ba1\"></iframe>\n",
    "xx\n",
    "<iframe frameborder=\"0\" width=\"100%\" height=\"600px\" src=\"https://www.spelman.edu\"></iframe>\n",
    "xxx"
   ]
  },
  {
   "cell_type": "code",
   "execution_count": 33,
   "metadata": {},
   "outputs": [
    {
     "data": {
      "text/html": [
       "<table border=\"1\" class=\"dataframe\">\n",
       "    <thead>\n",
       "        <tr>\n",
       "            <th>CASEID</th> <th>SEX</th> <th>AGE</th> <th>RACE</th> <th>MARITAL</th> <th>CHILDS</th> <th>AGEKDBRN</th> <th>EARNRS</th> <th>BORN</th> <th>CLASS</th> <th>DWELOWN</th> <th>INCOMECAT</th> <th>INCOME</th> <th>RINCOMECAT</th> <th>RINCOME</th> <th>EDUC</th> <th>SPEDU</th> <th>PAEDU</th> <th>MAEDUC</th> <th>DEGREE</th> <th>SPDEG</th> <th>PADEG</th> <th>MADEG</th> <th>WRKSTAT</th> <th>SPWRKSTA</th> <th>HRS1</th> <th>SPHRS1</th> <th>WRKSLF</th> <th>WRKGOVT</th> <th>TVHOURS</th> <th>PARTYID</th> <th>PARTYID3</th> <th>POLVIEWS</th> <th>POLVIEWS3</th> <th>CAPUN</th> <th>GUNLAW</th> <th>EQWLTH</th> <th>HELPPOOR</th> <th>HELPNOT</th> <th>HELPSICK</th> <th>TAX</th> <th>ODDS1</th> <th>ODDS2</th> <th>HOTCORE</th> <th>EARTHSUN</th> <th>JOBLOSE</th> <th>JOBFIND</th> <th>SATJOB</th> <th>RICHWORK</th> <th>JOBINC</th> <th>JOBSEC</th> <th>JOBHOURS</th> <th>JOBPROMO</th> <th>JOBMEANS</th> <th>NEWS</th> <th>HAPPY</th> <th>HAPMAR</th> <th>HEALTH</th> <th>LIFE</th> <th>UNEMP</th> <th>UNION</th> <th>PARSOL</th> <th>KIDSSOL</th>\n",
       "        </tr>\n",
       "    </thead>\n",
       "    <tbody>\n",
       "        <tr>\n",
       "            <td>57062 </td> <td>1   </td> <td>53  </td> <td>1   </td> <td>3      </td> <td>0     </td> <td>nan     </td> <td>1     </td> <td>1   </td> <td>3    </td> <td>nan    </td> <td>21       </td> <td>82,500 </td> <td>21        </td> <td>82,500 </td> <td>16  </td> <td>nan  </td> <td>nan  </td> <td>9     </td> <td>3     </td> <td>nan  </td> <td>nan  </td> <td>0    </td> <td>1      </td> <td>0       </td> <td>60  </td> <td>nan   </td> <td>1     </td> <td>2      </td> <td>nan    </td> <td>5      </td> <td>3       </td> <td>6       </td> <td>3        </td> <td>1    </td> <td>1     </td> <td>7     </td> <td>5       </td> <td>5      </td> <td>5       </td> <td>2   </td> <td>nan  </td> <td>nan  </td> <td>nan    </td> <td>nan     </td> <td>nan    </td> <td>nan    </td> <td>2     </td> <td>2       </td> <td>nan   </td> <td>nan   </td> <td>nan     </td> <td>nan     </td> <td>nan     </td> <td>nan </td> <td>1    </td> <td>nan   </td> <td>1     </td> <td>1   </td> <td>1    </td> <td>4    </td> <td>3     </td> <td>nan    </td>\n",
       "        </tr>\n",
       "        <tr>\n",
       "            <td>57063 </td> <td>2   </td> <td>26  </td> <td>1   </td> <td>1      </td> <td>0     </td> <td>nan     </td> <td>2     </td> <td>1   </td> <td>3    </td> <td>nan    </td> <td>25       </td> <td>175,000</td> <td>21        </td> <td>82,500 </td> <td>16  </td> <td>16   </td> <td>16   </td> <td>14    </td> <td>3     </td> <td>3    </td> <td>3    </td> <td>2    </td> <td>1      </td> <td>1       </td> <td>40  </td> <td>75    </td> <td>2     </td> <td>2      </td> <td>nan    </td> <td>5      </td> <td>3       </td> <td>5       </td> <td>3        </td> <td>2    </td> <td>1     </td> <td>2     </td> <td>3       </td> <td>4      </td> <td>3       </td> <td>1   </td> <td>nan  </td> <td>nan  </td> <td>nan    </td> <td>nan     </td> <td>nan    </td> <td>nan    </td> <td>2     </td> <td>2       </td> <td>nan   </td> <td>nan   </td> <td>nan     </td> <td>nan     </td> <td>nan     </td> <td>nan </td> <td>1    </td> <td>1     </td> <td>1     </td> <td>1   </td> <td>1    </td> <td>4    </td> <td>1     </td> <td>2      </td>\n",
       "        </tr>\n",
       "        <tr>\n",
       "            <td>57064 </td> <td>1   </td> <td>59  </td> <td>1   </td> <td>3      </td> <td>1     </td> <td>27      </td> <td>1     </td> <td>1   </td> <td>2    </td> <td>1      </td> <td>18       </td> <td>45,000 </td> <td>nan       </td> <td>nan    </td> <td>13  </td> <td>nan  </td> <td>nan  </td> <td>12    </td> <td>1     </td> <td>nan  </td> <td>nan  </td> <td>1    </td> <td>4      </td> <td>0       </td> <td>nan </td> <td>nan   </td> <td>2     </td> <td>2      </td> <td>4      </td> <td>6      </td> <td>3       </td> <td>5       </td> <td>3        </td> <td>1    </td> <td>2     </td> <td>nan   </td> <td>nan     </td> <td>nan    </td> <td>nan     </td> <td>2   </td> <td>nan  </td> <td>nan  </td> <td>nan    </td> <td>nan     </td> <td>nan    </td> <td>nan    </td> <td>1     </td> <td>2       </td> <td>2     </td> <td>3     </td> <td>5       </td> <td>4       </td> <td>1       </td> <td>2   </td> <td>3    </td> <td>nan   </td> <td>2     </td> <td>3   </td> <td>nan  </td> <td>nan  </td> <td>nan   </td> <td>nan    </td>\n",
       "        </tr>\n",
       "        <tr>\n",
       "            <td>57065 </td> <td>2   </td> <td>56  </td> <td>1   </td> <td>1      </td> <td>2     </td> <td>38      </td> <td>3     </td> <td>1   </td> <td>3    </td> <td>1      </td> <td>25       </td> <td>175,000</td> <td>10        </td> <td>13,750 </td> <td>16  </td> <td>16   </td> <td>12   </td> <td>12    </td> <td>3     </td> <td>3    </td> <td>1    </td> <td>1    </td> <td>2      </td> <td>1       </td> <td>20  </td> <td>40    </td> <td>2     </td> <td>2      </td> <td>2      </td> <td>5      </td> <td>3       </td> <td>4       </td> <td>2        </td> <td>2    </td> <td>nan   </td> <td>5     </td> <td>4       </td> <td>3      </td> <td>4       </td> <td>nan </td> <td>2    </td> <td>1    </td> <td>1      </td> <td>1       </td> <td>4      </td> <td>3      </td> <td>1     </td> <td>nan     </td> <td>nan   </td> <td>nan   </td> <td>nan     </td> <td>nan     </td> <td>nan     </td> <td>1   </td> <td>1    </td> <td>1     </td> <td>nan   </td> <td>nan </td> <td>2    </td> <td>4    </td> <td>1     </td> <td>3      </td>\n",
       "        </tr>\n",
       "        <tr>\n",
       "            <td>57066 </td> <td>2   </td> <td>74  </td> <td>1   </td> <td>1      </td> <td>3     </td> <td>24      </td> <td>0     </td> <td>1   </td> <td>3    </td> <td>nan    </td> <td>nan      </td> <td>nan    </td> <td>nan       </td> <td>nan    </td> <td>17  </td> <td>15   </td> <td>8    </td> <td>17    </td> <td>3     </td> <td>1    </td> <td>0    </td> <td>4    </td> <td>5      </td> <td>5       </td> <td>nan </td> <td>nan   </td> <td>2     </td> <td>1      </td> <td>nan    </td> <td>3      </td> <td>2       </td> <td>4       </td> <td>2        </td> <td>2    </td> <td>1     </td> <td>6     </td> <td>2       </td> <td>3      </td> <td>2       </td> <td>1   </td> <td>nan  </td> <td>nan  </td> <td>nan    </td> <td>nan     </td> <td>nan    </td> <td>nan    </td> <td>nan   </td> <td>nan     </td> <td>nan   </td> <td>nan   </td> <td>nan     </td> <td>nan     </td> <td>nan     </td> <td>nan </td> <td>1    </td> <td>1     </td> <td>1     </td> <td>1   </td> <td>2    </td> <td>3    </td> <td>2     </td> <td>3      </td>\n",
       "        </tr>\n",
       "        <tr>\n",
       "            <td>57067 </td> <td>2   </td> <td>56  </td> <td>1   </td> <td>1      </td> <td>1     </td> <td>23      </td> <td>2     </td> <td>1   </td> <td>3    </td> <td>1      </td> <td>25       </td> <td>175,000</td> <td>25        </td> <td>175,000</td> <td>17  </td> <td>14   </td> <td>16   </td> <td>14    </td> <td>3     </td> <td>2    </td> <td>3    </td> <td>1    </td> <td>1      </td> <td>1       </td> <td>60  </td> <td>60    </td> <td>1     </td> <td>2      </td> <td>1      </td> <td>6      </td> <td>3       </td> <td>5       </td> <td>3        </td> <td>1    </td> <td>1     </td> <td>nan   </td> <td>nan     </td> <td>nan    </td> <td>nan     </td> <td>2   </td> <td>nan  </td> <td>nan  </td> <td>nan    </td> <td>nan     </td> <td>4      </td> <td>1      </td> <td>2     </td> <td>1       </td> <td>1     </td> <td>4     </td> <td>3       </td> <td>5       </td> <td>2       </td> <td>1   </td> <td>2    </td> <td>1     </td> <td>1     </td> <td>1   </td> <td>nan  </td> <td>nan  </td> <td>nan   </td> <td>nan    </td>\n",
       "        </tr>\n",
       "        <tr>\n",
       "            <td>57068 </td> <td>1   </td> <td>63  </td> <td>1   </td> <td>1      </td> <td>2     </td> <td>23      </td> <td>1     </td> <td>1   </td> <td>nan  </td> <td>1      </td> <td>nan      </td> <td>nan    </td> <td>nan       </td> <td>nan    </td> <td>12  </td> <td>nan  </td> <td>nan  </td> <td>nan   </td> <td>1     </td> <td>0    </td> <td>0    </td> <td>nan  </td> <td>nan    </td> <td>7       </td> <td>nan </td> <td>nan   </td> <td>nan   </td> <td>nan    </td> <td>4      </td> <td>6      </td> <td>3       </td> <td>6       </td> <td>3        </td> <td>1    </td> <td>nan   </td> <td>6     </td> <td>5       </td> <td>5      </td> <td>3       </td> <td>nan </td> <td>8    </td> <td>8    </td> <td>1      </td> <td>1       </td> <td>nan    </td> <td>nan    </td> <td>nan   </td> <td>nan     </td> <td>nan   </td> <td>nan   </td> <td>nan     </td> <td>nan     </td> <td>nan     </td> <td>5   </td> <td>2    </td> <td>1     </td> <td>nan   </td> <td>nan </td> <td>nan  </td> <td>4    </td> <td>1     </td> <td>4      </td>\n",
       "        </tr>\n",
       "        <tr>\n",
       "            <td>57069 </td> <td>1   </td> <td>34  </td> <td>1   </td> <td>1      </td> <td>2     </td> <td>24      </td> <td>2     </td> <td>1   </td> <td>2    </td> <td>1      </td> <td>21       </td> <td>82,500 </td> <td>16        </td> <td>32,500 </td> <td>17  </td> <td>20   </td> <td>12   </td> <td>12    </td> <td>4     </td> <td>4    </td> <td>1    </td> <td>1    </td> <td>1      </td> <td>1       </td> <td>40  </td> <td>60    </td> <td>2     </td> <td>2      </td> <td>2      </td> <td>nan    </td> <td>nan     </td> <td>4       </td> <td>2        </td> <td>1    </td> <td>nan   </td> <td>4     </td> <td>4       </td> <td>5      </td> <td>3       </td> <td>nan </td> <td>2    </td> <td>8    </td> <td>1      </td> <td>1       </td> <td>3      </td> <td>3      </td> <td>2     </td> <td>nan     </td> <td>nan   </td> <td>nan   </td> <td>nan     </td> <td>nan     </td> <td>nan     </td> <td>2   </td> <td>1    </td> <td>1     </td> <td>nan   </td> <td>nan </td> <td>1    </td> <td>4    </td> <td>3     </td> <td>1      </td>\n",
       "        </tr>\n",
       "        <tr>\n",
       "            <td>57070 </td> <td>2   </td> <td>37  </td> <td>1   </td> <td>5      </td> <td>4     </td> <td>18      </td> <td>0     </td> <td>1   </td> <td>1    </td> <td>nan    </td> <td>11       </td> <td>16,250 </td> <td>nan       </td> <td>nan    </td> <td>10  </td> <td>nan  </td> <td>nan  </td> <td>9     </td> <td>0     </td> <td>nan  </td> <td>nan  </td> <td>0    </td> <td>8      </td> <td>0       </td> <td>nan </td> <td>nan   </td> <td>nan   </td> <td>nan    </td> <td>nan    </td> <td>3      </td> <td>2       </td> <td>4       </td> <td>2        </td> <td>1    </td> <td>1     </td> <td>1     </td> <td>1       </td> <td>3      </td> <td>1       </td> <td>nan </td> <td>2    </td> <td>2    </td> <td>1      </td> <td>1       </td> <td>nan    </td> <td>nan    </td> <td>nan   </td> <td>nan     </td> <td>nan   </td> <td>nan   </td> <td>nan     </td> <td>nan     </td> <td>nan     </td> <td>nan </td> <td>3    </td> <td>nan   </td> <td>4     </td> <td>3   </td> <td>2    </td> <td>4    </td> <td>5     </td> <td>2      </td>\n",
       "        </tr>\n",
       "        <tr>\n",
       "            <td>57071 </td> <td>2   </td> <td>30  </td> <td>3   </td> <td>1      </td> <td>3     </td> <td>15      </td> <td>2     </td> <td>1   </td> <td>2    </td> <td>nan    </td> <td>22       </td> <td>100,000</td> <td>18        </td> <td>45,000 </td> <td>15  </td> <td>12   </td> <td>nan  </td> <td>10    </td> <td>2     </td> <td>1    </td> <td>nan  </td> <td>0    </td> <td>1      </td> <td>1       </td> <td>55  </td> <td>60    </td> <td>2     </td> <td>2      </td> <td>nan    </td> <td>3      </td> <td>2       </td> <td>3       </td> <td>1        </td> <td>2    </td> <td>1     </td> <td>4     </td> <td>1       </td> <td>3      </td> <td>3       </td> <td>2   </td> <td>2    </td> <td>1    </td> <td>1      </td> <td>1       </td> <td>nan    </td> <td>nan    </td> <td>1     </td> <td>1       </td> <td>nan   </td> <td>nan   </td> <td>nan     </td> <td>nan     </td> <td>nan     </td> <td>nan </td> <td>1    </td> <td>1     </td> <td>1     </td> <td>1   </td> <td>1    </td> <td>4    </td> <td>1     </td> <td>1      </td>\n",
       "        </tr>\n",
       "    </tbody>\n",
       "</table>\n",
       "<p>... (2528 rows omitted)</p>"
      ],
      "text/plain": [
       "CASEID | SEX  | AGE  | RACE | MARITAL | CHILDS | AGEKDBRN | EARNRS | BORN | CLASS | DWELOWN | INCOMECAT | INCOME  | RINCOMECAT | RINCOME | EDUC | SPEDU | PAEDU | MAEDUC | DEGREE | SPDEG | PADEG | MADEG | WRKSTAT | SPWRKSTA | HRS1 | SPHRS1 | WRKSLF | WRKGOVT | TVHOURS | PARTYID | PARTYID3 | POLVIEWS | POLVIEWS3 | CAPUN | GUNLAW | EQWLTH | HELPPOOR | HELPNOT | HELPSICK | TAX  | ODDS1 | ODDS2 | HOTCORE | EARTHSUN | JOBLOSE | JOBFIND | SATJOB | RICHWORK | JOBINC | JOBSEC | JOBHOURS | JOBPROMO | JOBMEANS | NEWS | HAPPY | HAPMAR | HEALTH | LIFE | UNEMP | UNION | PARSOL | KIDSSOL\n",
       "57062  | 1    | 53   | 1    | 3       | 0      | nan      | 1      | 1    | 3     | nan     | 21        | 82,500  | 21         | 82,500  | 16   | nan   | nan   | 9      | 3      | nan   | nan   | 0     | 1       | 0        | 60   | nan    | 1      | 2       | nan     | 5       | 3        | 6        | 3         | 1     | 1      | 7      | 5        | 5       | 5        | 2    | nan   | nan   | nan     | nan      | nan     | nan     | 2      | 2        | nan    | nan    | nan      | nan      | nan      | nan  | 1     | nan    | 1      | 1    | 1     | 4     | 3      | nan\n",
       "57063  | 2    | 26   | 1    | 1       | 0      | nan      | 2      | 1    | 3     | nan     | 25        | 175,000 | 21         | 82,500  | 16   | 16    | 16    | 14     | 3      | 3     | 3     | 2     | 1       | 1        | 40   | 75     | 2      | 2       | nan     | 5       | 3        | 5        | 3         | 2     | 1      | 2      | 3        | 4       | 3        | 1    | nan   | nan   | nan     | nan      | nan     | nan     | 2      | 2        | nan    | nan    | nan      | nan      | nan      | nan  | 1     | 1      | 1      | 1    | 1     | 4     | 1      | 2\n",
       "57064  | 1    | 59   | 1    | 3       | 1      | 27       | 1      | 1    | 2     | 1       | 18        | 45,000  | nan        | nan     | 13   | nan   | nan   | 12     | 1      | nan   | nan   | 1     | 4       | 0        | nan  | nan    | 2      | 2       | 4       | 6       | 3        | 5        | 3         | 1     | 2      | nan    | nan      | nan     | nan      | 2    | nan   | nan   | nan     | nan      | nan     | nan     | 1      | 2        | 2      | 3      | 5        | 4        | 1        | 2    | 3     | nan    | 2      | 3    | nan   | nan   | nan    | nan\n",
       "57065  | 2    | 56   | 1    | 1       | 2      | 38       | 3      | 1    | 3     | 1       | 25        | 175,000 | 10         | 13,750  | 16   | 16    | 12    | 12     | 3      | 3     | 1     | 1     | 2       | 1        | 20   | 40     | 2      | 2       | 2       | 5       | 3        | 4        | 2         | 2     | nan    | 5      | 4        | 3       | 4        | nan  | 2     | 1     | 1       | 1        | 4       | 3       | 1      | nan      | nan    | nan    | nan      | nan      | nan      | 1    | 1     | 1      | nan    | nan  | 2     | 4     | 1      | 3\n",
       "57066  | 2    | 74   | 1    | 1       | 3      | 24       | 0      | 1    | 3     | nan     | nan       | nan     | nan        | nan     | 17   | 15    | 8     | 17     | 3      | 1     | 0     | 4     | 5       | 5        | nan  | nan    | 2      | 1       | nan     | 3       | 2        | 4        | 2         | 2     | 1      | 6      | 2        | 3       | 2        | 1    | nan   | nan   | nan     | nan      | nan     | nan     | nan    | nan      | nan    | nan    | nan      | nan      | nan      | nan  | 1     | 1      | 1      | 1    | 2     | 3     | 2      | 3\n",
       "57067  | 2    | 56   | 1    | 1       | 1      | 23       | 2      | 1    | 3     | 1       | 25        | 175,000 | 25         | 175,000 | 17   | 14    | 16    | 14     | 3      | 2     | 3     | 1     | 1       | 1        | 60   | 60     | 1      | 2       | 1       | 6       | 3        | 5        | 3         | 1     | 1      | nan    | nan      | nan     | nan      | 2    | nan   | nan   | nan     | nan      | 4       | 1       | 2      | 1        | 1      | 4      | 3        | 5        | 2        | 1    | 2     | 1      | 1      | 1    | nan   | nan   | nan    | nan\n",
       "57068  | 1    | 63   | 1    | 1       | 2      | 23       | 1      | 1    | nan   | 1       | nan       | nan     | nan        | nan     | 12   | nan   | nan   | nan    | 1      | 0     | 0     | nan   | nan     | 7        | nan  | nan    | nan    | nan     | 4       | 6       | 3        | 6        | 3         | 1     | nan    | 6      | 5        | 5       | 3        | nan  | 8     | 8     | 1       | 1        | nan     | nan     | nan    | nan      | nan    | nan    | nan      | nan      | nan      | 5    | 2     | 1      | nan    | nan  | nan   | 4     | 1      | 4\n",
       "57069  | 1    | 34   | 1    | 1       | 2      | 24       | 2      | 1    | 2     | 1       | 21        | 82,500  | 16         | 32,500  | 17   | 20    | 12    | 12     | 4      | 4     | 1     | 1     | 1       | 1        | 40   | 60     | 2      | 2       | 2       | nan     | nan      | 4        | 2         | 1     | nan    | 4      | 4        | 5       | 3        | nan  | 2     | 8     | 1       | 1        | 3       | 3       | 2      | nan      | nan    | nan    | nan      | nan      | nan      | 2    | 1     | 1      | nan    | nan  | 1     | 4     | 3      | 1\n",
       "57070  | 2    | 37   | 1    | 5       | 4      | 18       | 0      | 1    | 1     | nan     | 11        | 16,250  | nan        | nan     | 10   | nan   | nan   | 9      | 0      | nan   | nan   | 0     | 8       | 0        | nan  | nan    | nan    | nan     | nan     | 3       | 2        | 4        | 2         | 1     | 1      | 1      | 1        | 3       | 1        | nan  | 2     | 2     | 1       | 1        | nan     | nan     | nan    | nan      | nan    | nan    | nan      | nan      | nan      | nan  | 3     | nan    | 4      | 3    | 2     | 4     | 5      | 2\n",
       "57071  | 2    | 30   | 3    | 1       | 3      | 15       | 2      | 1    | 2     | nan     | 22        | 100,000 | 18         | 45,000  | 15   | 12    | nan   | 10     | 2      | 1     | nan   | 0     | 1       | 1        | 55   | 60     | 2      | 2       | nan     | 3       | 2        | 3        | 1         | 2     | 1      | 4      | 1        | 3       | 3        | 2    | 2     | 1     | 1       | 1        | nan     | nan     | 1      | 1        | nan    | nan    | nan      | nan      | nan      | nan  | 1     | 1      | 1      | 1    | 1     | 4     | 1      | 1\n",
       "... (2528 rows omitted)"
      ]
     },
     "execution_count": 33,
     "metadata": {},
     "output_type": "execute_result"
    }
   ],
   "source": [
    "from datascience import *\n",
    "import numpy as np\n",
    "%matplotlib inline\n",
    "\n",
    "#gss = Table.read_table('../../../Data_Sets/GSS - General Social Survey Data/GSS2014.xlsx')\n",
    "#gss = Table.read_table('/Users/jvolcy/Documents/Spelman/AUC_DS/DS4ALL/Data_Sets/GSS - General Social Survey Data/GSS2014.xlsx')\n",
    "gss = Table.read_table('../../../Data_Sets/GSS - General Social Survey Data/GSS2014.csv')\n",
    "\n",
    "gss\n",
    "                         \n",
    "                         "
   ]
  },
  {
   "cell_type": "code",
   "execution_count": 25,
   "metadata": {},
   "outputs": [
    {
     "data": {
      "text/html": [
       "<table border=\"1\" class=\"dataframe\">\n",
       "    <thead>\n",
       "        <tr>\n",
       "            <th>Institution</th> <th>State</th> <th>Type</th> <th>2017 Enrollment</th> <th>2018 Enrollment</th> <th>2018 Black enrollment</th> <th>2018 Full-time-equivalent Enrollment</th> <th>Associate's</th> <th>Bachelor's</th> <th>Master's</th> <th>Doctor's</th> <th>Expenditures ($K)</th>\n",
       "        </tr>\n",
       "    </thead>\n",
       "    <tbody>\n",
       "        <tr>\n",
       "            <td>Alabama A&M University                               </td> <td>AL   </td> <td>1   </td> <td>6001           </td> <td>6106           </td> <td>5701                 </td> <td>5726                                </td> <td>0          </td> <td>507       </td> <td>332     </td> <td>8       </td> <td>148803           </td>\n",
       "        </tr>\n",
       "        <tr>\n",
       "            <td>Alabama State University                             </td> <td>AL   </td> <td>1   </td> <td>4760           </td> <td>4413           </td> <td>4067                 </td> <td>4118                                </td> <td>0          </td> <td>650       </td> <td>144     </td> <td>32      </td> <td>148377           </td>\n",
       "        </tr>\n",
       "        <tr>\n",
       "            <td>Bishop State Community College                       </td> <td>AL   </td> <td>2   </td> <td>3233           </td> <td>2860           </td> <td>1796                 </td> <td>1907                                </td> <td>275        </td> <td>0         </td> <td>0       </td> <td>0       </td> <td>32081            </td>\n",
       "        </tr>\n",
       "        <tr>\n",
       "            <td>Gadsden State Community College                      </td> <td>AL   </td> <td>2   </td> <td>4979           </td> <td>4736           </td> <td>850                  </td> <td>3117                                </td> <td>642        </td> <td>0         </td> <td>0       </td> <td>0       </td> <td>50921            </td>\n",
       "        </tr>\n",
       "        <tr>\n",
       "            <td>H. Councill Trenholm State Technical\n",
       "   College      </td> <td>AL   </td> <td>2   </td> <td>1845           </td> <td>1855           </td> <td>1267                 </td> <td>1181                                </td> <td>178        </td> <td>0         </td> <td>0       </td> <td>0       </td> <td>21972            </td>\n",
       "        </tr>\n",
       "        <tr>\n",
       "            <td>J. F. Drake State Community and Technical\n",
       "   College </td> <td>AL   </td> <td>2   </td> <td>752            </td> <td>831            </td> <td>432                  </td> <td>486                                 </td> <td>64         </td> <td>0         </td> <td>0       </td> <td>0       </td> <td>10863            </td>\n",
       "        </tr>\n",
       "        <tr>\n",
       "            <td>Lawson State Community College                       </td> <td>AL   </td> <td>2   </td> <td>3248           </td> <td>3274           </td> <td>2653                 </td> <td>2192                                </td> <td>316        </td> <td>0         </td> <td>0       </td> <td>0       </td> <td>50318            </td>\n",
       "        </tr>\n",
       "        <tr>\n",
       "            <td>Miles College                                        </td> <td>AL   </td> <td>3   </td> <td>1650           </td> <td>1550           </td> <td>1470                 </td> <td>1501                                </td> <td>0          </td> <td>295       </td> <td>0       </td> <td>0       </td> <td>30916            </td>\n",
       "        </tr>\n",
       "        <tr>\n",
       "            <td>Oakwood University                                   </td> <td>AL   </td> <td>3   </td> <td>1711           </td> <td>1636           </td> <td>1391                 </td> <td>1555                                </td> <td>4          </td> <td>306       </td> <td>5       </td> <td>0       </td> <td>54786            </td>\n",
       "        </tr>\n",
       "        <tr>\n",
       "            <td>Selma University                                     </td> <td>AL   </td> <td>3   </td> <td>324            </td> <td>317            </td> <td>308                  </td> <td>264                                 </td> <td>13         </td> <td>20        </td> <td>4       </td> <td>0       </td> <td>4007             </td>\n",
       "        </tr>\n",
       "    </tbody>\n",
       "</table>\n",
       "<p>... (91 rows omitted)</p>"
      ],
      "text/plain": [
       "Institution                                           | State | Type | 2017 Enrollment | 2018 Enrollment | 2018 Black enrollment | 2018 Full-time-equivalent Enrollment | Associate's | Bachelor's | Master's | Doctor's | Expenditures ($K)\n",
       "Alabama A&M University                                | AL    | 1    | 6001            | 6106            | 5701                  | 5726                                 | 0           | 507        | 332      | 8        | 148803\n",
       "Alabama State University                              | AL    | 1    | 4760            | 4413            | 4067                  | 4118                                 | 0           | 650        | 144      | 32       | 148377\n",
       "Bishop State Community College                        | AL    | 2    | 3233            | 2860            | 1796                  | 1907                                 | 275         | 0          | 0        | 0        | 32081\n",
       "Gadsden State Community College                       | AL    | 2    | 4979            | 4736            | 850                   | 3117                                 | 642         | 0          | 0        | 0        | 50921\n",
       "H. Councill Trenholm State Technical\n",
       "   College       | AL    | 2    | 1845            | 1855            | 1267                  | 1181                                 | 178         | 0          | 0        | 0        | 21972\n",
       "J. F. Drake State Community and Technical\n",
       "   College  | AL    | 2    | 752             | 831             | 432                   | 486                                  | 64          | 0          | 0        | 0        | 10863\n",
       "Lawson State Community College                        | AL    | 2    | 3248            | 3274            | 2653                  | 2192                                 | 316         | 0          | 0        | 0        | 50318\n",
       "Miles College                                         | AL    | 3    | 1650            | 1550            | 1470                  | 1501                                 | 0           | 295        | 0        | 0        | 30916\n",
       "Oakwood University                                    | AL    | 3    | 1711            | 1636            | 1391                  | 1555                                 | 4           | 306        | 5        | 0        | 54786\n",
       "Selma University                                      | AL    | 3    | 324             | 317             | 308                   | 264                                  | 13          | 20         | 4        | 0        | 4007\n",
       "... (91 rows omitted)"
      ]
     },
     "execution_count": 25,
     "metadata": {},
     "output_type": "execute_result"
    }
   ],
   "source": [
    "from datascience import *\n",
    "import numpy as np\n",
    "%matplotlib inline\n",
    "\n",
    "#gss = Table.read_table('../../../Data_Sets/GSS - General Social Survey Data/GSS2014.xlsx')\n",
    "hbcu = Table.read_table('/Users/jvolcy/Downloads/NCES Data - data.csv')\n",
    "#gss = Table.read_table('../../../Data_Sets/GSS - General Social Survey Data/GSS2014.csv')\n",
    "\n",
    "hbcu\n",
    "                         \n",
    "      "
   ]
  },
  {
   "cell_type": "code",
   "execution_count": 28,
   "metadata": {},
   "outputs": [
    {
     "data": {
      "text/plain": [
       "numpy.int64"
      ]
     },
     "execution_count": 28,
     "metadata": {},
     "output_type": "execute_result"
    }
   ],
   "source": [
    "type(hbcu[11][3])"
   ]
  },
  {
   "cell_type": "code",
   "execution_count": 56,
   "metadata": {},
   "outputs": [
    {
     "data": {
      "text/plain": [
       "-0.01159317292847048"
      ]
     },
     "execution_count": 56,
     "metadata": {},
     "output_type": "execute_result"
    }
   ],
   "source": [
    "np.tan(3.13)"
   ]
  }
 ],
 "metadata": {
  "kernelspec": {
   "display_name": "Python 3",
   "language": "python",
   "name": "python3"
  },
  "language_info": {
   "codemirror_mode": {
    "name": "ipython",
    "version": 3
   },
   "file_extension": ".py",
   "mimetype": "text/x-python",
   "name": "python",
   "nbconvert_exporter": "python",
   "pygments_lexer": "ipython3",
   "version": "3.6.8"
  },
  "spelmanCs": {
   "version": "1"
  },
  "widgets": {
   "application/vnd.jupyter.widget-state+json": {
    "state": {},
    "version_major": 2,
    "version_minor": 0
   }
  }
 },
 "nbformat": 4,
 "nbformat_minor": 4
}
