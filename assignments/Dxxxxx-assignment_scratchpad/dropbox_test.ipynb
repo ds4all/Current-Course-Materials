{
 "cells": [
  {
   "cell_type": "code",
   "execution_count": 1,
   "metadata": {},
   "outputs": [],
   "source": [
    "import ipywidgets as widgets"
   ]
  },
  {
   "cell_type": "code",
   "execution_count": 10,
   "metadata": {},
   "outputs": [
    {
     "data": {
      "application/vnd.jupyter.widget-view+json": {
       "model_id": "f76ff47e3cfc4729989eaecdbef62478",
       "version_major": 2,
       "version_minor": 0
      },
      "text/plain": [
       "Dropdown(description='Select', index=1, options=('1', '2', '3'), value='2')"
      ]
     },
     "metadata": {},
     "output_type": "display_data"
    }
   ],
   "source": [
    "w = widgets.Dropdown(\n",
    "    options=['1', '2', '3'],\n",
    "    value='2',\n",
    "    description='Select',\n",
    "    disabled=False,\n",
    ")\n",
    "display(w)"
   ]
  },
  {
   "cell_type": "code",
   "execution_count": null,
   "metadata": {},
   "outputs": [],
   "source": []
  }
 ],
 "metadata": {
  "kernelspec": {
   "display_name": "Python 3",
   "language": "python",
   "name": "python3"
  },
  "language_info": {
   "codemirror_mode": {
    "name": "ipython",
    "version": 3
   },
   "file_extension": ".py",
   "mimetype": "text/x-python",
   "name": "python",
   "nbconvert_exporter": "python",
   "pygments_lexer": "ipython3",
   "version": "3.6.8"
  },
  "widgets": {
   "application/vnd.jupyter.widget-state+json": {
    "state": {
     "166bff9d6d8344179d4ceca95d258188": {
      "model_module": "@jupyter-widgets/controls",
      "model_module_version": "1.4.0",
      "model_name": "DropdownModel",
      "state": {
       "_model_module_version": "1.4.0",
       "_options_labels": [
        "1",
        "2",
        "3"
       ],
       "_view_module_version": "1.4.0",
       "description": "Select",
       "index": 1,
       "layout": "IPY_MODEL_d9baf1cec9364c359cb0bd9848f78ba7",
       "style": "IPY_MODEL_6bf191c31627475e8895c6c39a7da426"
      }
     },
     "463dc27060a5474d85ca4550ea7b11a7": {
      "model_module": "@jupyter-widgets/controls",
      "model_module_version": "1.4.0",
      "model_name": "DescriptionStyleModel",
      "state": {
       "_model_module_version": "1.4.0",
       "_view_module_version": "1.1.0",
       "description_width": ""
      }
     },
     "47422cb211304ac799ef0168e1bbea8b": {
      "model_module": "@jupyter-widgets/base",
      "model_module_version": "1.1.0",
      "model_name": "LayoutModel",
      "state": {
       "_model_module_version": "1.1.0",
       "_view_module_version": "1.1.0"
      }
     },
     "4b447a92e0234beca85be883d51e9faf": {
      "model_module": "@jupyter-widgets/controls",
      "model_module_version": "1.4.0",
      "model_name": "DropdownModel",
      "state": {
       "_model_module_version": "1.4.0",
       "_options_labels": [
        "1",
        "2",
        "3"
       ],
       "_view_module_version": "1.4.0",
       "description": "Select",
       "index": 2,
       "layout": "IPY_MODEL_9a8706045601473eb1590a5f7b7da571",
       "style": "IPY_MODEL_ea63055795a14bcc83c65ef83e23c75b"
      }
     },
     "6bf191c31627475e8895c6c39a7da426": {
      "model_module": "@jupyter-widgets/controls",
      "model_module_version": "1.4.0",
      "model_name": "DescriptionStyleModel",
      "state": {
       "_model_module_version": "1.4.0",
       "_view_module_version": "1.1.0",
       "description_width": ""
      }
     },
     "9a8706045601473eb1590a5f7b7da571": {
      "model_module": "@jupyter-widgets/base",
      "model_module_version": "1.1.0",
      "model_name": "LayoutModel",
      "state": {
       "_model_module_version": "1.1.0",
       "_view_module_version": "1.1.0"
      }
     },
     "b35b4a3be33a4ae8ac9f25391285fb18": {
      "model_module": "@jupyter-widgets/controls",
      "model_module_version": "1.4.0",
      "model_name": "DropdownModel",
      "state": {
       "_model_module_version": "1.4.0",
       "_options_labels": [
        "1",
        "2",
        "3"
       ],
       "_view_module_version": "1.4.0",
       "description": "Number:",
       "index": 1,
       "layout": "IPY_MODEL_47422cb211304ac799ef0168e1bbea8b",
       "style": "IPY_MODEL_cfceef3b4c934cddac6d6387a2244872"
      }
     },
     "cfceef3b4c934cddac6d6387a2244872": {
      "model_module": "@jupyter-widgets/controls",
      "model_module_version": "1.4.0",
      "model_name": "DescriptionStyleModel",
      "state": {
       "_model_module_version": "1.4.0",
       "_view_module_version": "1.1.0",
       "description_width": ""
      }
     },
     "d9baf1cec9364c359cb0bd9848f78ba7": {
      "model_module": "@jupyter-widgets/base",
      "model_module_version": "1.1.0",
      "model_name": "LayoutModel",
      "state": {
       "_model_module_version": "1.1.0",
       "_view_module_version": "1.1.0"
      }
     },
     "df85207e826a4bc3aab2145043b13ce4": {
      "model_module": "@jupyter-widgets/base",
      "model_module_version": "1.1.0",
      "model_name": "LayoutModel",
      "state": {
       "_model_module_version": "1.1.0",
       "_view_module_version": "1.1.0"
      }
     },
     "ea63055795a14bcc83c65ef83e23c75b": {
      "model_module": "@jupyter-widgets/controls",
      "model_module_version": "1.4.0",
      "model_name": "DescriptionStyleModel",
      "state": {
       "_model_module_version": "1.4.0",
       "_view_module_version": "1.1.0",
       "description_width": ""
      }
     },
     "f76ff47e3cfc4729989eaecdbef62478": {
      "model_module": "@jupyter-widgets/controls",
      "model_module_version": "1.4.0",
      "model_name": "DropdownModel",
      "state": {
       "_model_module_version": "1.4.0",
       "_options_labels": [
        "1",
        "2",
        "3"
       ],
       "_view_module_version": "1.4.0",
       "description": "Select",
       "index": 1,
       "layout": "IPY_MODEL_df85207e826a4bc3aab2145043b13ce4",
       "style": "IPY_MODEL_463dc27060a5474d85ca4550ea7b11a7"
      }
     }
    },
    "version_major": 2,
    "version_minor": 0
   }
  }
 },
 "nbformat": 4,
 "nbformat_minor": 4
}
