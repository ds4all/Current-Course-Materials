{
 "cells": [
  {
   "cell_type": "markdown",
   "metadata": {
    "deletable": false,
    "ds4all": {
     "data": "",
     "problemDesc": "Bytes",
     "problemId": "D0102",
     "type": "problemStatement"
    },
    "editable": true
   },
   "source": [
    "<img align=\"right\" alt=\"DS4ALL Logo\" src=\"../../images/ds4all_logo.png\" style=\"width:155.00px; margin:10px; \"/><p align=\"left\" style='color:#000; font-family:\"Cambria\"; font-size:16pt; margin:0; line-height:1.0; padding-bottom:0; padding-top:0; text-align:left; page-break-after:avoid; font-weight:700; '>D0102 - Numeric Prefixes</p>\n",
    "\n",
    "_JVolcy_\n",
    "<br><br><br>\n",
    "\n",
    "Use the table of numeric prefixes below to help you answer each of the question that follow.  \n",
    "\n",
    "<table align='center', width=\"50%\", style=\"border:1px solid black;\">\n",
    "    <tr>\n",
    "        <td bgcolor=\"#FFF0D0\", style='color:#000; font-size:12pt; border:1px solid black;', align='center', >\n",
    "            <b>Prefix</b>\n",
    "        </td>\n",
    "        <td bgcolor=\"#FFF0D0\", style='color:#000; font-size:12pt; border:1px solid black;', align='center'>\n",
    "            <b>Description</b>\n",
    "        </td>\n",
    "        <td bgcolor=\"#FFF0D0\", style='color:#000; font-size:12pt; border:1px solid black;', align='center'>\n",
    "            <b>Value</b>\n",
    "        </td>\n",
    "    </tr>\n",
    "    <tr>\n",
    "        <td align='center', style='color:#000; font-size:12pt; border:1px solid black;'>\n",
    "            Kilo\n",
    "        </td>\n",
    "        <td align='center', style='color:#000; font-size:12pt; border:1px solid black;'>\n",
    "            Thousand\n",
    "        </td>\n",
    "        <td align='center', style='color:#000; font-size:12pt; border:1px solid black;'>\n",
    "            1,000\n",
    "        </td>\n",
    "    </tr>\n",
    "    <tr>\n",
    "        <td align='center', style='color:#000; font-size:12pt; border:1px solid black;'>\n",
    "            Mega\n",
    "        </td>\n",
    "        <td align='center', style='color:#000; font-size:12pt; border:1px solid black;'>\n",
    "            Million\n",
    "        </td>\n",
    "        <td align='center', style='color:#000; font-size:12pt; border:1px solid black;'>\n",
    "            1,000,000\n",
    "        </td>\n",
    "    </tr>\n",
    "    <tr>\n",
    "        <td align='center', style='color:#000; font-size:12pt; border:1px solid black;'>\n",
    "            Giga\n",
    "        </td>\n",
    "        <td align='center', style='color:#000; font-size:12pt; border:1px solid black;'>\n",
    "            Billion\n",
    "        </td>\n",
    "        <td align='center', style='color:#000; font-size:12pt; border:1px solid black;'>\n",
    "            1,000,000,000\n",
    "        </td>\n",
    "    </tr>\n",
    "    <tr>\n",
    "        <td align='center', style='color:#000; font-size:12pt; border:1px solid black;'>\n",
    "            Tera\n",
    "        </td>\n",
    "        <td align='center', style='color:#000; font-size:12pt; border:1px solid black;'>\n",
    "            Trillion\n",
    "        </td>\n",
    "        <td align='center', style='color:#000; font-size:12pt; border:1px solid black;'>\n",
    "            1,000,000,000,000\n",
    "        </td>\n",
    "    </tr>\n",
    "\n",
    "</table>\n",
    "\n",
    "<br>\n",
    "\n",
    "1) Which of the values below is equivalent to the value 80000000 bytes?\n",
    "  \n",
    "    a) 80 Mb  \n",
    "    b) 8 Gb  \n",
    "    c) 80 kb  \n",
    "    d) 800 kb  \n",
    "  \n",
    "<br>\n",
    "2) Put the following in order from least to greatest: 700 Gb, 700 Mb, 70,000 kb, 70000 bytes  \n",
    "  \n",
    "<br><br>\n",
    "\n",
    "3) How many bytes are in each of the following?  \n",
    "  \n",
    "    a) 600 kb\n",
    "    b) 6 Gb\n",
    "    c) 60 Tb\n",
    "    d) 6000 Mb\n",
    "\n",
    "<br>\n",
    "\n",
    "4) Answer with >, < or =  \n",
    "\n",
    "    a) 1300 Mb         1.3 Gb  \n",
    "    b) 20,000 kB       2 Gb  \n",
    "    c) 7.5 Tb          750 Gb  \n",
    "    d) 8100 Mb         8.1 kB\n",
    "\n",
    "<br>\n",
    "\n",
    "5) Assuming the average song requires 3 Mb of space to storage, approximately how many songs can you store on a 500 Gb hard drive?\n",
    "\n",
    "\n",
    "\n",
    "\n",
    "\n",
    "<br><br><br><br><br>\n",
    "<span style=\"color:lightgray\">AUCC –  Data Science for All</span>\n"
   ]
  },
  {
   "cell_type": "code",
   "execution_count": null,
   "metadata": {
    "deletable": false,
    "ds4all": {
     "type": "studentSolution"
    },
    "editable": true
   },
   "outputs": [],
   "source": [
    "# Add your code here"
   ]
  }
 ],
 "metadata": {
  "kernelspec": {
   "display_name": "Python 3",
   "language": "python",
   "name": "python3"
  },
  "language_info": {
   "codemirror_mode": {
    "name": "ipython",
    "version": 3
   },
   "file_extension": ".py",
   "mimetype": "text/x-python",
   "name": "python",
   "nbconvert_exporter": "python",
   "pygments_lexer": "ipython3",
   "version": "3.6.8"
  },
  "spelmanCs": {
   "version": "1"
  },
  "widgets": {
   "application/vnd.jupyter.widget-state+json": {
    "state": {},
    "version_major": 2,
    "version_minor": 0
   }
  }
 },
 "nbformat": 4,
 "nbformat_minor": 4
}
