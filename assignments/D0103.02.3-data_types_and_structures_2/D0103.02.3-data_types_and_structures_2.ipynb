{
 "cells": [
  {
   "cell_type": "markdown",
   "metadata": {
    "deletable": false,
    "ds4all": {
     "data": "",
     "problemDesc": "Data Types & Data Structures 2.3",
     "problemId": "D0103.02.3",
     "type": "problemStatement"
    },
    "editable": false
   },
   "source": [
    "<img align=\"right\" alt=\"DS4ALL Logo\" src=\"../../images/ds4all_logo.png\" style=\"width:155.00px; margin:10px; \"/><p align=\"left\" style='color:#000; font-family:\"Cambria\"; font-size:16pt; margin:0; line-height:1.0; padding-bottom:0; padding-top:0; text-align:left; page-break-after:avoid; font-weight:700; '>D0103.02.3 - Data Types & Data Structures 2.3</p>\n",
    "\n",
    "_JVolcy_\n",
    "<br><br><br>\n",
    "\n",
    "This is a multipe-choice exercise.  In every case, the choices are numbers 1-8 corresponding to the following data structures:  \n",
    "\n",
    "|Choice|Data Structure|\n",
    "|:--:|:--:|\n",
    "|1|`integer`|\n",
    "|2|`float`|\n",
    "|3|`string`|\n",
    "|4|`array of integers`|\n",
    "|5|`array of floats`|\n",
    "|6|`array of strings`|\n",
    "|7|`list`|\n",
    "|8|`table`|\n",
    "\n",
    "\n",
    "For each case below, identify the data structure most appropriate to capture the data described. Follow the example provided.\n",
    "\n",
    "\n",
    "<br>\n",
    "\n",
    "\n",
    "Example 1) The world record for pushups done in one hour  \n",
    "<span style=\"color:blue\">_Q1_Ans = 1_</span>\n",
    "\n",
    "Example 1) The second largest country in the world  \n",
    "<span style=\"color:blue\">_Q2_Ans = 3_</span>\n",
    "\n",
    "Example 3) The names of the seven dwarfs  \n",
    "<span style=\"color:blue\">_Q3_Ans = 6_</span>\n",
    "  \n",
    "Example 4) Information about the name, diameter and solar year of every planet in the solar system  \n",
    "<span style=\"color:blue\">_Q4_Ans = 8_</span>\n",
    "\n",
    "\n",
    "---\n",
    "\n",
    "\n",
    "\n",
    "\n",
    "\n",
    "<span style=\"color:lightgray\">AUCC –  Data Science for All</span>\n"
   ]
  },
  {
   "cell_type": "markdown",
   "metadata": {
    "deletable": false,
    "editable": false
   },
   "source": [
    "####  \n",
    "#### Q1) The number of marbles in a jar"
   ]
  },
  {
   "cell_type": "code",
   "execution_count": 1,
   "metadata": {
    "deletable": false,
    "ds4all": {
     "type": "studentSolution"
    },
    "editable": true
   },
   "outputs": [],
   "source": [
    "Q1_Ans = ..."
   ]
  },
  {
   "cell_type": "markdown",
   "metadata": {
    "deletable": false,
    "editable": false
   },
   "source": [
    "####  \n",
    "#### Q2) The population of each county in the state of Georgia"
   ]
  },
  {
   "cell_type": "code",
   "execution_count": null,
   "metadata": {
    "deletable": false,
    "ds4all": {
     "type": "studentSolution"
    },
    "editable": true
   },
   "outputs": [],
   "source": [
    "Q2_Ans = ..."
   ]
  },
  {
   "cell_type": "markdown",
   "metadata": {
    "deletable": false,
    "editable": false
   },
   "source": [
    "####  \n",
    "#### Q3) Your license plate number"
   ]
  },
  {
   "cell_type": "code",
   "execution_count": null,
   "metadata": {
    "deletable": false,
    "ds4all": {
     "type": "studentSolution"
    },
    "editable": true
   },
   "outputs": [],
   "source": [
    "Q3_Ans = ..."
   ]
  },
  {
   "cell_type": "markdown",
   "metadata": {
    "deletable": false,
    "editable": false
   },
   "source": [
    "####  \n",
    "#### Q4) The magnitude of the 2010 Haiti earthquake"
   ]
  },
  {
   "cell_type": "code",
   "execution_count": null,
   "metadata": {
    "deletable": false,
    "ds4all": {
     "type": "studentSolution"
    },
    "editable": true
   },
   "outputs": [],
   "source": [
    "Q4_Ans = ..."
   ]
  },
  {
   "cell_type": "markdown",
   "metadata": {
    "deletable": false,
    "editable": false
   },
   "source": [
    "####  \n",
    "#### Q5) The specification of a TV, including manufacturer, model number, screen size and number of HDMI inputs"
   ]
  },
  {
   "cell_type": "code",
   "execution_count": null,
   "metadata": {
    "deletable": false,
    "ds4all": {
     "type": "studentSolution"
    },
    "editable": true
   },
   "outputs": [],
   "source": [
    "Q5_Ans = ..."
   ]
  },
  {
   "cell_type": "markdown",
   "metadata": {
    "deletable": false,
    "editable": false
   },
   "source": [
    "####  \n",
    "#### Q6) The names and birthday of every child in the family"
   ]
  },
  {
   "cell_type": "code",
   "execution_count": null,
   "metadata": {
    "deletable": false,
    "ds4all": {
     "type": "studentSolution"
    },
    "editable": true
   },
   "outputs": [],
   "source": [
    "Q6_Ans = ..."
   ]
  },
  {
   "cell_type": "markdown",
   "metadata": {
    "deletable": false,
    "editable": false
   },
   "source": [
    "####  \n",
    "#### Q7) The names of every child in the family"
   ]
  },
  {
   "cell_type": "code",
   "execution_count": null,
   "metadata": {
    "deletable": false,
    "ds4all": {
     "type": "studentSolution"
    },
    "editable": true
   },
   "outputs": [],
   "source": [
    "Q7_Ans = ..."
   ]
  },
  {
   "cell_type": "markdown",
   "metadata": {
    "deletable": false,
    "editable": false
   },
   "source": [
    "####  \n",
    "#### Q8) The ratio of men to women at Clark Atlanta University"
   ]
  },
  {
   "cell_type": "code",
   "execution_count": null,
   "metadata": {
    "deletable": false,
    "ds4all": {
     "type": "studentSolution"
    },
    "editable": true
   },
   "outputs": [],
   "source": [
    "Q8_Ans = ..."
   ]
  },
  {
   "cell_type": "markdown",
   "metadata": {
    "deletable": false,
    "editable": false
   },
   "source": [
    "####  \n",
    "#### Q9) The GPAs of every person in the class"
   ]
  },
  {
   "cell_type": "code",
   "execution_count": null,
   "metadata": {
    "deletable": false,
    "ds4all": {
     "type": "studentSolution"
    },
    "editable": true
   },
   "outputs": [],
   "source": [
    "Q9_Ans = ..."
   ]
  },
  {
   "cell_type": "markdown",
   "metadata": {
    "deletable": false,
    "editable": false
   },
   "source": [
    "####  \n",
    "#### Q10) Flight information, including departure city, destination city, travel time, flight number and date"
   ]
  },
  {
   "cell_type": "code",
   "execution_count": null,
   "metadata": {
    "deletable": false,
    "ds4all": {
     "type": "studentSolution"
    },
    "editable": true
   },
   "outputs": [],
   "source": [
    "Q10_Ans = ..."
   ]
  }
 ],
 "metadata": {
  "kernelspec": {
   "display_name": "Python 3",
   "language": "python",
   "name": "python3"
  },
  "language_info": {
   "codemirror_mode": {
    "name": "ipython",
    "version": 3
   },
   "file_extension": ".py",
   "mimetype": "text/x-python",
   "name": "python",
   "nbconvert_exporter": "python",
   "pygments_lexer": "ipython3",
   "version": "3.6.8"
  },
  "spelmanCs": {
   "version": "1"
  },
  "widgets": {
   "application/vnd.jupyter.widget-state+json": {
    "state": {},
    "version_major": 2,
    "version_minor": 0
   }
  }
 },
 "nbformat": 4,
 "nbformat_minor": 4
}
