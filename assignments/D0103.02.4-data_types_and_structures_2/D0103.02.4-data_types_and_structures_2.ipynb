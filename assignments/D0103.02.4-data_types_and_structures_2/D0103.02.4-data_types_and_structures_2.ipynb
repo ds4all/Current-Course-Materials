{
 "cells": [
  {
   "cell_type": "markdown",
   "metadata": {
    "deletable": false,
    "ds4all": {
     "data": "",
     "problemDesc": "Data Types & Data Structures 2.4",
     "problemId": "D0103.02.4",
     "type": "problemStatement"
    },
    "editable": true,
    "x": 0
   },
   "source": [
    "<img align=\"right\" alt=\"DS4ALL Logo\" src=\"../../images/ds4all_logo.png\" style=\"width:155.00px; margin:10px; \"/><p align=\"left\" style='color:#000; font-family:\"Cambria\"; font-size:16pt; margin:0; line-height:1.0; padding-bottom:0; padding-top:0; text-align:left; page-break-after:avoid; font-weight:700; '>D0103.02.4 - Data Types & Data Structures 2.4</p>\n",
    "\n",
    "_JVolcy_\n",
    "<br><br><br>\n",
    "\n",
    "This is a multipe-choice exercise.  In every case, the choices are numbers 1-8 corresponding to the following data structures:  \n",
    "\n",
    "|Choice|Data Structure|\n",
    "|:--:|:--:|\n",
    "|1|`integer`|\n",
    "|2|`float`|\n",
    "|3|`string`|\n",
    "|4|`array of integers`|\n",
    "|5|`array of floats`|\n",
    "|6|`array of strings`|\n",
    "|7|`list`|\n",
    "|8|`table`|\n",
    "\n",
    "\n",
    "For each case below, identify the data structure most appropriate to capture the data described. Follow the example provided.\n",
    "\n",
    "\n",
    "<br>\n",
    "\n",
    "\n",
    "Example 1) The world record for pushups done in one hour  \n",
    "<span style=\"color:blue\">_Q1_Ans = 1_</span>\n",
    "\n",
    "Example 1) The second largest country in the world  \n",
    "<span style=\"color:blue\">_Q2_Ans = 3_</span>\n",
    "\n",
    "Example 3) The names of the seven dwarfs  \n",
    "<span style=\"color:blue\">_Q3_Ans = 6_</span>\n",
    "  \n",
    "Example 4) Information about the name, diameter and solar year of every planet in the solar system  \n",
    "<span style=\"color:blue\">_Q4_Ans = 8_</span>\n",
    "\n",
    "\n",
    "---\n",
    "\n",
    "\n",
    "\n",
    "\n",
    "\n",
    "<span style=\"color:lightgray\">AUCC –  Data Science for All</span>\n"
   ]
  },
  {
   "cell_type": "markdown",
   "metadata": {
    "deletable": false,
    "editable": true,
    "x": 0
   },
   "source": [
    "####  \n",
    "#### Q1) The information on a credit card (name, number, expiration date and CVV)"
   ]
  },
  {
   "cell_type": "code",
   "execution_count": 1,
   "metadata": {
    "deletable": false,
    "ds4all": {
     "type": "studentSolution"
    },
    "editable": true
   },
   "outputs": [],
   "source": [
    "Q1_Ans = ..."
   ]
  },
  {
   "cell_type": "markdown",
   "metadata": {
    "deletable": false,
    "editable": true,
    "x": 0
   },
   "source": [
    "####  \n",
    "#### Q2) The number of grains of sand in the Sahara"
   ]
  },
  {
   "cell_type": "code",
   "execution_count": null,
   "metadata": {
    "deletable": false,
    "ds4all": {
     "type": "studentSolution"
    },
    "editable": true
   },
   "outputs": [],
   "source": [
    "Q2_Ans = ..."
   ]
  },
  {
   "cell_type": "markdown",
   "metadata": {
    "deletable": false,
    "editable": true,
    "x": 0
   },
   "source": [
    "####  \n",
    "#### Q3) The US unemployment rate"
   ]
  },
  {
   "cell_type": "code",
   "execution_count": null,
   "metadata": {
    "deletable": false,
    "ds4all": {
     "type": "studentSolution"
    },
    "editable": true
   },
   "outputs": [],
   "source": [
    "Q3_Ans = ..."
   ]
  },
  {
   "cell_type": "markdown",
   "metadata": {
    "deletable": false,
    "editable": true,
    "x": 0
   },
   "source": [
    "####  \n",
    "#### Q4) The year, make and model of every vehicle on a car dealer’s lot"
   ]
  },
  {
   "cell_type": "code",
   "execution_count": null,
   "metadata": {
    "deletable": false,
    "ds4all": {
     "type": "studentSolution"
    },
    "editable": true
   },
   "outputs": [],
   "source": [
    "Q4_Ans = ..."
   ]
  },
  {
   "cell_type": "markdown",
   "metadata": {
    "deletable": false,
    "editable": true,
    "x": 0
   },
   "source": [
    "####  \n",
    "#### Q5) The number of states east of the Mississippi"
   ]
  },
  {
   "cell_type": "code",
   "execution_count": null,
   "metadata": {
    "deletable": false,
    "ds4all": {
     "type": "studentSolution"
    },
    "editable": true
   },
   "outputs": [],
   "source": [
    "Q5_Ans = ..."
   ]
  },
  {
   "cell_type": "markdown",
   "metadata": {
    "deletable": false,
    "editable": true,
    "x": 0
   },
   "source": [
    "####  \n",
    "#### Q6) The diameter of each planet in the solar system"
   ]
  },
  {
   "cell_type": "code",
   "execution_count": null,
   "metadata": {
    "deletable": false,
    "ds4all": {
     "type": "studentSolution"
    },
    "editable": true
   },
   "outputs": [],
   "source": [
    "Q6_Ans = ..."
   ]
  },
  {
   "cell_type": "markdown",
   "metadata": {
    "deletable": false,
    "editable": true,
    "x": 0
   },
   "source": [
    "####  \n",
    "#### Q7) A woman’s dress specifications, including color, bust, hips, waist and length "
   ]
  },
  {
   "cell_type": "code",
   "execution_count": null,
   "metadata": {
    "deletable": false,
    "ds4all": {
     "type": "studentSolution"
    },
    "editable": true
   },
   "outputs": [],
   "source": [
    "Q7_Ans = ..."
   ]
  },
  {
   "cell_type": "markdown",
   "metadata": {
    "deletable": false,
    "editable": true,
    "x": 0
   },
   "source": [
    "####  \n",
    "#### Q8) A senator’s “Aye” or “Nay” vote"
   ]
  },
  {
   "cell_type": "code",
   "execution_count": null,
   "metadata": {
    "deletable": false,
    "ds4all": {
     "type": "studentSolution"
    },
    "editable": true
   },
   "outputs": [],
   "source": [
    "Q8_Ans = ..."
   ]
  },
  {
   "cell_type": "markdown",
   "metadata": {
    "deletable": false,
    "editable": true,
    "x": 0
   },
   "source": [
    "####  \n",
    "#### Q9) The number of “Nay” votes cast by a senator"
   ]
  },
  {
   "cell_type": "code",
   "execution_count": null,
   "metadata": {
    "deletable": false,
    "ds4all": {
     "type": "studentSolution"
    },
    "editable": true
   },
   "outputs": [],
   "source": [
    "Q9_Ans = ..."
   ]
  },
  {
   "cell_type": "markdown",
   "metadata": {
    "deletable": false,
    "editable": true,
    "x": 0
   },
   "source": [
    "####  \n",
    "#### Q10) The French word for “woman”"
   ]
  },
  {
   "cell_type": "code",
   "execution_count": null,
   "metadata": {
    "deletable": false,
    "ds4all": {
     "type": "studentSolution"
    },
    "editable": true
   },
   "outputs": [],
   "source": [
    "Q10_Ans = ..."
   ]
  }
 ],
 "metadata": {
  "kernelspec": {
   "display_name": "Python 3",
   "language": "python",
   "name": "python3"
  },
  "language_info": {
   "codemirror_mode": {
    "name": "ipython",
    "version": 3
   },
   "file_extension": ".py",
   "mimetype": "text/x-python",
   "name": "python",
   "nbconvert_exporter": "python",
   "pygments_lexer": "ipython3",
   "version": "3.6.8"
  },
  "spelmanCs": {
   "version": "1"
  },
  "widgets": {
   "application/vnd.jupyter.widget-state+json": {
    "state": {},
    "version_major": 2,
    "version_minor": 0
   }
  }
 },
 "nbformat": 4,
 "nbformat_minor": 4
}
