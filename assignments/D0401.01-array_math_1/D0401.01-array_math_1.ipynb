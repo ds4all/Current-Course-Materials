{
 "cells": [
  {
   "cell_type": "markdown",
   "metadata": {
    "deletable": false,
    "ds4all": {
     "data": "",
     "problemDesc": "Array Math 1",
     "problemId": "D0401.01",
     "type": "problemStatement"
    },
    "editable": false
   },
   "source": [
    "<img align=\"right\" alt=\"DS4ALL Logo\" src=\"../../images/ds4all_logo.png\" style=\"width:155.00px; margin:10px; \"/><p align=\"left\" style='color:#000; font-family:\"Cambria\"; font-size:16pt; margin:0; line-height:1.0; padding-bottom:0; padding-top:0; text-align:left; page-break-after:avoid; font-weight:700; '>D0401.01 - Array Math 1</p>\n",
    "\n",
    "_JVolcy_\n",
    "<br><br><br>\n",
    "\n",
    "The code cell below loads enrollment data for the Atlanta University Center for 2017 and 2018.  The data is stored in the variable `aucData`.  Run this cell before completing the exercises.\n",
    "In each case, you are to write a few lines of code to extract the indicated information from the `aucData` table.  You must not calculate the answer by hand.\n",
    "<br>\n",
    "<img align=\"center\" alt=\"DS4ALL Logo\" src=\"images/NCES.png\" style=\"width:600.00px; margin:10px; \"/>\n",
    "<br><i>\n",
    "The data used in these exercises is an exerpt of data published by the National Center for Education Statistics (NCES).  The complete data set can be found here:\n",
    "https://nces.ed.gov/programs/digest/d19/tables/dt19_313.10.asp\n",
    "</i>  \n",
    "<br>\n",
    "---\n",
    "\n",
    "\n",
    "\n",
    "\n",
    "\n",
    "<span style=\"color:lightgray\">AUCC –  Data Science for All</span> \n",
    "\n",
    "<br>"
   ]
  },
  {
   "cell_type": "code",
   "execution_count": null,
   "metadata": {
    "deletable": false,
    "editable": false
   },
   "outputs": [],
   "source": [
    "from datascience import *\n",
    "import numpy as np\n",
    "%matplotlib inline\n",
    "\n",
    "aucData = Table.read_table('https://ds4all.aucenter.edu/data/AUC_Enrollment.csv' )\n",
    "aucData.show()"
   ]
  },
  {
   "cell_type": "markdown",
   "metadata": {
    "deletable": false,
    "editable": false
   },
   "source": [
    "####  \n",
    "#### Q1) What is the total enrollment of students in the AUC for 2017? _(This is a number.)_"
   ]
  },
  {
   "cell_type": "code",
   "execution_count": 1,
   "metadata": {
    "deletable": false,
    "ds4all": {
     "type": "studentSolution"
    },
    "editable": true
   },
   "outputs": [],
   "source": [
    "#place your solution here"
   ]
  },
  {
   "cell_type": "markdown",
   "metadata": {
    "deletable": false,
    "editable": false
   },
   "source": [
    "####  \n",
    "#### Q2) What is the total enrollment of students in the AUC for 2018? _(This is a number.)_"
   ]
  },
  {
   "cell_type": "code",
   "execution_count": null,
   "metadata": {
    "deletable": false,
    "ds4all": {
     "type": "studentSolution"
    },
    "editable": true
   },
   "outputs": [],
   "source": [
    "#place your solution here"
   ]
  },
  {
   "cell_type": "markdown",
   "metadata": {
    "deletable": false,
    "editable": false
   },
   "source": [
    "####  \n",
    "#### Q3) What is the average enrollment for each institution for 2017 and 2018.  Here, we want the average of the numbers in the 2017 and 2018 enrollment columns.  _(This is an array.)_"
   ]
  },
  {
   "cell_type": "code",
   "execution_count": null,
   "metadata": {
    "deletable": false,
    "ds4all": {
     "type": "studentSolution"
    },
    "editable": true
   },
   "outputs": [],
   "source": [
    "#place your solution here"
   ]
  },
  {
   "cell_type": "markdown",
   "metadata": {
    "deletable": false,
    "editable": false
   },
   "source": [
    "####  \n",
    "#### Q4) What is the minimum number of bachelor's degrees conferred by any institution in 2018? _(This is a number.)_"
   ]
  },
  {
   "cell_type": "code",
   "execution_count": null,
   "metadata": {
    "deletable": false,
    "ds4all": {
     "type": "studentSolution"
    },
    "editable": true
   },
   "outputs": [],
   "source": [
    "#place your solution here"
   ]
  },
  {
   "cell_type": "markdown",
   "metadata": {
    "deletable": false,
    "editable": false
   },
   "source": [
    "####  \n",
    "#### Q5) What is the total number of non-black students enrolled at the AUC in 2018?  _(This is a number.)_"
   ]
  },
  {
   "cell_type": "code",
   "execution_count": null,
   "metadata": {
    "deletable": false,
    "ds4all": {
     "type": "studentSolution"
    },
    "editable": true
   },
   "outputs": [],
   "source": [
    "#place your solution here"
   ]
  },
  {
   "cell_type": "markdown",
   "metadata": {
    "deletable": false,
    "editable": false
   },
   "source": [
    "####  \n",
    "#### Q6) How many graduate degrees were conferred by each institution in 2018?  Graduate degrees are master's and doctoral level degrees.  _(This is an array.)_"
   ]
  },
  {
   "cell_type": "code",
   "execution_count": null,
   "metadata": {
    "deletable": false,
    "ds4all": {
     "type": "studentSolution"
    },
    "editable": true
   },
   "outputs": [],
   "source": [
    "#place your solution here"
   ]
  },
  {
   "cell_type": "markdown",
   "metadata": {
    "deletable": false,
    "editable": false
   },
   "source": [
    "####  \n",
    "#### Q7) How many more students enrolled in 2018 than in 2017 at each institution?  _(This is an array.)_"
   ]
  },
  {
   "cell_type": "code",
   "execution_count": null,
   "metadata": {
    "deletable": false,
    "ds4all": {
     "type": "studentSolution"
    },
    "editable": true
   },
   "outputs": [],
   "source": [
    "#place your solution here"
   ]
  },
  {
   "cell_type": "markdown",
   "metadata": {
    "deletable": false,
    "editable": false
   },
   "source": [
    "####  \n",
    "#### Q8) What is the ratio of the largest to the smallest institution in terms of 2017 enrollment?  _(This is a number.)_"
   ]
  },
  {
   "cell_type": "code",
   "execution_count": null,
   "metadata": {
    "deletable": false,
    "ds4all": {
     "type": "studentSolution"
    },
    "editable": true
   },
   "outputs": [],
   "source": [
    "#place your solution here"
   ]
  },
  {
   "cell_type": "markdown",
   "metadata": {
    "deletable": false,
    "editable": false
   },
   "source": [
    "####  \n",
    "#### Q9) How many more students were at the AUC in 2018 than in 2017?  _(This is a number.)_"
   ]
  },
  {
   "cell_type": "code",
   "execution_count": null,
   "metadata": {
    "deletable": false,
    "ds4all": {
     "type": "studentSolution"
    },
    "editable": true
   },
   "outputs": [],
   "source": [
    "#place your solution here"
   ]
  },
  {
   "cell_type": "markdown",
   "metadata": {
    "deletable": false,
    "editable": false
   },
   "source": [
    "####  \n",
    "#### Q10) What is the ratio of undergraduate to graduate conferred degrees at each institution?  _(This is an array.)_"
   ]
  },
  {
   "cell_type": "code",
   "execution_count": null,
   "metadata": {
    "deletable": false,
    "ds4all": {
     "type": "studentSolution"
    },
    "editable": true
   },
   "outputs": [],
   "source": [
    "#place your solution here"
   ]
  }
 ],
 "metadata": {
  "kernelspec": {
   "display_name": "Python 3",
   "language": "python",
   "name": "python3"
  },
  "language_info": {
   "codemirror_mode": {
    "name": "ipython",
    "version": 3
   },
   "file_extension": ".py",
   "mimetype": "text/x-python",
   "name": "python",
   "nbconvert_exporter": "python",
   "pygments_lexer": "ipython3",
   "version": "3.6.8"
  },
  "spelmanCs": {
   "version": "1"
  },
  "widgets": {
   "application/vnd.jupyter.widget-state+json": {
    "state": {},
    "version_major": 2,
    "version_minor": 0
   }
  }
 },
 "nbformat": 4,
 "nbformat_minor": 4
}
