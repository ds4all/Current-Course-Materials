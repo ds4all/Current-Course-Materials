{
 "cells": [
  {
   "cell_type": "markdown",
   "metadata": {
    "deletable": false,
    "ds4all": {
     "data": "",
     "problemDesc": "Function Exercises 1",
     "problemId": "D0701.01",
     "type": "problemStatement"
    },
    "editable": true
   },
   "source": [
    "<img align=\"right\" alt=\"DS4ALL Logo\" src=\"../../images/ds4all_logo.png\" style=\"width:155.00px; margin:10px; \"/><p align=\"left\" style='color:#000; font-family:\"Cambria\"; font-size:16pt; margin:0; line-height:1.0; padding-bottom:0; padding-top:0; text-align:left; page-break-after:avoid; font-weight:700; '>D0701.01 - Function Exercises 1</p>\n",
    "\n",
    "_JVolcy_\n",
    "<br><br><br>\n",
    "\n",
    "For each problem below, predict the *EXACTLY* output of the provided code block.  Assume that the `np` module has already been imported.  \n",
    "\n",
    "Follow the two provided examples.\n",
    "  \n",
    "\n",
    "---\n",
    "\n",
    "#### Example Problem 1\n",
    "```\n",
    "print('Hello')\n",
    "K = 5\n",
    "G = 'Girl'\n",
    "D = K*len(G)\n",
    "print(D + len('Boy'))\n",
    "```\n",
    "<table align='left', width=\"100%\">\n",
    "    <tr>\n",
    "        <td bgcolor=\"#F3F3F3\", style='color:#000; font-family:\"Courier\"; font-size:12pt;', align='left'>\n",
    "            Hello<br>\n",
    "            23\n",
    "        </td>\n",
    "    </tr>\n",
    "</table>\n",
    "  \n",
    "<br><br><br>  \n",
    "\n",
    "#### Example Problem 2\n",
    "```\n",
    "W = 3\n",
    "V = 6\n",
    "print( min(V - 2*W, V, W) )\n",
    "Q = 2 * np.sqrt(W+V)\n",
    "print('Q')\n",
    "```\n",
    "<table align='left', width=\"100%\">\n",
    "    <tr>\n",
    "        <td bgcolor=\"#F3F3F3\", style='color:#000; font-family:\"Courier\"; font-size:12pt;', align='left'>\n",
    "            0<br>\n",
    "            Q\n",
    "        </td>\n",
    "    </tr>\n",
    "</table>\n",
    "\n",
    "\n",
    "<br>\n",
    "<span style=\"color:lightgray\">AUCC –  Data Science for All</span>\n",
    "\n",
    "---\n",
    "\n",
    "<br>"
   ]
  },
  {
   "cell_type": "markdown",
   "metadata": {},
   "source": [
    "#### Problem 1\n",
    "```\n",
    "print('Hello')\n",
    "K = 5\n",
    "G = 'Girl'\n",
    "D = K*len(G)\n",
    "print(D + len('Boy'))\n",
    "```"
   ]
  },
  {
   "cell_type": "markdown",
   "metadata": {
    "deletable": false,
    "ds4all": {
     "type": "studentSolution"
    },
    "editable": true
   },
   "source": []
  }
 ],
 "metadata": {
  "kernelspec": {
   "display_name": "Python 3",
   "language": "python",
   "name": "python3"
  },
  "language_info": {
   "codemirror_mode": {
    "name": "ipython",
    "version": 3
   },
   "file_extension": ".py",
   "mimetype": "text/x-python",
   "name": "python",
   "nbconvert_exporter": "python",
   "pygments_lexer": "ipython3",
   "version": "3.6.8"
  },
  "spelmanCs": {
   "version": "1"
  },
  "widgets": {
   "application/vnd.jupyter.widget-state+json": {
    "state": {},
    "version_major": 2,
    "version_minor": 0
   }
  }
 },
 "nbformat": 4,
 "nbformat_minor": 4
}
