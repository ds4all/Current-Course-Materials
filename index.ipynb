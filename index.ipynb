{
 "cells": [
  {
   "cell_type": "markdown",
   "metadata": {},
   "source": [
    "# **index.md** Builder  \n",
    "<div style=\"color:red\">\n",
    "The markdown cell below contains a metadata tag 'index.md.source'.  Use this cell to edit the contents of the index.md file which is the landing page for the ds4all website.  Once the edits are complete, run the code block after the markdown cell.  This code block copies the markdown contents from the markdown cell and writes in into the file index.md, overwritting any existing content.\n",
    "</div>\n",
    "\n",
    "---\n",
    "<br>"
   ]
  },
  {
   "cell_type": "markdown",
   "metadata": {
    "index.md.source": true
   },
   "source": [
    "<head>\n",
    "  <link rel=\"shortcut icon\" type=\"image/x-icon\" href=\"images/favicon/favicon.ico\">\n",
    "</head>\n",
    "<!-- ![DS4ALL Logo](/images/ds4all_logo_3100x1200.png) -->\n",
    "<img src=\"images/ds4all_logo_3100x1200.png\" width=\"200\" align=\"right\">\n",
    "<br>\n",
    "\n",
    "\n",
    "# Data Science for All\n",
    "### *Atlanta University Center Data Science Initiative*\n",
    "\n",
    "The Atlanta University Center (AUC) is comprised of 4 HBCUs: Spelman College, Morehouse College, Clark Atlanta University and The Morehouse School of Medicine.  DS4ALL is a common introductory data science course design with zero pre-requisites.\n",
    "\n",
    "The overarching impetus for the course is the realization that, in an increasingly data-driven world, student competitiveness in the upcoming decades will require that every student, regardless of his or her chosen area of specialization, will need the capacity to \n",
    "\n",
    "1. reason sensibly based on data\n",
    "2. make and interpret inferences using data\n",
    "3. understand the social and ethical implications of data\n",
    "\n",
    "The course is python-based and is administered through jupyter notebooks.\n",
    "\n",
    "<img src=\"images/jupyter_logo_518x600.png\" width=\"50\" align=\"center\">\n",
    "\n",
    "<br>\n",
    "DS4ALL is made possible by the support and generosity of multiple partners.\n",
    "<br><br>\n",
    "\n",
    "<table style=\"border: 0px solid white;\" align=\"center\">\n",
    "    <tr style=\"background:white;\" align=\"center\">\n",
    "        <td style=\"width:250px;\"><img src=\"images/UnitedHealthGroup_logo_800x400.png\" width=\"200\" align=\"center\"></td>\n",
    "        <td style=\"width:250px;\"><img src=\"images/microsoft_logo_1700x400.png\" width=\"200\" align=\"center\"></td>\n",
    "    </tr>\n",
    "    <tr style=\"background:white;\" align=\"center\">\n",
    "        <td style=\"width:250px;\"><img src=\"images/google_logo_1180x400.png\" width=\"200\" align=\"center\"></td>\n",
    "        <td style=\"width:250px;\"><img src=\"images/berkeley_logo_1280x400.png\" width=\"200\" align=\"center\"></td>\n",
    "    </tr>\n",
    "</table>\n",
    "\n",
    "\n",
    "\n",
    "<br><br><br><br>\n",
    "\n",
    "\n",
    "<table style=\"border: 0px solid white;\" align=\"center\">\n",
    "    <tr style=\"background:white;\" align=\"center\">\n",
    "        <td style=\"width:200px;border: 1px solid lightgrey;\"><img src=\"images/clark_logo_530x400.png\" width=\"120\" align=\"center\"></td>\n",
    "        <td style=\"width:200px;border: 1px solid lightgrey;\"><img src=\"images/aucc_logo_625x625.jpg\" width=\"80\" align=\"center\"></td>\n",
    "        <td style=\"width:200px;border: 1px solid lightgrey;\"><img src=\"images/morehouse_logo_970x180.png\" width=\"200\" align=\"center\"></td>\n",
    "    </tr>\n",
    "    <tr style=\"background:white;\" align=\"center\">\n",
    "        <td style=\"width:200px;border: 1px solid lightgrey;\"><img src=\"images/msm_logo_1374x300.png\" width=\"150\" align=\"center\"></td>\n",
    "        <td style=\"width:200px;border: 1px solid lightgrey;\"><img src=\"images/aucc_dsi_logo_1280x817.png\" width=\"120\" align=\"center\"></td>\n",
    "        <td style=\"width:200px;border: 1px solid lightgrey;\"><img src=\"images/spelman_logo_753x300.png\" width=\"180\" align=\"center\"></td>\n",
    "    </tr>\n",
    "</table>\n",
    "\n"
   ]
  },
  {
   "cell_type": "markdown",
   "metadata": {},
   "source": [
    "<br><br>\n",
    "\n",
    "---  \n",
    "\n",
    "## Make **index.md**\n",
    "<div style=\"color:red\">\n",
    "Run the cell block below to write the contents of the markdown cell above to the file index.md.  The existing contents of index.md will be overwritten.\n",
    "</div>\n"
   ]
  },
  {
   "cell_type": "code",
   "execution_count": 33,
   "metadata": {},
   "outputs": [
    {
     "data": {
      "text/plain": [
       "'<head>\\n  <link rel=\"shortcut icon\" type=\"image/x-icon\" href=\"images/favicon/favicon.ico\">\\n</head>\\n<!-- ![DS4ALL Logo](/images/ds4all_logo_3100x1200.png) -->\\n<img src=\"images/ds4all_logo_3100x1200.png\" width=\"200\" align=\"right\">\\n<br>\\n\\n\\n# Data Science for All\\n### *Atlanta University Center Data Science Initiative*\\n\\nThe Atlanta University Center (AUC) is comprised of 4 HBCUs: Spelman College, Morehouse College, Clark Atlanta University and The Morehouse School of Medicine.  DS4ALL is a common introductory data science course design with zero pre-requisites.\\n\\nThe overarching impetus for the course is the realization that, in an increasingly data-driven world, student competitiveness in the upcoming decades will require that every student, regardless of his or her chosen area of specialization, will need the capacity to \\n\\n1. reason sensibly based on data\\n2. make and interpret inferences using data\\n3. understand the social and ethical implications of data\\n\\nThe course is python-based and is a ...'"
      ]
     },
     "execution_count": 33,
     "metadata": {},
     "output_type": "execute_result"
    }
   ],
   "source": [
    "# *** Run this cell to build index.md ***\n",
    "\n",
    "#The markdown cell containing the contents to be written to index.md contains a metadata\n",
    "#tag 'index.md.source'.  This tag is used to search for the cell in the file index.ipynb.\n",
    "#Once found, the source tag, which contains the contents of the cell, is read as an\n",
    "#array of strings, one string per line, into a list called 'sourceArray'.  The\n",
    "#sourceArray is then joined to form one continuous string that is then written to\n",
    "#'index.md'.\n",
    "\n",
    "import json\n",
    "#read in the index.ipynb json data\n",
    "data = json.loads(open('index.ipynb', 'r').read())\n",
    "\n",
    "#retrieve the list of cells\n",
    "cells = data['cells']\n",
    "\n",
    "#search for the cell with the 'index.md.source' metadata tag\n",
    "for cell in cells:    \n",
    "    if 'index.md.source' in cell['metadata']:\n",
    "        sourceArray = (cell['source'])\n",
    "        break\n",
    "\n",
    "#join the sourceArray to create a single string\n",
    "source = ''.join(sourceArray)\n",
    "\n",
    "#write the source string to the file index.md\n",
    "outFile = open('index.md', 'w')\n",
    "outFile.write(source)\n",
    "outFile.close()\n",
    "\n",
    "#display the 1st 1000 characters\n",
    "source[:1000] + ' ...'"
   ]
  },
  {
   "cell_type": "code",
   "execution_count": null,
   "metadata": {},
   "outputs": [],
   "source": []
  }
 ],
 "metadata": {
  "kernelspec": {
   "display_name": "Python 3",
   "language": "python",
   "name": "python3"
  },
  "language_info": {
   "codemirror_mode": {
    "name": "ipython",
    "version": 3
   },
   "file_extension": ".py",
   "mimetype": "text/x-python",
   "name": "python",
   "nbconvert_exporter": "python",
   "pygments_lexer": "ipython3",
   "version": "3.6.2"
  }
 },
 "nbformat": 4,
 "nbformat_minor": 4
}
