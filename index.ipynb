{
 "cells": [
  {
   "cell_type": "code",
   "execution_count": 1,
   "metadata": {},
   "outputs": [],
   "source": [
    "source = 'index'  #the name of the source .ipynb (this file)\n",
    "target = source    #the file name of the target .md file (<target>.md)"
   ]
  },
  {
   "cell_type": "markdown",
   "metadata": {},
   "source": [
    "# **\\<target\\>.md** Builder  \n",
    "<div style=\"color:red\">\n",
    "This notebook is used to build the contents of a .md file called &lt;target&gt;.md in this writeup from the notebook named &lt;source&gt;.ipynb.  This notebook is the current notebook.  For simplicity, make a copy of this notebook and rename it so that it matches the name of the &lt;target&gt;.md file.<br><br>\n",
    "Begin by specifying the name of the source and target files in the cell above.  Run this cell.<br>\n",
    "\n",
    "The markdown cell below contains a metadata tag 'md.source'.  Use this cell to edit the contents of the &lt;target&gt;.md file.  Once the edits are complete, run the code block after the markdown cell.  This code block copies the markdown contents from the markdown cell and writes it into the file &lt;target&gt;.md, overwritting any existing content.\n",
    "</div>\n",
    "\n",
    "---\n",
    "<br>"
   ]
  },
  {
   "cell_type": "markdown",
   "metadata": {
    "md.source": true
   },
   "source": [
    "<head>\n",
    "  <link rel=\"shortcut icon\" type=\"image/x-icon\" href=\"images/favicon/favicon.ico\">\n",
    "</head>\n",
    "<!-- ![DS4ALL Logo](/images/ds4all_logo_3100x1200.png) -->\n",
    "<img src=\"images/ds4all_logo_3100x1200.png\" width=\"200\" align=\"right\">\n",
    "<br>\n",
    "\n",
    "\n",
    "# Data Science for All\n",
    "### *Atlanta University Center Data Science Initiative*\n",
    "\n",
    "The Atlanta University Center (AUC) is comprised of 4 HBCUs: Spelman College, Morehouse College, Clark Atlanta University and The Morehouse School of Medicine.  DS4ALL is a common introductory data science course design with zero pre-requisites.\n",
    "\n",
    "The overarching impetus for the course is the realization that, in an increasingly data-driven world, student competitiveness in the upcoming decades will require that every student, regardless of his or her chosen area of specialization, will need the capacity to \n",
    "\n",
    "1. reason sensibly based on data\n",
    "2. make and interpret inferences using data\n",
    "3. understand the social and ethical implications of data\n",
    "\n",
    "The course is python-based and is administered through jupyter notebooks.\n",
    "\n",
    "<img src=\"images/jupyter_logo_518x600.png\" width=\"50\" align=\"center\">\n",
    "\n",
    "<br>\n",
    "DS4ALL is made possible by the support and generosity of multiple partners.\n",
    "<br><br>\n",
    "\n",
    "<table style=\"border: 0px solid white;\" align=\"center\">\n",
    "    <tr style=\"background:white;\" align=\"center\">\n",
    "        <td style=\"width:250px;\"><img src=\"images/UnitedHealthGroup_logo_800x400.png\" width=\"200\" align=\"center\"></td>\n",
    "        <td style=\"width:250px;\"><img src=\"images/microsoft_logo_1700x400.png\" width=\"200\" align=\"center\"></td>\n",
    "    </tr>\n",
    "    <tr style=\"background:white;\" align=\"center\">\n",
    "        <td style=\"width:250px;\"><img src=\"images/google_logo_1180x400.png\" width=\"200\" align=\"center\"></td>\n",
    "        <td style=\"width:250px;\"><img src=\"images/berkeley_logo_1280x400.png\" width=\"200\" align=\"center\"></td>\n",
    "    </tr>\n",
    "</table>\n",
    "\n",
    "\n",
    "\n",
    "<br><br><br><br>\n",
    "\n",
    "\n",
    "<table style=\"border: 0px solid white;\" align=\"center\">\n",
    "    <tr style=\"background:white;\" align=\"center\">\n",
    "        <td style=\"width:200px;border: 1px solid lightgrey;\"><img src=\"images/clark_logo_530x400.png\" width=\"120\" align=\"center\"></td>\n",
    "        <td style=\"width:200px;border: 1px solid lightgrey;\"><img src=\"images/aucc_logo_625x625.jpg\" width=\"80\" align=\"center\"></td>\n",
    "        <td style=\"width:200px;border: 1px solid lightgrey;\"><img src=\"images/morehouse_logo_970x180.png\" width=\"200\" align=\"center\"></td>\n",
    "    </tr>\n",
    "    <tr style=\"background:white;\" align=\"center\">\n",
    "        <td style=\"width:200px;border: 1px solid lightgrey;\"><img src=\"images/msm_logo_1374x300.png\" width=\"150\" align=\"center\"></td>\n",
    "        <td style=\"width:200px;border: 1px solid lightgrey;\"><img src=\"images/aucc_dsi_logo_1280x817.png\" width=\"120\" align=\"center\"></td>\n",
    "        <td style=\"width:200px;border: 1px solid lightgrey;\"><img src=\"images/spelman_logo_753x300.png\" width=\"180\" align=\"center\"></td>\n",
    "    </tr>\n",
    "</table>\n"
   ]
  },
  {
   "cell_type": "markdown",
   "metadata": {},
   "source": [
    "<br><br>\n",
    "\n",
    "---  \n",
    "\n",
    "## Make **\\<target\\>.md**\n",
    "<div style=\"color:red\">\n",
    "Run the cell block below to write the contents of the markdown cell above to the file &lt;target&gt;.md.  The existing contents of &lt;target&gt;.md will be overwritten.\n",
    "</div>\n"
   ]
  },
  {
   "cell_type": "code",
   "execution_count": 2,
   "metadata": {},
   "outputs": [
    {
     "data": {
      "text/plain": [
       "'## Welcome to GitHub Pages\\n\\nYou can use the [editor on GitHub](https://github.com/ds4all/ds4all.github.io/edit/master/README.md) to maintain and preview the content for your website in Markdown files.\\n\\nWhenever you commit to this repository, GitHub Pages will run [Jekyll](https://jekyllrb.com/) to rebuild the pages in your site, from the content in your Markdown files.\\n\\n### Markdown\\n\\nMarkdown is a lightweight and easy-to-use syntax for styling your writing. It includes conventions for\\n\\n```markdown\\nSyntax highlighted code block\\n\\n# Header 1\\n## Header 2\\n### Header 3\\n\\n- Bulleted\\n- List\\n\\n1. Numbered\\n2. List\\n\\n**Bold** and _Italic_ and `Code` text\\n\\n[Link](url) and ![Image](src)\\n```\\n\\nFor more details see [GitHub Flavored Markdown](https://guides.github.com/features/mastering-markdown/).\\n\\n### Jekyll Themes\\n\\nYour Pages site will use the layout and styles from the Jekyll theme you have selected in your [repository settings](https://github.com/ds4all/ds4all.github.io/settings). The name of this th ...'"
      ]
     },
     "execution_count": 2,
     "metadata": {},
     "output_type": "execute_result"
    }
   ],
   "source": [
    "# *** Run this cell to build <target>.md ***\n",
    "\n",
    "#If you get an error, chances are you haven't run the code block that defines\n",
    "#'source' and 'target'.\n",
    "\n",
    "#The markdown cell in <source>.ipynb containing the contents to be written \n",
    "#to <target>.md. contains a metadata tag 'md.source'.  This tag is used to \n",
    "#search for the cell in the file <source>.ipynb.\n",
    "#Once found, the source tag, which contains the contents of the cell, is read as an\n",
    "#array of strings, one string per line, into a list called 'sourceArray'.  The\n",
    "#sourceArray is then joined to form one continuous string that is then written to\n",
    "#'<target>.md'.\n",
    "\n",
    "import json\n",
    "#read in the index.ipynb json data\n",
    "data = json.loads(open(source+'.ipynb', 'r').read())\n",
    "\n",
    "#retrieve the list of cells\n",
    "cells = data['cells']\n",
    "\n",
    "#search for the cell with the '.md.source' metadata tag\n",
    "for cell in cells:    \n",
    "    if 'md.source' in cell['metadata']:\n",
    "        sourceArray = (cell['source'])\n",
    "        break\n",
    "\n",
    "#join the sourceArray to create a single string\n",
    "source = ''.join(sourceArray)\n",
    "\n",
    "#write the source string to the file index.md\n",
    "outFile = open(target+'.md', 'w')\n",
    "outFile.write(source)\n",
    "outFile.close()\n",
    "\n",
    "#display the 1st 1000 characters\n",
    "source[:1000] + ' ...'"
   ]
  },
  {
   "cell_type": "code",
   "execution_count": null,
   "metadata": {},
   "outputs": [],
   "source": []
  }
 ],
 "metadata": {
  "kernelspec": {
   "display_name": "Python 3",
   "language": "python",
   "name": "python3"
  },
  "language_info": {
   "codemirror_mode": {
    "name": "ipython",
    "version": 3
   },
   "file_extension": ".py",
   "mimetype": "text/x-python",
   "name": "python",
   "nbconvert_exporter": "python",
   "pygments_lexer": "ipython3",
   "version": "3.6.2"
  }
 },
 "nbformat": 4,
 "nbformat_minor": 4
}
