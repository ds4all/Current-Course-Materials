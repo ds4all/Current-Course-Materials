{
 "cells": [
  {
   "cell_type": "markdown",
   "metadata": {},
   "source": [
    "# **&lt;target&gt;.md** Builder  \n",
    "<div style=\"color:red\">\n",
    "This notebook is used to build the contents of a .md file, called &lt;target&gt;.md in this writeup, from the notebook named &lt;source&gt;.ipynb.  &lt;source&gt;.ipynb refers to the current notebook which is a renamed copy of the template.ipynb notebook.  The copy should be renamed so that it matches the name of the &lt;target&gt;.md file.  Thus, &lt;target&gt;.ipynb --> &lt;target&gt;.md if source name = target name.<br><br>\n",
    "Begin by specifying the name of the source and target files at the top of the code cell at the end of the notebook.<br>\n",
    "\n",
    "This notebook contains 2 functional cells.  The first cell, which immediately follows, is a markdown cell containing the contents of &lt;target&gt;.md.  This cell contains a metadata tag 'md.source'.  Use this cell to edit the contents of the &lt;target&gt;.md file.\n",
    "<br><br>\n",
    "The second cell, which is the last cell in this file, is a code cell.  This code block copies the markdown contents from the markdown cell and writes it into the file &lt;target&gt;.md, overwritting any existing content.\n",
    "<br><br>\n",
    "The two cells work together to simplify the process of creating and maintaining the contents of &lt;target&gt;.md.  Edit the contents of the first cell as desired.  Once the edits are complete, **save the notebook**.  Make sure that you have updated the values of \"source\" and \"target\" in the code block.  Then, run the code block to generate or update &lt;target&gt;.md.\n",
    "\n",
    "</div>\n",
    "\n",
    "---\n",
    "<br>"
   ]
  },
  {
   "cell_type": "markdown",
   "metadata": {
    "md.source": true
   },
   "source": [
    "<head>\n",
    "  <link rel=\"shortcut icon\" type=\"image/x-icon\" href=\"images/favicon/favicon.ico\">\n",
    "</head>\n",
    "<!-- ![DS4ALL Logo](/images/ds4all_logo_3100x1200.png) -->\n",
    "<img src=\"images/ds4all_logo_3100x1200.png\" width=\"200\" align=\"right\">\n",
    "<br>\n",
    "\n",
    "\n",
    "# Data Science for All\n",
    "### *Atlanta University Center Data Science Initiative*\n",
    "\n",
    "The Atlanta University Center (AUC) is comprised of 4 HBCUs: Spelman College, Morehouse College, Clark Atlanta University and The Morehouse School of Medicine.  DS4ALL is a common introductory data science course design with zero pre-requisites.\n",
    "\n",
    "The overarching impetus for the course is the realization that, in an increasingly data-driven world, student competitiveness in the upcoming decades will require that every student, regardless of his or her chosen area of specialization, will need the capacity to \n",
    "\n",
    "1. reason sensibly based on data\n",
    "2. make and interpret inferences using data\n",
    "3. understand the social and ethical implications of data\n",
    "\n",
    "The course is python-based and is administered through jupyter notebooks.\n",
    "\n",
    "<img src=\"images/jupyter_logo_518x600.png\" width=\"50\" align=\"center\">\n",
    "\n",
    "<br>\n",
    "DS4ALL is made possible by the support and generosity of multiple partners.\n",
    "<br><br>\n",
    "\n",
    "<table style=\"border: 0px solid white;\" align=\"center\">\n",
    "    <tr style=\"background:white;\" align=\"center\">\n",
    "        <td style=\"width:250px;\"><img src=\"images/UnitedHealthGroup_logo_800x400.png\" width=\"200\" align=\"center\"></td>\n",
    "        <td style=\"width:250px;\"><img src=\"images/microsoft_logo_1700x400.png\" width=\"200\" align=\"center\"></td>\n",
    "    </tr>\n",
    "    <tr style=\"background:white;\" align=\"center\">\n",
    "        <td style=\"width:250px;\"><img src=\"images/google_logo_1180x400.png\" width=\"200\" align=\"center\"></td>\n",
    "        <td style=\"width:250px;\"><img src=\"images/berkeley_logo_1280x400.png\" width=\"200\" align=\"center\"></td>\n",
    "    </tr>\n",
    "</table>\n",
    "\n",
    "\n",
    "\n",
    "<br><br><br><br>\n",
    "\n",
    "\n",
    "<table style=\"border: 0px solid white;\" align=\"center\">\n",
    "    <tr style=\"background:white;\" align=\"center\">\n",
    "        <td style=\"width:200px;border: 1px solid lightgrey;\"><img src=\"images/clark_logo_530x400.png\" width=\"120\" align=\"center\"></td>\n",
    "        <td style=\"width:200px;border: 1px solid lightgrey;\"><img src=\"images/aucc_logo_625x625.jpg\" width=\"80\" align=\"center\"></td>\n",
    "        <td style=\"width:200px;border: 1px solid lightgrey;\"><img src=\"images/morehouse_logo_970x180.png\" width=\"200\" align=\"center\"></td>\n",
    "    </tr>\n",
    "    <tr style=\"background:white;\" align=\"center\">\n",
    "        <td style=\"width:200px;border: 1px solid lightgrey;\"><img src=\"images/msm_logo_1374x300.png\" width=\"150\" align=\"center\"></td>\n",
    "        <td style=\"width:200px;border: 1px solid lightgrey;\"><img src=\"images/aucc_dsi_logo_1280x817.png\" width=\"120\" align=\"center\"></td>\n",
    "        <td style=\"width:200px;border: 1px solid lightgrey;\"><img src=\"images/spelman_logo_753x300.png\" width=\"180\" align=\"center\"></td>\n",
    "    </tr>\n",
    "</table>\n"
   ]
  },
  {
   "cell_type": "markdown",
   "metadata": {},
   "source": [
    "<br><br>\n",
    "\n",
    "---  \n",
    "\n",
    "## Make **&lt;target&gt;.md**\n",
    "<div style=\"color:red\">\n",
    "Run the cell block below to write the contents of the markdown cell above to the file &lt;target&gt;.md.  The existing contents of &lt;target&gt;.md will be overwritten.  Make sure that you have updated the values of \"source\" and \"target\" in the code block.  It is recommended that both \"source\" and \"target\" be set to the same value.\n",
    "</div>\n",
    "\n"
   ]
  },
  {
   "cell_type": "code",
   "execution_count": 2,
   "metadata": {},
   "outputs": [
    {
     "name": "stdout",
     "output_type": "stream",
     "text": [
      "Done.\n",
      "index.ipynb --> index.md\n",
      "Mon Mar  9 09:43:55 2020\n"
     ]
    }
   ],
   "source": [
    "# *** Run this cell to build <target>.md ***\n",
    "\n",
    "source = 'index'  #the name of the source .ipynb (this file)\n",
    "target = source    #the file name of the target .md file (<target>.md)\n",
    "\n",
    "#The markdown cell in <source>.ipynb containing the contents to be written \n",
    "#to <target>.md. contains a metadata tag 'md.source'.  This tag is used to \n",
    "#search for the cell in the file <source>.ipynb.\n",
    "#Once found, the source tag, which contains the contents of the cell, is read as an\n",
    "#array of strings, one string per line, into a list called 'sourceArray'.  The\n",
    "#sourceArray is then joined to form one continuous string that is then written to\n",
    "#'<target>.md'.\n",
    "\n",
    "import json\n",
    "import time\n",
    "\n",
    "#read in the index.ipynb json data\n",
    "data = json.loads(open(source+'.ipynb', 'r').read())\n",
    "\n",
    "#retrieve the list of cells\n",
    "cells = data['cells']\n",
    "\n",
    "#search for the cell with the '.md.source' metadata tag\n",
    "for cell in cells:    \n",
    "    if 'md.source' in cell['metadata']:\n",
    "        sourceArray = (cell['source'])\n",
    "        break\n",
    "\n",
    "#join the sourceArray to create a single string\n",
    "sourceContent = ''.join(sourceArray)\n",
    "\n",
    "#write the source string to the file index.md\n",
    "outFile = open(target+'.md', 'w')\n",
    "outFile.write(sourceContent)\n",
    "outFile.close()\n",
    "\n",
    "#display a 'Done' messager\n",
    "print('Done.')\n",
    "print(source + '.ipynb --> ' + target + '.md')\n",
    "print(time.ctime())\n",
    "\n",
    "#display the 1st 1000 characters\n",
    "#source[:1000] + ' ...'"
   ]
  },
  {
   "cell_type": "code",
   "execution_count": null,
   "metadata": {},
   "outputs": [],
   "source": []
  }
 ],
 "metadata": {
  "kernelspec": {
   "display_name": "Python 3",
   "language": "python",
   "name": "python3"
  },
  "language_info": {
   "codemirror_mode": {
    "name": "ipython",
    "version": 3
   },
   "file_extension": ".py",
   "mimetype": "text/x-python",
   "name": "python",
   "nbconvert_exporter": "python",
   "pygments_lexer": "ipython3",
   "version": "3.6.2"
  }
 },
 "nbformat": 4,
 "nbformat_minor": 4
}
