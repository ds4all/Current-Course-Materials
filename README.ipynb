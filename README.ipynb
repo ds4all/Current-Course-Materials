{
 "cells": [
  {
   "cell_type": "code",
   "execution_count": 8,
   "metadata": {},
   "outputs": [],
   "source": [
    "source = 'README'  #the name of the source .ipynb (this file)\n",
    "target = source    #the file name of the target .md file (<target>.md)"
   ]
  },
  {
   "cell_type": "markdown",
   "metadata": {},
   "source": [
    "# **\\<target\\>.md** Builder  \n",
    "<div style=\"color:red\">\n",
    "This notebook is used to build the contents of a .md file called &lt;target&gt;.md in this writeup from the notebook named &lt;source&gt;.ipynb.  This notebook is the current notebook.  For simplicity, make a copy of this notebook and rename it so that it matches the name of the &lt;target&gt;.md file.<br><br>\n",
    "Begin by specifying the name of the source and target files in the cell above.  Run this cell.<br>\n",
    "\n",
    "The markdown cell below contains a metadata tag 'md.source'.  Use this cell to edit the contents of the &lt;target&gt;.md file.  Once the edits are complete, run the code block after the markdown cell.  This code block copies the markdown contents from the markdown cell and writes it into the file &lt;target&gt;.md, overwritting any existing content.\n",
    "</div>\n",
    "\n",
    "---\n",
    "<br>"
   ]
  },
  {
   "cell_type": "markdown",
   "metadata": {
    "md.source": true
   },
   "source": [
    "<div style=\"color:blue\">\n",
    "    \n",
    "## ds4all file index\n",
    "</div>\n",
    "\n",
    "---\n",
    "**index.md** - This is the landing page for the ds4all website<br>\n",
    "**index.ipynb** - Jupyter notebook used to build and edit index.md\n",
    "\n",
    "**README.md** - This file<br>\n",
    "**README.ipynb** - Jupyter notebook used to build and edit README.md\n",
    "\n",
    "**handbook.md** - Markdown file that simply redirects to the Google Doc containing the ds4all Handbook\n",
    "\n",
    "**template.ipynb** - Template notebook: replicate to create notebooks used to manage .md pages (index.ipynb and README.ipynb are instances of this notebook).\n",
    "\n"
   ]
  },
  {
   "cell_type": "markdown",
   "metadata": {},
   "source": [
    "<br><br>\n",
    "\n",
    "---  \n",
    "\n",
    "## Make **\\<target\\>.md**\n",
    "<div style=\"color:red\">\n",
    "Run the cell block below to write the contents of the markdown cell above to the file &lt;target&gt;.md.  The existing contents of &lt;target&gt;.md will be overwritten.\n",
    "</div>\n"
   ]
  },
  {
   "cell_type": "code",
   "execution_count": 9,
   "metadata": {},
   "outputs": [
    {
     "data": {
      "text/plain": [
       "'## ds4all file index\\n\\n**index.md** - This is the landing page for the ds4all website\\n**index.ipynb** - Jupyter notebook used to build and edit index.md\\n\\n**README.md** - This file\\n**README.ipynb** - Jupyter notebook used to build and edit README.md\\n\\n**handbook.md** - Markdown file that simply redirects to the Google Doc containing the ds4all Handbook\\n\\n**template.ipynb** - template notebook: replicate to create notebooks used to manage .md pages (index.ipynb and README.ipynb are instances of this notebook).\\n\\n ...'"
      ]
     },
     "execution_count": 9,
     "metadata": {},
     "output_type": "execute_result"
    }
   ],
   "source": [
    "# *** Run this cell to build <target>.md ***\n",
    "\n",
    "#If you get an error, chances are you haven't run the code block that defines\n",
    "#'source' and 'target'.\n",
    "\n",
    "#The markdown cell in <source>.ipynb containing the contents to be written \n",
    "#to <target>.md. contains a metadata tag 'md.source'.  This tag is used to \n",
    "#search for the cell in the file <source>.ipynb.\n",
    "#Once found, the source tag, which contains the contents of the cell, is read as an\n",
    "#array of strings, one string per line, into a list called 'sourceArray'.  The\n",
    "#sourceArray is then joined to form one continuous string that is then written to\n",
    "#'<target>.md'.\n",
    "\n",
    "import json\n",
    "#read in the index.ipynb json data\n",
    "data = json.loads(open(source+'.ipynb', 'r').read())\n",
    "\n",
    "#retrieve the list of cells\n",
    "cells = data['cells']\n",
    "\n",
    "#search for the cell with the '.md.source' metadata tag\n",
    "for cell in cells:    \n",
    "    if 'md.source' in cell['metadata']:\n",
    "        sourceArray = (cell['source'])\n",
    "        break\n",
    "\n",
    "#join the sourceArray to create a single string\n",
    "source = ''.join(sourceArray)\n",
    "\n",
    "#write the source string to the file index.md\n",
    "outFile = open(target+'.md', 'w')\n",
    "outFile.write(source)\n",
    "outFile.close()\n",
    "\n",
    "#display the 1st 1000 characters\n",
    "source[:1000] + ' ...'"
   ]
  },
  {
   "cell_type": "code",
   "execution_count": null,
   "metadata": {},
   "outputs": [],
   "source": []
  }
 ],
 "metadata": {
  "kernelspec": {
   "display_name": "Python 3",
   "language": "python",
   "name": "python3"
  },
  "language_info": {
   "codemirror_mode": {
    "name": "ipython",
    "version": 3
   },
   "file_extension": ".py",
   "mimetype": "text/x-python",
   "name": "python",
   "nbconvert_exporter": "python",
   "pygments_lexer": "ipython3",
   "version": "3.6.2"
  }
 },
 "nbformat": 4,
 "nbformat_minor": 4
}
