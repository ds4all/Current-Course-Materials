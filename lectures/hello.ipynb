{
 "cells": [
  {
   "cell_type": "markdown",
   "metadata": {},
   "source": [
    "<a href=\"http://ds4all.aucenter.edu\"><img src=\"../images/ds4all_logo.png\" width=\"120\" align=\"right\"></a>\n",
    "\n",
    "\n",
    "Hello!\n",
    "===============\n",
    "<br>\n",
    "\n",
    "<p align=\"left\" style='color:blue; font-family:\"Cambria\"; font-size:20pt; margin:0; line-height:1.0; padding-bottom:0; padding-top:0; text-align:left; page-break-after:avoid; font-weight:500; '>If you are reading this message, you have successfully connected to the AUC DS4ALL JupyterHub Server.</p>\n",
    " \n",
    "<br><br>\n",
    "\n",
    "-------------------\n",
    "\n",
    "\n",
    "\n",
    "Link to [Course Materials](http://ds4all.aucenter.edu/course_materials).\n",
    "\n"
   ]
  },
  {
   "cell_type": "code",
   "execution_count": null,
   "metadata": {},
   "outputs": [],
   "source": []
  }
 ],
 "metadata": {
  "kernelspec": {
   "display_name": "Python 3",
   "language": "python",
   "name": "python3"
  },
  "language_info": {
   "codemirror_mode": {
    "name": "ipython",
    "version": 3
   },
   "file_extension": ".py",
   "mimetype": "text/x-python",
   "name": "python",
   "nbconvert_exporter": "python",
   "pygments_lexer": "ipython3",
   "version": "3.6.8"
  },
  "widgets": {
   "application/vnd.jupyter.widget-state+json": {
    "state": {},
    "version_major": 2,
    "version_minor": 0
   }
  }
 },
 "nbformat": 4,
 "nbformat_minor": 4
}
