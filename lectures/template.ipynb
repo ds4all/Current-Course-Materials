{
 "cells": [
  {
   "cell_type": "markdown",
   "metadata": {},
   "source": [
    "<a href=\"http://ds4all.aucenter.edu\"><img src=\"../images/ds4all_logo.png\" width=\"120\" align=\"right\"></a>\n",
    "\n",
    "\n",
    "Example Heading\n",
    "===============\n",
    "\n",
    "Example Sub-heading\n",
    "-------------------\n",
    "\n",
    "Paragraphs are separated by a blank line.\n",
    "\n",
    "Two spaces at the end of a line  \n",
    "produces a line break.\n",
    "\n",
    "Examples of text attributes _italic_, **bold**, `monospace`, ~~strikethrough~~.\n",
    "\n",
    "Horizontal rule:\n",
    "\n",
    "---\n",
    "\n",
    "Example Bullet List:\n",
    "\n",
    "  * apples\n",
    "  * oranges\n",
    "  * pears\n",
    "\n",
    "Example Numbered List:\n",
    "\n",
    "  1. lather\n",
    "  2. rinse\n",
    "  3. repeat\n",
    "\n",
    "Link to [Course Website](http://ds4all.aucenter.edu).\n",
    "\n"
   ]
  },
  {
   "cell_type": "code",
   "execution_count": null,
   "metadata": {},
   "outputs": [],
   "source": []
  }
 ],
 "metadata": {
  "kernelspec": {
   "display_name": "Python 3",
   "language": "python",
   "name": "python3"
  },
  "language_info": {
   "codemirror_mode": {
    "name": "ipython",
    "version": 3
   },
   "file_extension": ".py",
   "mimetype": "text/x-python",
   "name": "python",
   "nbconvert_exporter": "python",
   "pygments_lexer": "ipython3",
   "version": "3.6.8"
  },
  "widgets": {
   "application/vnd.jupyter.widget-state+json": {
    "state": {},
    "version_major": 2,
    "version_minor": 0
   }
  }
 },
 "nbformat": 4,
 "nbformat_minor": 4
}
