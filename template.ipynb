{
 "cells": [
  {
   "cell_type": "code",
   "execution_count": 5,
   "metadata": {},
   "outputs": [],
   "source": [
    "source = 'template'  #the name of the source .ipynb (this file)\n",
    "target = source    #the file name of the target .md file (<target>.md)"
   ]
  },
  {
   "cell_type": "markdown",
   "metadata": {},
   "source": [
    "# **\\<target\\>.md** Builder  \n",
    "<div style=\"color:red\">\n",
    "This notebook is used to build the contents of a .md file called &lt;target&gt;.md in this writeup from the notebook named &lt;source&gt;.ipynb.  This notebook is the current notebook.  For simplicity, make a copy of this notebook and rename it so that it matches the name of the &lt;target&gt;.md file.<br><br>\n",
    "Begin by specifying the name of the source and target files in the cell above.  Run this cell.<br>\n",
    "\n",
    "The markdown cell below contains a metadata tag 'md.source'.  Use this cell to edit the contents of the &lt;target&gt;.md file.  Once the edits are complete, run the code block after the markdown cell.  This code block copies the markdown contents from the markdown cell and writes it into the file &lt;target&gt;.md, overwritting any existing content.\n",
    "</div>\n",
    "\n",
    "---\n",
    "<br>"
   ]
  },
  {
   "cell_type": "markdown",
   "metadata": {
    "md.source": true
   },
   "source": [
    "## Welcome to GitHub Pages\n",
    "\n",
    "You can use the [editor on GitHub](https://github.com/ds4all/ds4all.github.io/edit/master/README.md) to maintain and preview the content for your website in Markdown files.\n",
    "\n",
    "Whenever you commit to this repository, GitHub Pages will run [Jekyll](https://jekyllrb.com/) to rebuild the pages in your site, from the content in your Markdown files.\n",
    "\n",
    "### Markdown\n",
    "\n",
    "Markdown is a lightweight and easy-to-use syntax for styling your writing. It includes conventions for\n",
    "\n",
    "```markdown\n",
    "Syntax highlighted code block\n",
    "\n",
    "# Header 1\n",
    "## Header 2\n",
    "### Header 3\n",
    "\n",
    "- Bulleted\n",
    "- List\n",
    "\n",
    "1. Numbered\n",
    "2. List\n",
    "\n",
    "**Bold** and _Italic_ and `Code` text\n",
    "\n",
    "[Link](url) and ![Image](src)\n",
    "```\n",
    "\n",
    "For more details see [GitHub Flavored Markdown](https://guides.github.com/features/mastering-markdown/).\n",
    "\n",
    "### Jekyll Themes\n",
    "\n",
    "Your Pages site will use the layout and styles from the Jekyll theme you have selected in your [repository settings](https://github.com/ds4all/ds4all.github.io/settings). The name of this theme is saved in the Jekyll `_config.yml` configuration file.\n",
    "\n",
    "### Support or Contact\n",
    "\n",
    "Having trouble with Pages? Check out our [documentation](https://help.github.com/categories/github-pages-basics/) or [contact support](https://github.com/contact) and we’ll help you sort it out."
   ]
  },
  {
   "cell_type": "markdown",
   "metadata": {},
   "source": [
    "<br><br>\n",
    "\n",
    "---  \n",
    "\n",
    "## Make **\\<target\\>.md**\n",
    "<div style=\"color:red\">\n",
    "Run the cell block below to write the contents of the markdown cell above to the file &lt;target&gt;.md.  The existing contents of &lt;target&gt;.md will be overwritten.\n",
    "</div>\n"
   ]
  },
  {
   "cell_type": "code",
   "execution_count": 6,
   "metadata": {},
   "outputs": [
    {
     "data": {
      "text/plain": [
       "'## Welcome to GitHub Pages\\n\\nYou can use the [editor on GitHub](https://github.com/ds4all/ds4all.github.io/edit/master/README.md) to maintain and preview the content for your website in Markdown files.\\n\\nWhenever you commit to this repository, GitHub Pages will run [Jekyll](https://jekyllrb.com/) to rebuild the pages in your site, from the content in your Markdown files.\\n\\n### Markdown\\n\\nMarkdown is a lightweight and easy-to-use syntax for styling your writing. It includes conventions for\\n\\n```markdown\\nSyntax highlighted code block\\n\\n# Header 1\\n## Header 2\\n### Header 3\\n\\n- Bulleted\\n- List\\n\\n1. Numbered\\n2. List\\n\\n**Bold** and _Italic_ and `Code` text\\n\\n[Link](url) and ![Image](src)\\n```\\n\\nFor more details see [GitHub Flavored Markdown](https://guides.github.com/features/mastering-markdown/).\\n\\n### Jekyll Themes\\n\\nYour Pages site will use the layout and styles from the Jekyll theme you have selected in your [repository settings](https://github.com/ds4all/ds4all.github.io/settings). The name of this th ...'"
      ]
     },
     "execution_count": 6,
     "metadata": {},
     "output_type": "execute_result"
    }
   ],
   "source": [
    "# *** Run this cell to build <target>.md ***\n",
    "\n",
    "#If you get an error, chances are you haven't run the code block that defines\n",
    "#'source' and 'target'.\n",
    "\n",
    "#The markdown cell in <source>.ipynb containing the contents to be written \n",
    "#to <target>.md. contains a metadata tag 'md.source'.  This tag is used to \n",
    "#search for the cell in the file <source>.ipynb.\n",
    "#Once found, the source tag, which contains the contents of the cell, is read as an\n",
    "#array of strings, one string per line, into a list called 'sourceArray'.  The\n",
    "#sourceArray is then joined to form one continuous string that is then written to\n",
    "#'<target>.md'.\n",
    "\n",
    "import json\n",
    "#read in the index.ipynb json data\n",
    "data = json.loads(open(source+'.ipynb', 'r').read())\n",
    "\n",
    "#retrieve the list of cells\n",
    "cells = data['cells']\n",
    "\n",
    "#search for the cell with the '.md.source' metadata tag\n",
    "for cell in cells:    \n",
    "    if 'md.source' in cell['metadata']:\n",
    "        sourceArray = (cell['source'])\n",
    "        break\n",
    "\n",
    "#join the sourceArray to create a single string\n",
    "source = ''.join(sourceArray)\n",
    "\n",
    "#write the source string to the file index.md\n",
    "outFile = open(target+'.md', 'w')\n",
    "outFile.write(source)\n",
    "outFile.close()\n",
    "\n",
    "#display the 1st 1000 characters\n",
    "source[:1000] + ' ...'"
   ]
  },
  {
   "cell_type": "code",
   "execution_count": null,
   "metadata": {},
   "outputs": [],
   "source": []
  }
 ],
 "metadata": {
  "kernelspec": {
   "display_name": "Python 3",
   "language": "python",
   "name": "python3"
  },
  "language_info": {
   "codemirror_mode": {
    "name": "ipython",
    "version": 3
   },
   "file_extension": ".py",
   "mimetype": "text/x-python",
   "name": "python",
   "nbconvert_exporter": "python",
   "pygments_lexer": "ipython3",
   "version": "3.6.2"
  }
 },
 "nbformat": 4,
 "nbformat_minor": 4
}
